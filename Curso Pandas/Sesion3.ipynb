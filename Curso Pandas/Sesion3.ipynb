{
 "cells": [
  {
   "cell_type": "code",
   "execution_count": 1,
   "metadata": {},
   "outputs": [],
   "source": [
    "import pandas as pd\n",
    "\n",
    "trucks = pd.read_csv('truck_event_text_partition.csv', index_col = 0)"
   ]
  },
  {
   "cell_type": "code",
   "execution_count": 2,
   "metadata": {},
   "outputs": [
    {
     "data": {
      "text/plain": [
       "Index(['driverId', 'truckId', 'eventTime', 'eventType', 'longitude',\n",
       "       'latitude', 'eventKey', 'CorrelationId', 'driverName', 'routeId',\n",
       "       'routeName', 'eventDate'],\n",
       "      dtype='object')"
      ]
     },
     "execution_count": 2,
     "metadata": {},
     "output_type": "execute_result"
    }
   ],
   "source": [
    "trucks.columns"
   ]
  },
  {
   "cell_type": "code",
   "execution_count": 4,
   "metadata": {},
   "outputs": [
    {
     "data": {
      "text/plain": [
       "count    17075.000000\n",
       "mean        21.043104\n",
       "std          6.612549\n",
       "min         10.000000\n",
       "25%         15.000000\n",
       "50%         21.000000\n",
       "75%         27.000000\n",
       "max         32.000000\n",
       "Name: driverId, dtype: float64"
      ]
     },
     "execution_count": 4,
     "metadata": {},
     "output_type": "execute_result"
    }
   ],
   "source": [
    "trucks.driverId.describe()"
   ]
  },
  {
   "cell_type": "code",
   "execution_count": 5,
   "metadata": {},
   "outputs": [
    {
     "data": {
      "text/plain": [
       "count             17075\n",
       "unique                4\n",
       "top       2016-06-02-20\n",
       "freq               8681\n",
       "Name: eventDate, dtype: object"
      ]
     },
     "execution_count": 5,
     "metadata": {},
     "output_type": "execute_result"
    }
   ],
   "source": [
    "trucks.eventDate.describe()"
   ]
  },
  {
   "cell_type": "code",
   "execution_count": 7,
   "metadata": {},
   "outputs": [
    {
     "data": {
      "text/plain": [
       "-91.79831625182845"
      ]
     },
     "execution_count": 7,
     "metadata": {},
     "output_type": "execute_result"
    }
   ],
   "source": [
    "trucks.longitude.mean()"
   ]
  },
  {
   "cell_type": "code",
   "execution_count": 18,
   "metadata": {},
   "outputs": [
    {
     "data": {
      "text/plain": [
       "-91.38"
      ]
     },
     "execution_count": 18,
     "metadata": {},
     "output_type": "execute_result"
    }
   ],
   "source": [
    "### 0_o\n",
    "\n",
    "trucks.longitude.median()"
   ]
  },
  {
   "cell_type": "code",
   "execution_count": 8,
   "metadata": {},
   "outputs": [
    {
     "data": {
      "text/plain": [
       "array(['Adis Cesir', 'Grant Liu', 'Mark Lochbihler', 'Jamie Engesser',\n",
       "       'Nadeem Asghar', 'Adam Diaz', 'Chris Harris', 'Ryan Templeton',\n",
       "       'Eric Mizell', 'Olivier Renault', 'Rohit Bakshi', 'Tom McCuch',\n",
       "       'Rommel Garcia', 'Jean-Philippe Player', 'Don Hilborn',\n",
       "       'Teddy Choi', 'Ajay Singh', 'Michael Aube', 'Jeff Markham',\n",
       "       'Joe Niemiec', 'George Vetticaden', 'Dan Rice', 'Paul Codding'],\n",
       "      dtype=object)"
      ]
     },
     "execution_count": 8,
     "metadata": {},
     "output_type": "execute_result"
    }
   ],
   "source": [
    "## Para mirar los valores únicos\n",
    "\n",
    "trucks.driverName.unique()"
   ]
  },
  {
   "cell_type": "code",
   "execution_count": 9,
   "metadata": {},
   "outputs": [
    {
     "data": {
      "text/plain": [
       "Grant Liu               751\n",
       "Teddy Choi              750\n",
       "Nadeem Asghar           749\n",
       "Jeff Markham            748\n",
       "Eric Mizell             748\n",
       "Rommel Garcia           747\n",
       "Ryan Templeton          747\n",
       "Adis Cesir              746\n",
       "Joe Niemiec             746\n",
       "Paul Codding            746\n",
       "Chris Harris            746\n",
       "Adam Diaz               745\n",
       "Tom McCuch              745\n",
       "Don Hilborn             745\n",
       "Ajay Singh              745\n",
       "Olivier Renault         744\n",
       "Michael Aube            744\n",
       "Jean-Philippe Player    743\n",
       "Mark Lochbihler         742\n",
       "Dan Rice                741\n",
       "Rohit Bakshi            741\n",
       "George Vetticaden       730\n",
       "Jamie Engesser          686\n",
       "Name: driverName, dtype: int64"
      ]
     },
     "execution_count": 9,
     "metadata": {},
     "output_type": "execute_result"
    }
   ],
   "source": [
    "## Para obtener lista de valores únicos y número de ocurrencias: VALUE_COUNTS()\n",
    "\n",
    "trucks.driverName.value_counts()"
   ]
  },
  {
   "cell_type": "code",
   "execution_count": 12,
   "metadata": {},
   "outputs": [
    {
     "data": {
      "text/plain": [
       "0       -30.42448\n",
       "1       -39.42448\n",
       "2        49.57552\n",
       "3        18.57552\n",
       "4        31.57552\n",
       "           ...   \n",
       "17070   -28.42448\n",
       "17071    -9.42448\n",
       "17072    -6.42448\n",
       "17073   -16.42448\n",
       "17074    44.57552\n",
       "Name: truckId, Length: 17075, dtype: float64"
      ]
     },
     "execution_count": 12,
     "metadata": {},
     "output_type": "execute_result"
    }
   ],
   "source": [
    "### MAP ####\n",
    "\n",
    "\n",
    "media = trucks.truckId.mean()\n",
    "\n",
    "trucks.truckId.map(lambda x: x - media)"
   ]
  },
  {
   "cell_type": "code",
   "execution_count": 13,
   "metadata": {},
   "outputs": [
    {
     "data": {
      "text/plain": [
       "\"def remean_points(row):\\n    row.points = row.points - review_points_mean\\n    return row\\n\\nreviews.apply(remean_points, axis='columns')\""
      ]
     },
     "execution_count": 13,
     "metadata": {},
     "output_type": "execute_result"
    }
   ],
   "source": [
    "### APPLY\n",
    "\n",
    "'''def remean_points(row):\n",
    "    row.points = row.points - review_points_mean\n",
    "    return row\n",
    "\n",
    "reviews.apply(remean_points, axis='columns')'''"
   ]
  },
  {
   "cell_type": "code",
   "execution_count": 17,
   "metadata": {},
   "outputs": [
    {
     "data": {
      "text/plain": [
       "0                      Adis Cesir - Adis Cesir\n",
       "1                        Grant Liu - Grant Liu\n",
       "2            Mark Lochbihler - Mark Lochbihler\n",
       "3              Jamie Engesser - Jamie Engesser\n",
       "4                Nadeem Asghar - Nadeem Asghar\n",
       "                         ...                  \n",
       "17070          Jamie Engesser - Jamie Engesser\n",
       "17071                  Tom McCuch - Tom McCuch\n",
       "17072                    Grant Liu - Grant Liu\n",
       "17073    George Vetticaden - George Vetticaden\n",
       "17074                  Ajay Singh - Ajay Singh\n",
       "Name: driverName, Length: 17075, dtype: object"
      ]
     },
     "execution_count": 17,
     "metadata": {},
     "output_type": "execute_result"
    }
   ],
   "source": [
    "trucks.driverName + ' - ' + trucks.driverName\n",
    "\n",
    "### solo puede concatenar strings"
   ]
  },
  {
   "cell_type": "code",
   "execution_count": 19,
   "metadata": {},
   "outputs": [],
   "source": [
    "## IDXMAX() para obtener el índice del valor máximo\n",
    "\n",
    "truckId_max = trucks.truckId.idxmax()"
   ]
  },
  {
   "cell_type": "code",
   "execution_count": 20,
   "metadata": {},
   "outputs": [
    {
     "data": {
      "text/plain": [
       "driverName    Jeff Markham\n",
       "Name: 29, dtype: object"
      ]
     },
     "execution_count": 20,
     "metadata": {},
     "output_type": "execute_result"
    }
   ],
   "source": [
    "trucks.loc[truckId_max, ['driverName']]"
   ]
  },
  {
   "cell_type": "code",
   "execution_count": 21,
   "metadata": {},
   "outputs": [
    {
     "data": {
      "text/plain": [
       "'n_trop = reviews.description.map(lambda desc: \"tropical\" in desc).sum()\\n\\nn_fruity = reviews.description.map(lambda desc: \"fruity\" in desc).sum()\\n\\ndescriptor_counts = pd.Series([n_trop, n_fruity], index=[\\'tropical\\', \\'fruity\\'])'"
      ]
     },
     "execution_count": 21,
     "metadata": {},
     "output_type": "execute_result"
    }
   ],
   "source": [
    "## Ejercicio de contac cuántas veces aparecían dos palabras en la descripción de un vino\n",
    "\n",
    "'''n_trop = reviews.description.map(lambda desc: \"tropical\" in desc).sum()\n",
    "\n",
    "n_fruity = reviews.description.map(lambda desc: \"fruity\" in desc).sum()\n",
    "\n",
    "descriptor_counts = pd.Series([n_trop, n_fruity], index=['tropical', 'fruity'])'''"
   ]
  },
  {
   "cell_type": "code",
   "execution_count": null,
   "metadata": {},
   "outputs": [],
   "source": []
  }
 ],
 "metadata": {
  "kernelspec": {
   "display_name": "Python 3",
   "language": "python",
   "name": "python3"
  },
  "language_info": {
   "codemirror_mode": {
    "name": "ipython",
    "version": 3
   },
   "file_extension": ".py",
   "mimetype": "text/x-python",
   "name": "python",
   "nbconvert_exporter": "python",
   "pygments_lexer": "ipython3",
   "version": "3.7.4"
  }
 },
 "nbformat": 4,
 "nbformat_minor": 2
}
