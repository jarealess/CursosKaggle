{
 "cells": [
  {
   "cell_type": "markdown",
   "metadata": {},
   "source": [
    "# Trabajo Final (CRP): Estrategia de Retención de Clientes\n",
    "\n",
    "\n",
    "Base de datos de [Telco Customer Churn](https://www.kaggle.com/blastchar/telco-customer-churn). "
   ]
  },
  {
   "cell_type": "markdown",
   "metadata": {},
   "source": [
    "Procedemos a importar las librerías a utilizar y llamamos la base de datos:"
   ]
  },
  {
   "cell_type": "code",
   "execution_count": 1,
   "metadata": {},
   "outputs": [],
   "source": [
    "## librerías\n",
    "import pandas as pd\n",
    "import numpy as np\n",
    "import seaborn as sns\n",
    "import matplotlib.pyplot as plt\n",
    "\n",
    "## Lectura base de datos\n",
    "data = pd.read_csv('WA_Fn-UseC_-Telco-Customer-Churn.csv')"
   ]
  },
  {
   "cell_type": "markdown",
   "metadata": {},
   "source": [
    "### Exploración de la base de datos"
   ]
  },
  {
   "cell_type": "markdown",
   "metadata": {},
   "source": [
    "A continuación análizamos las características de nuestra base de datos buscando describir cómo se relaciona cada columna con la columna objetivo e identificar qué tan relevante puede ser cada características en los posteriores procesos de clusterización y clasificación. "
   ]
  },
  {
   "cell_type": "code",
   "execution_count": 2,
   "metadata": {},
   "outputs": [
    {
     "name": "stdout",
     "output_type": "stream",
     "text": [
      "La base de datos contiene 7043 registros y 21 columnas.\n"
     ]
    },
    {
     "data": {
      "text/html": [
       "<div>\n",
       "<style scoped>\n",
       "    .dataframe tbody tr th:only-of-type {\n",
       "        vertical-align: middle;\n",
       "    }\n",
       "\n",
       "    .dataframe tbody tr th {\n",
       "        vertical-align: top;\n",
       "    }\n",
       "\n",
       "    .dataframe thead th {\n",
       "        text-align: right;\n",
       "    }\n",
       "</style>\n",
       "<table border=\"1\" class=\"dataframe\">\n",
       "  <thead>\n",
       "    <tr style=\"text-align: right;\">\n",
       "      <th></th>\n",
       "      <th>customerID</th>\n",
       "      <th>gender</th>\n",
       "      <th>SeniorCitizen</th>\n",
       "      <th>Partner</th>\n",
       "      <th>Dependents</th>\n",
       "      <th>tenure</th>\n",
       "      <th>PhoneService</th>\n",
       "      <th>MultipleLines</th>\n",
       "      <th>InternetService</th>\n",
       "      <th>OnlineSecurity</th>\n",
       "      <th>...</th>\n",
       "      <th>DeviceProtection</th>\n",
       "      <th>TechSupport</th>\n",
       "      <th>StreamingTV</th>\n",
       "      <th>StreamingMovies</th>\n",
       "      <th>Contract</th>\n",
       "      <th>PaperlessBilling</th>\n",
       "      <th>PaymentMethod</th>\n",
       "      <th>MonthlyCharges</th>\n",
       "      <th>TotalCharges</th>\n",
       "      <th>Churn</th>\n",
       "    </tr>\n",
       "  </thead>\n",
       "  <tbody>\n",
       "    <tr>\n",
       "      <td>0</td>\n",
       "      <td>7590-VHVEG</td>\n",
       "      <td>Female</td>\n",
       "      <td>0</td>\n",
       "      <td>Yes</td>\n",
       "      <td>No</td>\n",
       "      <td>1</td>\n",
       "      <td>No</td>\n",
       "      <td>No phone service</td>\n",
       "      <td>DSL</td>\n",
       "      <td>No</td>\n",
       "      <td>...</td>\n",
       "      <td>No</td>\n",
       "      <td>No</td>\n",
       "      <td>No</td>\n",
       "      <td>No</td>\n",
       "      <td>Month-to-month</td>\n",
       "      <td>Yes</td>\n",
       "      <td>Electronic check</td>\n",
       "      <td>29.85</td>\n",
       "      <td>29.85</td>\n",
       "      <td>No</td>\n",
       "    </tr>\n",
       "    <tr>\n",
       "      <td>1</td>\n",
       "      <td>5575-GNVDE</td>\n",
       "      <td>Male</td>\n",
       "      <td>0</td>\n",
       "      <td>No</td>\n",
       "      <td>No</td>\n",
       "      <td>34</td>\n",
       "      <td>Yes</td>\n",
       "      <td>No</td>\n",
       "      <td>DSL</td>\n",
       "      <td>Yes</td>\n",
       "      <td>...</td>\n",
       "      <td>Yes</td>\n",
       "      <td>No</td>\n",
       "      <td>No</td>\n",
       "      <td>No</td>\n",
       "      <td>One year</td>\n",
       "      <td>No</td>\n",
       "      <td>Mailed check</td>\n",
       "      <td>56.95</td>\n",
       "      <td>1889.5</td>\n",
       "      <td>No</td>\n",
       "    </tr>\n",
       "    <tr>\n",
       "      <td>2</td>\n",
       "      <td>3668-QPYBK</td>\n",
       "      <td>Male</td>\n",
       "      <td>0</td>\n",
       "      <td>No</td>\n",
       "      <td>No</td>\n",
       "      <td>2</td>\n",
       "      <td>Yes</td>\n",
       "      <td>No</td>\n",
       "      <td>DSL</td>\n",
       "      <td>Yes</td>\n",
       "      <td>...</td>\n",
       "      <td>No</td>\n",
       "      <td>No</td>\n",
       "      <td>No</td>\n",
       "      <td>No</td>\n",
       "      <td>Month-to-month</td>\n",
       "      <td>Yes</td>\n",
       "      <td>Mailed check</td>\n",
       "      <td>53.85</td>\n",
       "      <td>108.15</td>\n",
       "      <td>Yes</td>\n",
       "    </tr>\n",
       "    <tr>\n",
       "      <td>3</td>\n",
       "      <td>7795-CFOCW</td>\n",
       "      <td>Male</td>\n",
       "      <td>0</td>\n",
       "      <td>No</td>\n",
       "      <td>No</td>\n",
       "      <td>45</td>\n",
       "      <td>No</td>\n",
       "      <td>No phone service</td>\n",
       "      <td>DSL</td>\n",
       "      <td>Yes</td>\n",
       "      <td>...</td>\n",
       "      <td>Yes</td>\n",
       "      <td>Yes</td>\n",
       "      <td>No</td>\n",
       "      <td>No</td>\n",
       "      <td>One year</td>\n",
       "      <td>No</td>\n",
       "      <td>Bank transfer (automatic)</td>\n",
       "      <td>42.30</td>\n",
       "      <td>1840.75</td>\n",
       "      <td>No</td>\n",
       "    </tr>\n",
       "    <tr>\n",
       "      <td>4</td>\n",
       "      <td>9237-HQITU</td>\n",
       "      <td>Female</td>\n",
       "      <td>0</td>\n",
       "      <td>No</td>\n",
       "      <td>No</td>\n",
       "      <td>2</td>\n",
       "      <td>Yes</td>\n",
       "      <td>No</td>\n",
       "      <td>Fiber optic</td>\n",
       "      <td>No</td>\n",
       "      <td>...</td>\n",
       "      <td>No</td>\n",
       "      <td>No</td>\n",
       "      <td>No</td>\n",
       "      <td>No</td>\n",
       "      <td>Month-to-month</td>\n",
       "      <td>Yes</td>\n",
       "      <td>Electronic check</td>\n",
       "      <td>70.70</td>\n",
       "      <td>151.65</td>\n",
       "      <td>Yes</td>\n",
       "    </tr>\n",
       "  </tbody>\n",
       "</table>\n",
       "<p>5 rows × 21 columns</p>\n",
       "</div>"
      ],
      "text/plain": [
       "   customerID  gender  SeniorCitizen Partner Dependents  tenure PhoneService  \\\n",
       "0  7590-VHVEG  Female              0     Yes         No       1           No   \n",
       "1  5575-GNVDE    Male              0      No         No      34          Yes   \n",
       "2  3668-QPYBK    Male              0      No         No       2          Yes   \n",
       "3  7795-CFOCW    Male              0      No         No      45           No   \n",
       "4  9237-HQITU  Female              0      No         No       2          Yes   \n",
       "\n",
       "      MultipleLines InternetService OnlineSecurity  ... DeviceProtection  \\\n",
       "0  No phone service             DSL             No  ...               No   \n",
       "1                No             DSL            Yes  ...              Yes   \n",
       "2                No             DSL            Yes  ...               No   \n",
       "3  No phone service             DSL            Yes  ...              Yes   \n",
       "4                No     Fiber optic             No  ...               No   \n",
       "\n",
       "  TechSupport StreamingTV StreamingMovies        Contract PaperlessBilling  \\\n",
       "0          No          No              No  Month-to-month              Yes   \n",
       "1          No          No              No        One year               No   \n",
       "2          No          No              No  Month-to-month              Yes   \n",
       "3         Yes          No              No        One year               No   \n",
       "4          No          No              No  Month-to-month              Yes   \n",
       "\n",
       "               PaymentMethod MonthlyCharges  TotalCharges Churn  \n",
       "0           Electronic check          29.85         29.85    No  \n",
       "1               Mailed check          56.95        1889.5    No  \n",
       "2               Mailed check          53.85        108.15   Yes  \n",
       "3  Bank transfer (automatic)          42.30       1840.75    No  \n",
       "4           Electronic check          70.70        151.65   Yes  \n",
       "\n",
       "[5 rows x 21 columns]"
      ]
     },
     "execution_count": 2,
     "metadata": {},
     "output_type": "execute_result"
    }
   ],
   "source": [
    "## Tamaño de la base de datos\n",
    "print(\"La base de datos contiene {} registros y {} columnas.\".format(data.shape[0], data.shape[1]))\n",
    "\n",
    "## Primeros 5 regustros\n",
    "data.head()"
   ]
  },
  {
   "cell_type": "markdown",
   "metadata": {},
   "source": [
    "Las columnas de la base de datos seleccionada contiene atributos del siguiente tipo:"
   ]
  },
  {
   "cell_type": "code",
   "execution_count": 3,
   "metadata": {},
   "outputs": [
    {
     "name": "stdout",
     "output_type": "stream",
     "text": [
      "<class 'pandas.core.frame.DataFrame'>\n",
      "RangeIndex: 7043 entries, 0 to 7042\n",
      "Data columns (total 21 columns):\n",
      "customerID          7043 non-null object\n",
      "gender              7043 non-null object\n",
      "SeniorCitizen       7043 non-null int64\n",
      "Partner             7043 non-null object\n",
      "Dependents          7043 non-null object\n",
      "tenure              7043 non-null int64\n",
      "PhoneService        7043 non-null object\n",
      "MultipleLines       7043 non-null object\n",
      "InternetService     7043 non-null object\n",
      "OnlineSecurity      7043 non-null object\n",
      "OnlineBackup        7043 non-null object\n",
      "DeviceProtection    7043 non-null object\n",
      "TechSupport         7043 non-null object\n",
      "StreamingTV         7043 non-null object\n",
      "StreamingMovies     7043 non-null object\n",
      "Contract            7043 non-null object\n",
      "PaperlessBilling    7043 non-null object\n",
      "PaymentMethod       7043 non-null object\n",
      "MonthlyCharges      7043 non-null float64\n",
      "TotalCharges        7043 non-null object\n",
      "Churn               7043 non-null object\n",
      "dtypes: float64(1), int64(2), object(18)\n",
      "memory usage: 1.1+ MB\n"
     ]
    }
   ],
   "source": [
    "## tipo de objeto de c/característica:\n",
    "data.info()"
   ]
  },
  {
   "cell_type": "markdown",
   "metadata": {},
   "source": [
    "Donde podemos observar que las columnas *SeniorCitizen*, *Tenure* y *MonthlyCharges* son de tipo numérico (int, float), mientras que las demás son de tipo 'object'. El tipo de la columa *TotalCharges* debería ser 'float', sin embargo está siendo leído como 'object'; más adelante en este notebook haremos las correcciones necesarias.\n",
    "\n",
    "Por otro lado, la tabla anterios nos muestra que no existen valores nulos en ninguna de las columnas de la base de datos, puesto que el conteo de no nulos (non-null) es igual a la cantidad de registros."
   ]
  },
  {
   "cell_type": "markdown",
   "metadata": {},
   "source": [
    "La columna *CustomerID* es de tipo alfa-numerica y presenta un valor único para los 7043 registros de la base de datos, además de que no es relevante para el proceso de clasificación, por lo que podemos ignorar esta característica. "
   ]
  },
  {
   "cell_type": "markdown",
   "metadata": {},
   "source": [
    "#### Churn distribution"
   ]
  },
  {
   "cell_type": "code",
   "execution_count": 4,
   "metadata": {},
   "outputs": [
    {
     "data": {
      "text/plain": [
       "<matplotlib.axes._subplots.AxesSubplot at 0xb0e9bc8>"
      ]
     },
     "execution_count": 4,
     "metadata": {},
     "output_type": "execute_result"
    },
    {
     "data": {
      "image/png": "[encoded data removed]",
      "text/plain": [
       "<Figure size 432x288 with 1 Axes>"
      ]
     },
     "metadata": {
      "needs_background": "light"
     },
     "output_type": "display_data"
    }
   ],
   "source": [
    "## Distribución de los datos en la columna de salida\n",
    "sns.countplot(x='Churn', data=data, palette='hls')"
   ]
  },
  {
   "cell_type": "code",
   "execution_count": 5,
   "metadata": {},
   "outputs": [
    {
     "data": {
      "text/plain": [
       "No     73.463013\n",
       "Yes    26.536987\n",
       "Name: Churn, dtype: float64"
      ]
     },
     "execution_count": 5,
     "metadata": {},
     "output_type": "execute_result"
    }
   ],
   "source": [
    "## Porcentaje de Usuarios que abandonan y no abandonan el servicio\n",
    "(data['Churn'].value_counts())/(data.shape[0])*100"
   ]
  },
  {
   "cell_type": "markdown",
   "metadata": {},
   "source": [
    "De la gráfica anterior tenemos que, de la base de datos utilizada, alrededor de 27% de los Usuarios abandonaron el servicio durante el último mes, mientras que el resto permanecieron. "
   ]
  },
  {
   "cell_type": "markdown",
   "metadata": {},
   "source": [
    "#### Gender distribution"
   ]
  },
  {
   "cell_type": "code",
   "execution_count": 6,
   "metadata": {},
   "outputs": [
    {
     "data": {
      "text/plain": [
       "<matplotlib.axes._subplots.AxesSubplot at 0xb4b4048>"
      ]
     },
     "execution_count": 6,
     "metadata": {},
     "output_type": "execute_result"
    },
    {
     "data": {
      "image/png": "[encoded data removed]",
      "text/plain": [
       "<Figure size 1080x432 with 2 Axes>"
      ]
     },
     "metadata": {
      "needs_background": "light"
     },
     "output_type": "display_data"
    }
   ],
   "source": [
    "fig, [axes1, axes2] = plt.subplots(1,2,figsize=(15,6))\n",
    "\n",
    "## Distribución de los datos en la columna de género\n",
    "sns.countplot(x='gender', data=data, palette='hls', ax=axes1)\n",
    "\n",
    "## Distribución de los datos en la columna de género\n",
    "sns.countplot(x='gender', data=data, hue='Churn', palette='hls', ax=axes2)"
   ]
  },
  {
   "cell_type": "markdown",
   "metadata": {},
   "source": [
    "La cantidad de Usuarios pertenecientes a cada género es similar en nuestra base de datos."
   ]
  },
  {
   "cell_type": "code",
   "execution_count": 7,
   "metadata": {},
   "outputs": [
    {
     "data": {
      "text/plain": [
       "Churn  gender\n",
       "No     Male      2625\n",
       "       Female    2549\n",
       "Yes    Female     939\n",
       "       Male       930\n",
       "Name: gender, dtype: int64"
      ]
     },
     "execution_count": 7,
     "metadata": {},
     "output_type": "execute_result"
    }
   ],
   "source": [
    "(data.groupby('Churn')['gender'].value_counts())"
   ]
  },
  {
   "cell_type": "markdown",
   "metadata": {},
   "source": [
    "Vemos que el género no influye a la hora de predecir tendencias, ya que el porcentaje de Usuarios que permanecen y abandonan el servicio es similar para cada género, por lo que podemos descartar esta columna. "
   ]
  },
  {
   "cell_type": "markdown",
   "metadata": {},
   "source": [
    "#### SeniorCitizen Distribution"
   ]
  },
  {
   "cell_type": "code",
   "execution_count": 8,
   "metadata": {},
   "outputs": [
    {
     "data": {
      "text/plain": [
       "<matplotlib.axes._subplots.AxesSubplot at 0xb58ae08>"
      ]
     },
     "execution_count": 8,
     "metadata": {},
     "output_type": "execute_result"
    },
    {
     "data": {
      "image/png": "[encoded data removed]",
      "text/plain": [
       "<Figure size 1080x432 with 2 Axes>"
      ]
     },
     "metadata": {
      "needs_background": "light"
     },
     "output_type": "display_data"
    }
   ],
   "source": [
    "fig, [axes1, axes2] = plt.subplots(1,2,figsize=(15,6))\n",
    "\n",
    "## Distribución de los datos en la columna SeniorCitizen\n",
    "sns.countplot(x='SeniorCitizen', data=data, palette='Set2', ax=axes1)\n",
    "\n",
    "## Porcentaje de abandono entre Usuarios Senior y NonSenior\n",
    "sns.countplot(x='SeniorCitizen', hue='Churn', data=data, palette='Set3', ax=axes2)"
   ]
  },
  {
   "cell_type": "code",
   "execution_count": 9,
   "metadata": {},
   "outputs": [
    {
     "data": {
      "text/plain": [
       "Churn  SeniorCitizen\n",
       "No     0                4508\n",
       "       1                 666\n",
       "Yes    0                1393\n",
       "       1                 476\n",
       "Name: SeniorCitizen, dtype: int64"
      ]
     },
     "execution_count": 9,
     "metadata": {},
     "output_type": "execute_result"
    }
   ],
   "source": [
    "## Conteo de datos agrupados por el abandono\n",
    "data.groupby('Churn')['SeniorCitizen'].value_counts()"
   ]
  },
  {
   "cell_type": "markdown",
   "metadata": {},
   "source": [
    "Más del 80% de los Usuarios presentes en la base de datos son **NonSeniorCitizens**; entre estos, alrededor del 24% abandonaron el servicio durante el último mes. Mientras que un cerca de un 42% de los **SeniorCitizen** cancelaron el servicio (casi el doble de los **NonSenior**). "
   ]
  },
  {
   "cell_type": "markdown",
   "metadata": {},
   "source": [
    "#### Partner Distribution"
   ]
  },
  {
   "cell_type": "code",
   "execution_count": 10,
   "metadata": {},
   "outputs": [
    {
     "data": {
      "text/plain": [
       "<matplotlib.axes._subplots.AxesSubplot at 0xb848dc8>"
      ]
     },
     "execution_count": 10,
     "metadata": {},
     "output_type": "execute_result"
    },
    {
     "data": {
      "image/png": "[encoded data removed]",
      "text/plain": [
       "<Figure size 1080x432 with 2 Axes>"
      ]
     },
     "metadata": {
      "needs_background": "light"
     },
     "output_type": "display_data"
    }
   ],
   "source": [
    "fig, [axes1, axes2] = plt.subplots(1,2,figsize=(15,6))\n",
    "\n",
    "## Distribución de los datos en la columna Partner\n",
    "sns.countplot(x='Partner', data=data, palette='Set1', ax=axes1)\n",
    "\n",
    "## Porcentaje de abandono entre Usuarios con Partnet y los que no tienen\n",
    "partner_cross = pd.crosstab(data['Partner'], data['Churn'])\n",
    "partner_cross.plot(kind='bar', stacked=True, ax=axes2)"
   ]
  },
  {
   "cell_type": "code",
   "execution_count": 11,
   "metadata": {},
   "outputs": [
    {
     "data": {
      "text/plain": [
       "Churn  Partner\n",
       "No     Yes        2733\n",
       "       No         2441\n",
       "Yes    No         1200\n",
       "       Yes         669\n",
       "Name: Partner, dtype: int64"
      ]
     },
     "execution_count": 11,
     "metadata": {},
     "output_type": "execute_result"
    }
   ],
   "source": [
    "data.groupby('Churn')['Partner'].value_counts()"
   ]
  },
  {
   "cell_type": "markdown",
   "metadata": {},
   "source": [
    "Entre los Usuarios que aún continúan con el servicio, alrededor de la mitad viven con un compañero. Mientras que casi el doble de los Usuarios que abandonaron el servicio durante el último mes viven solos. "
   ]
  },
  {
   "cell_type": "markdown",
   "metadata": {},
   "source": [
    "#### Dependents Distribution"
   ]
  },
  {
   "cell_type": "code",
   "execution_count": 12,
   "metadata": {},
   "outputs": [
    {
     "data": {
      "text/plain": [
       "<matplotlib.axes._subplots.AxesSubplot at 0xbd0e848>"
      ]
     },
     "execution_count": 12,
     "metadata": {},
     "output_type": "execute_result"
    },
    {
     "data": {
      "image/png": "[encoded data removed]",
      "text/plain": [
       "<Figure size 432x288 with 1 Axes>"
      ]
     },
     "metadata": {
      "needs_background": "light"
     },
     "output_type": "display_data"
    }
   ],
   "source": [
    "## Distribución de los datos en la columna Dependents\n",
    "sns.countplot(x='Dependents', hue='Churn', data=data, palette='Set2')"
   ]
  },
  {
   "cell_type": "code",
   "execution_count": 13,
   "metadata": {},
   "outputs": [
    {
     "data": {
      "text/plain": [
       "Churn  Dependents\n",
       "No     No            3390\n",
       "       Yes           1784\n",
       "Yes    No            1543\n",
       "       Yes            326\n",
       "Name: Dependents, dtype: int64"
      ]
     },
     "execution_count": 13,
     "metadata": {},
     "output_type": "execute_result"
    }
   ],
   "source": [
    "data.groupby('Churn')['Dependents'].value_counts()"
   ]
  },
  {
   "cell_type": "markdown",
   "metadata": {},
   "source": [
    "31% de los Usuario que no tienen dependientes abandonaron el servicio durante el último mes, mientras que solo el 15% de los Usuarios que tienen dependientes abandonaron el servicio (50% menos)."
   ]
  },
  {
   "cell_type": "markdown",
   "metadata": {},
   "source": [
    "#### Contract Distribution"
   ]
  },
  {
   "cell_type": "code",
   "execution_count": 14,
   "metadata": {},
   "outputs": [
    {
     "data": {
      "text/plain": [
       "<matplotlib.axes._subplots.AxesSubplot at 0xbfa3088>"
      ]
     },
     "execution_count": 14,
     "metadata": {},
     "output_type": "execute_result"
    },
    {
     "data": {
      "image/png": "[encoded data removed]",
      "text/plain": [
       "<Figure size 1080x432 with 2 Axes>"
      ]
     },
     "metadata": {
      "needs_background": "light"
     },
     "output_type": "display_data"
    }
   ],
   "source": [
    "fig, [axes1, axes2] = plt.subplots(1,2,figsize=(15,6))\n",
    "\n",
    "## Distribución de los datos en la columna Contract\n",
    "sns.countplot(x='Contract', data=data, palette='Set1', ax=axes1)\n",
    "\n",
    "## Comportamiento del abandono entre los Usuarios dependiendo del tipo de contrato\n",
    "sns.countplot(x='Contract', hue='Churn', data=data, palette='hls', ax=axes2)"
   ]
  },
  {
   "cell_type": "code",
   "execution_count": 15,
   "metadata": {},
   "outputs": [
    {
     "data": {
      "text/plain": [
       "Churn  Contract      \n",
       "No     Month-to-month    2220\n",
       "       Two year          1647\n",
       "       One year          1307\n",
       "Yes    Month-to-month    1655\n",
       "       One year           166\n",
       "       Two year            48\n",
       "Name: Contract, dtype: int64"
      ]
     },
     "execution_count": 15,
     "metadata": {},
     "output_type": "execute_result"
    }
   ],
   "source": [
    "data.groupby('Churn')['Contract'].value_counts()"
   ]
  },
  {
   "cell_type": "markdown",
   "metadata": {},
   "source": [
    "Más de la mitad (55%) de los Usuarios presentes en la base de datos, contaban con un tipo de contrato \"mes a mes\". Además, alrededor de un 89% de los Usuarios que abanaron el servicio durante el último mes tenían un tipo de contrato \"mes a mes\", 9% un contrato a un año y 2% un contrato a dos años."
   ]
  },
  {
   "cell_type": "markdown",
   "metadata": {},
   "source": [
    "\n",
    "#### Payment Method Distribution"
   ]
  },
  {
   "cell_type": "code",
   "execution_count": 16,
   "metadata": {},
   "outputs": [
    {
     "data": {
      "text/plain": [
       "[Text(0, 0, 'Electronic check'),\n",
       " Text(0, 0, 'Mailed check'),\n",
       " Text(0, 0, 'Bank transfer (automatic)'),\n",
       " Text(0, 0, 'Credit card (automatic)')]"
      ]
     },
     "execution_count": 16,
     "metadata": {},
     "output_type": "execute_result"
    },
    {
     "data": {
      "image/png": "[encoded data removed]",
      "text/plain": [
       "<Figure size 1080x432 with 2 Axes>"
      ]
     },
     "metadata": {
      "needs_background": "light"
     },
     "output_type": "display_data"
    }
   ],
   "source": [
    "fig, [axes1, axes2] = plt.subplots(1,2,figsize=(15,6))\n",
    "\n",
    "## Distribución de los datos en la columna Payment Method\n",
    "chart = sns.countplot(x='PaymentMethod', data=data, palette='Set1', ax=axes1)\n",
    "chart.set_xticklabels(chart.get_xticklabels(), rotation=45)\n",
    "\n",
    "## Comportamiento del abandono entre los Usuarios dependiendo del método de pago\n",
    "chart = sns.countplot(x='PaymentMethod', hue='Churn', data=data, palette='hls', ax=axes2)\n",
    "chart.set_xticklabels(chart.get_xticklabels(), rotation=45)"
   ]
  },
  {
   "cell_type": "code",
   "execution_count": 17,
   "metadata": {},
   "outputs": [
    {
     "data": {
      "text/plain": [
       "Churn  PaymentMethod            \n",
       "No     Mailed check                 1304\n",
       "       Electronic check             1294\n",
       "       Credit card (automatic)      1290\n",
       "       Bank transfer (automatic)    1286\n",
       "Yes    Electronic check             1071\n",
       "       Mailed check                  308\n",
       "       Bank transfer (automatic)     258\n",
       "       Credit card (automatic)       232\n",
       "Name: PaymentMethod, dtype: int64"
      ]
     },
     "execution_count": 17,
     "metadata": {},
     "output_type": "execute_result"
    }
   ],
   "source": [
    "data.groupby('Churn')['PaymentMethod'].value_counts()"
   ]
  },
  {
   "cell_type": "markdown",
   "metadata": {},
   "source": [
    "La cantidad de Usuarios con método de pago *Electronick Check* es ligeramente mayor que los Usuarios con otros métodos de pago. El abandono entre Usuarios con dicho método fue mucho mayor a los otros. "
   ]
  },
  {
   "cell_type": "markdown",
   "metadata": {},
   "source": [
    "#### Tenure distribution"
   ]
  },
  {
   "cell_type": "markdown",
   "metadata": {},
   "source": [
    "Histograma de la antiguedad de lso Usuarios suscritos al servicio. "
   ]
  },
  {
   "cell_type": "code",
   "execution_count": 18,
   "metadata": {},
   "outputs": [
    {
     "data": {
      "text/plain": [
       "<matplotlib.axes._subplots.AxesSubplot at 0xc0dd7c8>"
      ]
     },
     "execution_count": 18,
     "metadata": {},
     "output_type": "execute_result"
    },
    {
     "data": {
      "image/png": "[encoded data removed]",
      "text/plain": [
       "<Figure size 432x288 with 1 Axes>"
      ]
     },
     "metadata": {
      "needs_background": "light"
     },
     "output_type": "display_data"
    }
   ],
   "source": [
    "sns.distplot(data.tenure)"
   ]
  },
  {
   "cell_type": "markdown",
   "metadata": {},
   "source": [
    "Para una mejor visualización, vamos a separar a los Usuarios de acuerdo a la antiguedad en aquellos con menos un año, al menos dos años, tres años, etc. Grafiquemos la antiguedad de los Usuarios y comparemos con el abandono durate el último mes. "
   ]
  },
  {
   "cell_type": "code",
   "execution_count": 19,
   "metadata": {},
   "outputs": [
    {
     "data": {
      "text/plain": [
       "Text(0, 0.5, 'Número Usuarios')"
      ]
     },
     "execution_count": 19,
     "metadata": {},
     "output_type": "execute_result"
    },
    {
     "data": {
      "image/png": "[encoded data removed]",
      "text/plain": [
       "<Figure size 1080x432 with 2 Axes>"
      ]
     },
     "metadata": {
      "needs_background": "light"
     },
     "output_type": "display_data"
    }
   ],
   "source": [
    "# Agrupamos los datos en la columna Tenure\n",
    "bins = [-1, 12, 24, 36, 48, 60, 73]\n",
    "labels = ['1', '2', '3', '4', '5', '6']\n",
    "data['tenureGroup'] = pd.cut(data[\"tenure\"], bins, labels=labels)\n",
    "\n",
    "# Antiguedad usuarios\n",
    "fig, [axes1, axes2] = plt.subplots(1,2,figsize=(15,6))\n",
    "sns.countplot(x='tenureGroup', data=data, ax=axes1)\n",
    "axes1.set_xlabel('Antiguedad Promedio')\n",
    "axes1.set_ylabel('Número Usuarios')\n",
    "\n",
    "\n",
    "# Abandono durante el último mes\n",
    "sns.countplot(x='tenureGroup', hue='Churn', data=data, palette='hls', ax=axes2)\n",
    "axes2.set_xlabel('Tiempo de permanencia (años)')\n",
    "axes2.set_ylabel('Número Usuarios')"
   ]
  },
  {
   "cell_type": "markdown",
   "metadata": {},
   "source": [
    "La mayoría de los Usuarios de la base de datos tienen un año o menos con el servicio, seguidos de los Usuarios con más de 5 años. A medida que aumenta el número de años de suscripción los Usuarios, menor es la tasa de abandono de los mismos."
   ]
  },
  {
   "cell_type": "markdown",
   "metadata": {},
   "source": [
    "#### Phone service Distribution"
   ]
  },
  {
   "cell_type": "code",
   "execution_count": 20,
   "metadata": {},
   "outputs": [
    {
     "data": {
      "text/plain": [
       "<matplotlib.axes._subplots.AxesSubplot at 0xc6988c8>"
      ]
     },
     "execution_count": 20,
     "metadata": {},
     "output_type": "execute_result"
    },
    {
     "data": {
      "image/png": "[encoded data removed]",
      "text/plain": [
       "<Figure size 1080x432 with 2 Axes>"
      ]
     },
     "metadata": {
      "needs_background": "light"
     },
     "output_type": "display_data"
    }
   ],
   "source": [
    "fig, [axes1, axes2] = plt.subplots(1,2,figsize=(15,6))\n",
    "\n",
    "## Distribución de los datos en la columna Contract\n",
    "sns.countplot(x='PhoneService', data=data, palette='hls', ax=axes1)\n",
    "\n",
    "## Comportamiento del abandono entre los Usuarios dependiendo del tipo de contrato\n",
    "sns.countplot(x='PhoneService', hue='Churn', data=data, palette='Set3', ax=axes2)"
   ]
  },
  {
   "cell_type": "code",
   "execution_count": 21,
   "metadata": {},
   "outputs": [
    {
     "data": {
      "text/plain": [
       "Churn  PhoneService\n",
       "No     Yes             4662\n",
       "       No               512\n",
       "Yes    Yes             1699\n",
       "       No               170\n",
       "Name: PhoneService, dtype: int64"
      ]
     },
     "execution_count": 21,
     "metadata": {},
     "output_type": "execute_result"
    }
   ],
   "source": [
    "data.groupby('Churn')['PhoneService'].value_counts()"
   ]
  },
  {
   "cell_type": "markdown",
   "metadata": {},
   "source": [
    "Un 90% de los Usuarios contaba con servicio telefónico. El 27% de dichos Usuarios abandonaron durante el último mes. Mientras que de los Usuarios que no contaban con el servicio, un 25% abandonó. Se mantiene la mista tendencia/tasa de abandono en ambos casos."
   ]
  },
  {
   "cell_type": "markdown",
   "metadata": {},
   "source": [
    "#### MultipleLines Distribution"
   ]
  },
  {
   "cell_type": "code",
   "execution_count": 22,
   "metadata": {},
   "outputs": [
    {
     "data": {
      "text/plain": [
       "<matplotlib.axes._subplots.AxesSubplot at 0xca832c8>"
      ]
     },
     "execution_count": 22,
     "metadata": {},
     "output_type": "execute_result"
    },
    {
     "data": {
      "image/png": "[encoded data removed]",
      "text/plain": [
       "<Figure size 1080x432 with 2 Axes>"
      ]
     },
     "metadata": {
      "needs_background": "light"
     },
     "output_type": "display_data"
    }
   ],
   "source": [
    "fig, [axes1, axes2] = plt.subplots(1,2,figsize=(15,6))\n",
    "\n",
    "## Distribución de los datos en la columna Contract\n",
    "sns.countplot(x='MultipleLines', data=data, palette='Set2', ax=axes1)\n",
    "\n",
    "## Comportamiento del abandono entre los Usuarios dependiendo del tipo de contrato\n",
    "sns.countplot(x='MultipleLines', hue='Churn', data=data, palette='Set1', ax=axes2)"
   ]
  },
  {
   "cell_type": "code",
   "execution_count": 23,
   "metadata": {},
   "outputs": [
    {
     "data": {
      "text/plain": [
       "Churn  MultipleLines   \n",
       "No     No                  2541\n",
       "       Yes                 2121\n",
       "       No phone service     512\n",
       "Yes    Yes                  850\n",
       "       No                   849\n",
       "       No phone service     170\n",
       "Name: MultipleLines, dtype: int64"
      ]
     },
     "execution_count": 23,
     "metadata": {},
     "output_type": "execute_result"
    }
   ],
   "source": [
    "data.groupby('Churn')['MultipleLines'].value_counts()"
   ]
  },
  {
   "cell_type": "markdown",
   "metadata": {},
   "source": [
    "Entre los Usuarios que cuentan con servicio telefónico, es ligeramente mayor la cantidad de Usuarios con Múltiples Líneas y la tendencia al abandono en ambos caso es similar (+/- 25% )"
   ]
  },
  {
   "cell_type": "markdown",
   "metadata": {},
   "source": [
    "#### InternetService Distribution"
   ]
  },
  {
   "cell_type": "code",
   "execution_count": 24,
   "metadata": {},
   "outputs": [
    {
     "data": {
      "text/plain": [
       "<matplotlib.axes._subplots.AxesSubplot at 0xcfb4e08>"
      ]
     },
     "execution_count": 24,
     "metadata": {},
     "output_type": "execute_result"
    },
    {
     "data": {
      "image/png": "[encoded data removed]",
      "text/plain": [
       "<Figure size 1080x432 with 2 Axes>"
      ]
     },
     "metadata": {
      "needs_background": "light"
     },
     "output_type": "display_data"
    }
   ],
   "source": [
    "fig, [axes1, axes2] = plt.subplots(1,2,figsize=(15,6))\n",
    "\n",
    "## Distribución de los datos en la columna Contract\n",
    "sns.countplot(x='InternetService', data=data, palette='hls', ax=axes1)\n",
    "\n",
    "## Comportamiento del abandono entre los Usuarios dependiendo del tipo de contrato\n",
    "sns.countplot(x='InternetService', hue='Churn', data=data, palette='hls', ax=axes2)"
   ]
  },
  {
   "cell_type": "code",
   "execution_count": 25,
   "metadata": {},
   "outputs": [
    {
     "data": {
      "text/plain": [
       "Churn  InternetService\n",
       "No     DSL                1962\n",
       "       Fiber optic        1799\n",
       "       No                 1413\n",
       "Yes    Fiber optic        1297\n",
       "       DSL                 459\n",
       "       No                  113\n",
       "Name: InternetService, dtype: int64"
      ]
     },
     "execution_count": 25,
     "metadata": {},
     "output_type": "execute_result"
    }
   ],
   "source": [
    "data.groupby('Churn')['InternetService'].value_counts()"
   ]
  },
  {
   "cell_type": "markdown",
   "metadata": {},
   "source": [
    "88% de los Usuario de la base de datos contaban con servicio de internet; entre estos, 56% utiliza *fibra óptica* y 44% utiliza *DSL*. La tendencia del abandono es mucho más alta en los usuarios que utilizaban *fibra óptica* con un 42% de los Usuarios de esta categoría (69% del total de los Usuarios que abandonaron el servicio).19% de los Usuarios que utilizaban DSL (25% del total de Usuarios que abandonaron el servicio), abandonó el servicio. Mientras que solo el 7% de los Usuarios que no contaban con servicio de Internet abandonó el servicio (6% del del total de Usuarios que abandonaron el servicio)."
   ]
  },
  {
   "cell_type": "markdown",
   "metadata": {},
   "source": [
    "#### OnlineSecurity Distribution"
   ]
  },
  {
   "cell_type": "code",
   "execution_count": 26,
   "metadata": {},
   "outputs": [
    {
     "data": {
      "text/plain": [
       "<matplotlib.axes._subplots.AxesSubplot at 0xce75188>"
      ]
     },
     "execution_count": 26,
     "metadata": {},
     "output_type": "execute_result"
    },
    {
     "data": {
      "image/png": "[encoded data removed]",
      "text/plain": [
       "<Figure size 1080x432 with 2 Axes>"
      ]
     },
     "metadata": {
      "needs_background": "light"
     },
     "output_type": "display_data"
    }
   ],
   "source": [
    "fig, [axes1, axes2] = plt.subplots(1,2,figsize=(15,6))\n",
    "\n",
    "## Distribución de los datos en la columna Contract\n",
    "sns.countplot(x='OnlineSecurity', data=data, palette='Set2', ax=axes1)\n",
    "\n",
    "## Comportamiento del abandono entre los Usuarios dependiendo del tipo de contrato\n",
    "sns.countplot(x='OnlineSecurity', hue='Churn', data=data, palette='Set2', ax=axes2)"
   ]
  },
  {
   "cell_type": "code",
   "execution_count": 27,
   "metadata": {},
   "outputs": [
    {
     "data": {
      "text/plain": [
       "Churn  OnlineSecurity     \n",
       "No     No                     2037\n",
       "       Yes                    1724\n",
       "       No internet service    1413\n",
       "Yes    No                     1461\n",
       "       Yes                     295\n",
       "       No internet service     113\n",
       "Name: OnlineSecurity, dtype: int64"
      ]
     },
     "execution_count": 27,
     "metadata": {},
     "output_type": "execute_result"
    }
   ],
   "source": [
    "data.groupby('Churn')['OnlineSecurity'].value_counts()"
   ]
  },
  {
   "cell_type": "markdown",
   "metadata": {},
   "source": [
    "42% de los Usuarios que no contaban con servicio de OnlineSecirity abandonaron el servicio (78% del total de Usuarios que abandonaron el servicio). Mientras que solo un 15% de los Usuarios con OnlineSecurity abandonó el servicio (16% de los Usuarios que abandonaron el servicio en el último mes)."
   ]
  },
  {
   "cell_type": "markdown",
   "metadata": {},
   "source": [
    "#### OnlineBackup distribution"
   ]
  },
  {
   "cell_type": "code",
   "execution_count": 28,
   "metadata": {},
   "outputs": [
    {
     "data": {
      "text/plain": [
       "<matplotlib.axes._subplots.AxesSubplot at 0xcf48308>"
      ]
     },
     "execution_count": 28,
     "metadata": {},
     "output_type": "execute_result"
    },
    {
     "data": {
      "image/png": "[encoded data removed]",
      "text/plain": [
       "<Figure size 1080x432 with 2 Axes>"
      ]
     },
     "metadata": {
      "needs_background": "light"
     },
     "output_type": "display_data"
    }
   ],
   "source": [
    "fig, [axes1, axes2] = plt.subplots(1,2,figsize=(15,6))\n",
    "\n",
    "## Distribución de los datos en la columna Contract\n",
    "sns.countplot(x='OnlineBackup', data=data, palette='Set2', ax=axes1)\n",
    "\n",
    "## Comportamiento del abandono entre los Usuarios dependiendo del tipo de contrato\n",
    "sns.countplot(x='OnlineBackup', hue='Churn', data=data, palette='Set1', ax=axes2)"
   ]
  },
  {
   "cell_type": "code",
   "execution_count": 29,
   "metadata": {},
   "outputs": [
    {
     "data": {
      "text/plain": [
       "Churn  OnlineBackup       \n",
       "No     Yes                    1906\n",
       "       No                     1855\n",
       "       No internet service    1413\n",
       "Yes    No                     1233\n",
       "       Yes                     523\n",
       "       No internet service     113\n",
       "Name: OnlineBackup, dtype: int64"
      ]
     },
     "execution_count": 29,
     "metadata": {},
     "output_type": "execute_result"
    }
   ],
   "source": [
    "data.groupby('Churn')['OnlineBackup'].value_counts()"
   ]
  },
  {
   "cell_type": "markdown",
   "metadata": {},
   "source": [
    "De los Usuarios que abandonaron el servicio, 66% no contaban con *OnlineBackup* (40% de los Usuarios de esta categoría), mientras que el 28% sí contaba con el servicio (22% de los Usuarios de esta categoría). "
   ]
  },
  {
   "cell_type": "markdown",
   "metadata": {},
   "source": [
    "#### Monthly Charges Distribution"
   ]
  },
  {
   "cell_type": "markdown",
   "metadata": {},
   "source": [
    "Ahora creamos una nueva columna (*ChurnBin*) en la cual asignaremos el valor de 0 si el Usuario permanece con el servicio y 1 si el Usuario abandonó el servicio en el último mes. Además, agrupamos la columna de *CargosMensuales* en 10 grupos para una mejor visualización."
   ]
  },
  {
   "cell_type": "code",
   "execution_count": 30,
   "metadata": {},
   "outputs": [
    {
     "data": {
      "text/plain": [
       "Text(0.5, 1.0, 'Tasa de abandono vs Cargos Mensuales')"
      ]
     },
     "execution_count": 30,
     "metadata": {},
     "output_type": "execute_result"
    },
    {
     "data": {
      "image/png": "[encoded data removed]",
      "text/plain": [
       "<Figure size 1080x432 with 2 Axes>"
      ]
     },
     "metadata": {
      "needs_background": "light"
     },
     "output_type": "display_data"
    }
   ],
   "source": [
    "fig, [axes1, axes2] = plt.subplots(1,2,figsize=(15,6))\n",
    "\n",
    "# Creamos columna ChurnBin\n",
    "churn_mapping = {\"No\": 0, \"Yes\": 1}\n",
    "data['ChurnBin'] = data['Churn'].map(churn_mapping)\n",
    "\n",
    "# Histograma cargos mensuales a Usuarios\n",
    "sns.distplot(data.MonthlyCharges, ax=axes1)\n",
    "axes1.set_title('Distribution of Monthly Charges')\n",
    "\n",
    "# Categorizamos la variable entre 10 bins \n",
    "data['MonthlyChargesCategory'] = pd.cut(data[\"MonthlyCharges\"], bins=10)\n",
    "sns.barplot(x='MonthlyChargesCategory', y='ChurnBin', data=data, ax=axes2)\n",
    "[items.set_rotation(90) for items in axes2.get_xticklabels()]\n",
    "axes2.set_title('Tasa de abandono vs Cargos Mensuales')\n"
   ]
  },
  {
   "cell_type": "code",
   "execution_count": 31,
   "metadata": {},
   "outputs": [
    {
     "data": {
      "text/plain": [
       "Churn  MonthlyChargesCategory\n",
       "No     (18.15, 28.3]             1458\n",
       "       (78.55, 88.6]              598\n",
       "       (88.6, 98.65]              553\n",
       "       (68.5, 78.55]              544\n",
       "       (48.4, 58.45]              488\n",
       "       (98.65, 108.7]             482\n",
       "       (58.45, 68.5]              420\n",
       "       (108.7, 118.75]            251\n",
       "       (38.35, 48.4]              246\n",
       "       (28.3, 38.35]              134\n",
       "Yes    (78.55, 88.6]              355\n",
       "       (68.5, 78.55]              349\n",
       "       (88.6, 98.65]              320\n",
       "       (98.65, 108.7]             272\n",
       "       (48.4, 58.45]              152\n",
       "       (18.15, 28.3]              148\n",
       "       (38.35, 48.4]              119\n",
       "       (28.3, 38.35]               57\n",
       "       (58.45, 68.5]               54\n",
       "       (108.7, 118.75]             43\n",
       "Name: MonthlyChargesCategory, dtype: int64"
      ]
     },
     "execution_count": 31,
     "metadata": {},
     "output_type": "execute_result"
    }
   ],
   "source": [
    "data.groupby('Churn')['MonthlyChargesCategory'].value_counts()"
   ]
  },
  {
   "cell_type": "markdown",
   "metadata": {},
   "source": [
    "Un gran número de Usuarios tienen cargos mensuales relativamente bajos (USD 18.15 - 28.3); entre estos la tasa de abandono (9%) es baja en comparación con la tasa de abandono de los Usuarios con cargos mensuales más altos (37% en promedio para Usuarios con cargos mensuales entre USD 78.55 y USD 108.7). La tasa de abandono para los Usuarios con los cargos mensuales más altos (>108.7) fue de solo 15%."
   ]
  },
  {
   "cell_type": "markdown",
   "metadata": {},
   "source": [
    "#### Total Charges Distribution"
   ]
  },
  {
   "cell_type": "markdown",
   "metadata": {},
   "source": [
    "Para esta columna se mencionó que está siendo leída como tipo '*object*', cuando debería ser de tipo flotante. Esto se debe a que existen filas donde los cargos totales se almacenaron como \" \". Para lidiar con ello, se llenaron dichas filas asumiendo que los cargos totales resultan del producto entre el *tiempo de permanencia* (**Tenure**) y los *cargos mensuales* (**MonthlyCharges**)."
   ]
  },
  {
   "cell_type": "code",
   "execution_count": 32,
   "metadata": {},
   "outputs": [],
   "source": [
    "## Reemplazando strings con la fórmula descrita\n",
    "data['TotalCharges'] = data['TotalCharges'].replace(\" \", (data.MonthlyCharges * data.tenure))\n",
    "\n",
    "\n",
    "## Convertimos la columna a tipo numérico\n",
    "data['TotalCharges'] = pd.to_numeric(data['TotalCharges'])"
   ]
  },
  {
   "cell_type": "markdown",
   "metadata": {},
   "source": [
    "Miremos los tipos de datos de nuestra base nuevamente."
   ]
  },
  {
   "cell_type": "code",
   "execution_count": 33,
   "metadata": {},
   "outputs": [
    {
     "data": {
      "text/plain": [
       "customerID                  object\n",
       "gender                      object\n",
       "SeniorCitizen                int64\n",
       "Partner                     object\n",
       "Dependents                  object\n",
       "tenure                       int64\n",
       "PhoneService                object\n",
       "MultipleLines               object\n",
       "InternetService             object\n",
       "OnlineSecurity              object\n",
       "OnlineBackup                object\n",
       "DeviceProtection            object\n",
       "TechSupport                 object\n",
       "StreamingTV                 object\n",
       "StreamingMovies             object\n",
       "Contract                    object\n",
       "PaperlessBilling            object\n",
       "PaymentMethod               object\n",
       "MonthlyCharges             float64\n",
       "TotalCharges               float64\n",
       "Churn                       object\n",
       "tenureGroup               category\n",
       "ChurnBin                     int64\n",
       "MonthlyChargesCategory    category\n",
       "dtype: object"
      ]
     },
     "execution_count": 33,
     "metadata": {},
     "output_type": "execute_result"
    }
   ],
   "source": [
    "data.dtypes"
   ]
  },
  {
   "cell_type": "markdown",
   "metadata": {},
   "source": [
    "Ahora hacemos un histograma y una dsitribución, dividiendo los Cargos Totales en 10 categorías. "
   ]
  },
  {
   "cell_type": "code",
   "execution_count": 34,
   "metadata": {},
   "outputs": [
    {
     "data": {
      "text/plain": [
       "Text(0.5, 1.0, 'Abandono vs Cargos Totales')"
      ]
     },
     "execution_count": 34,
     "metadata": {},
     "output_type": "execute_result"
    },
    {
     "data": {
      "image/png": "[encoded data removed]",
      "text/plain": [
       "<Figure size 1080x432 with 2 Axes>"
      ]
     },
     "metadata": {
      "needs_background": "light"
     },
     "output_type": "display_data"
    }
   ],
   "source": [
    "fig, [axes1, axes2] = plt.subplots(1,2,figsize=(15,6))\n",
    "\n",
    "# Histograma \n",
    "sns.distplot(data.TotalCharges, ax=axes1)\n",
    "axes1.set_title('Distribucion Cargos Totales')\n",
    "\n",
    "# Distribución Categorizada\n",
    "data['TotalChargesCategory'] = pd.cut(data[\"TotalCharges\"], bins=10)\n",
    "sns.barplot(x='TotalChargesCategory', y='ChurnBin', data=data, ax=axes2)\n",
    "[items.set_rotation(90) for items in axes2.get_xticklabels()]\n",
    "axes2.set_title('Abandono vs Cargos Totales')"
   ]
  },
  {
   "cell_type": "markdown",
   "metadata": {},
   "source": [
    "De acuerdo con la gráfica, los Usuarios con cargos totales más bajos, presentaron una mayor tasa de abandono durante el último mes. "
   ]
  },
  {
   "cell_type": "markdown",
   "metadata": {},
   "source": [
    "#### Correlaciones"
   ]
  },
  {
   "cell_type": "markdown",
   "metadata": {},
   "source": [
    "Grafiquemos las correlación entre las variables contínuas:"
   ]
  },
  {
   "cell_type": "code",
   "execution_count": 35,
   "metadata": {},
   "outputs": [
    {
     "data": {
      "text/html": [
       "<div>\n",
       "<style scoped>\n",
       "    .dataframe tbody tr th:only-of-type {\n",
       "        vertical-align: middle;\n",
       "    }\n",
       "\n",
       "    .dataframe tbody tr th {\n",
       "        vertical-align: top;\n",
       "    }\n",
       "\n",
       "    .dataframe thead th {\n",
       "        text-align: right;\n",
       "    }\n",
       "</style>\n",
       "<table border=\"1\" class=\"dataframe\">\n",
       "  <thead>\n",
       "    <tr style=\"text-align: right;\">\n",
       "      <th></th>\n",
       "      <th>tenure</th>\n",
       "      <th>MonthlyCharges</th>\n",
       "      <th>TotalCharges</th>\n",
       "    </tr>\n",
       "  </thead>\n",
       "  <tbody>\n",
       "    <tr>\n",
       "      <td>tenure</td>\n",
       "      <td>1.000000</td>\n",
       "      <td>0.247900</td>\n",
       "      <td>0.826178</td>\n",
       "    </tr>\n",
       "    <tr>\n",
       "      <td>MonthlyCharges</td>\n",
       "      <td>0.247900</td>\n",
       "      <td>1.000000</td>\n",
       "      <td>0.651174</td>\n",
       "    </tr>\n",
       "    <tr>\n",
       "      <td>TotalCharges</td>\n",
       "      <td>0.826178</td>\n",
       "      <td>0.651174</td>\n",
       "      <td>1.000000</td>\n",
       "    </tr>\n",
       "  </tbody>\n",
       "</table>\n",
       "</div>"
      ],
      "text/plain": [
       "                  tenure  MonthlyCharges  TotalCharges\n",
       "tenure          1.000000        0.247900      0.826178\n",
       "MonthlyCharges  0.247900        1.000000      0.651174\n",
       "TotalCharges    0.826178        0.651174      1.000000"
      ]
     },
     "execution_count": 35,
     "metadata": {},
     "output_type": "execute_result"
    }
   ],
   "source": [
    "# correlación\n",
    "data_corr = data[['tenure', 'MonthlyCharges', 'TotalCharges']].corr()\n",
    "data_corr"
   ]
  },
  {
   "cell_type": "code",
   "execution_count": 36,
   "metadata": {
    "scrolled": false
   },
   "outputs": [
    {
     "data": {
      "text/plain": [
       "(3, 0)"
      ]
     },
     "execution_count": 36,
     "metadata": {},
     "output_type": "execute_result"
    },
    {
     "data": {
      "image/png": "[encoded data removed]",
      "text/plain": [
       "<Figure size 1080x432 with 2 Axes>"
      ]
     },
     "metadata": {
      "needs_background": "light"
     },
     "output_type": "display_data"
    }
   ],
   "source": [
    "#Mapa de calor\n",
    "\n",
    "fig, axes = plt.subplots(figsize=(15,6))\n",
    "sns.heatmap(data=data_corr, annot=True, ax=axes, square=True, linewidths=0, vmin=0, vmax=1)\n",
    "#[items.set_rotation(90) for items in axes.get_xticklabels()]\n",
    "[items.set_rotation(0) for items in axes.get_yticklabels()]\n",
    "axes.set_ylim([3, 0])"
   ]
  },
  {
   "cell_type": "markdown",
   "metadata": {},
   "source": [
    "Como ya se mencionó, los *Cargos Totales* son resultan del producto entre el *tiempo de permanencia* de los Usuarios y los *cargos mensuales*, por lo que la correlación entre dicha variable con las otras dos arroja valores de 83% y 65%, respectivamente. Para el proceso de clusterización y posterior clasificación de los Usuarios se eliminará esta variable de la base de datos."
   ]
  },
  {
   "cell_type": "markdown",
   "metadata": {},
   "source": [
    "### Transformación de la base de datos"
   ]
  },
  {
   "cell_type": "markdown",
   "metadata": {},
   "source": [
    "Procedemos a eliminar de nuestra base de datos aquellas columnas que se encontraron no ser muy representativas para el proceso de clasificación. "
   ]
  },
  {
   "cell_type": "code",
   "execution_count": 37,
   "metadata": {},
   "outputs": [
    {
     "data": {
      "text/html": [
       "<div>\n",
       "<style scoped>\n",
       "    .dataframe tbody tr th:only-of-type {\n",
       "        vertical-align: middle;\n",
       "    }\n",
       "\n",
       "    .dataframe tbody tr th {\n",
       "        vertical-align: top;\n",
       "    }\n",
       "\n",
       "    .dataframe thead th {\n",
       "        text-align: right;\n",
       "    }\n",
       "</style>\n",
       "<table border=\"1\" class=\"dataframe\">\n",
       "  <thead>\n",
       "    <tr style=\"text-align: right;\">\n",
       "      <th></th>\n",
       "      <th>customerID</th>\n",
       "      <th>gender</th>\n",
       "      <th>SeniorCitizen</th>\n",
       "      <th>Partner</th>\n",
       "      <th>Dependents</th>\n",
       "      <th>tenure</th>\n",
       "      <th>PhoneService</th>\n",
       "      <th>MultipleLines</th>\n",
       "      <th>InternetService</th>\n",
       "      <th>OnlineSecurity</th>\n",
       "      <th>...</th>\n",
       "      <th>Contract</th>\n",
       "      <th>PaperlessBilling</th>\n",
       "      <th>PaymentMethod</th>\n",
       "      <th>MonthlyCharges</th>\n",
       "      <th>TotalCharges</th>\n",
       "      <th>Churn</th>\n",
       "      <th>tenureGroup</th>\n",
       "      <th>ChurnBin</th>\n",
       "      <th>MonthlyChargesCategory</th>\n",
       "      <th>TotalChargesCategory</th>\n",
       "    </tr>\n",
       "  </thead>\n",
       "  <tbody>\n",
       "    <tr>\n",
       "      <td>0</td>\n",
       "      <td>7590-VHVEG</td>\n",
       "      <td>Female</td>\n",
       "      <td>0</td>\n",
       "      <td>Yes</td>\n",
       "      <td>No</td>\n",
       "      <td>1</td>\n",
       "      <td>No</td>\n",
       "      <td>No phone service</td>\n",
       "      <td>DSL</td>\n",
       "      <td>No</td>\n",
       "      <td>...</td>\n",
       "      <td>Month-to-month</td>\n",
       "      <td>Yes</td>\n",
       "      <td>Electronic check</td>\n",
       "      <td>29.85</td>\n",
       "      <td>29.85</td>\n",
       "      <td>No</td>\n",
       "      <td>1</td>\n",
       "      <td>0</td>\n",
       "      <td>(28.3, 38.35]</td>\n",
       "      <td>(-8.685, 868.48]</td>\n",
       "    </tr>\n",
       "    <tr>\n",
       "      <td>1</td>\n",
       "      <td>5575-GNVDE</td>\n",
       "      <td>Male</td>\n",
       "      <td>0</td>\n",
       "      <td>No</td>\n",
       "      <td>No</td>\n",
       "      <td>34</td>\n",
       "      <td>Yes</td>\n",
       "      <td>No</td>\n",
       "      <td>DSL</td>\n",
       "      <td>Yes</td>\n",
       "      <td>...</td>\n",
       "      <td>One year</td>\n",
       "      <td>No</td>\n",
       "      <td>Mailed check</td>\n",
       "      <td>56.95</td>\n",
       "      <td>1889.50</td>\n",
       "      <td>No</td>\n",
       "      <td>3</td>\n",
       "      <td>0</td>\n",
       "      <td>(48.4, 58.45]</td>\n",
       "      <td>(1736.96, 2605.44]</td>\n",
       "    </tr>\n",
       "    <tr>\n",
       "      <td>2</td>\n",
       "      <td>3668-QPYBK</td>\n",
       "      <td>Male</td>\n",
       "      <td>0</td>\n",
       "      <td>No</td>\n",
       "      <td>No</td>\n",
       "      <td>2</td>\n",
       "      <td>Yes</td>\n",
       "      <td>No</td>\n",
       "      <td>DSL</td>\n",
       "      <td>Yes</td>\n",
       "      <td>...</td>\n",
       "      <td>Month-to-month</td>\n",
       "      <td>Yes</td>\n",
       "      <td>Mailed check</td>\n",
       "      <td>53.85</td>\n",
       "      <td>108.15</td>\n",
       "      <td>Yes</td>\n",
       "      <td>1</td>\n",
       "      <td>1</td>\n",
       "      <td>(48.4, 58.45]</td>\n",
       "      <td>(-8.685, 868.48]</td>\n",
       "    </tr>\n",
       "    <tr>\n",
       "      <td>3</td>\n",
       "      <td>7795-CFOCW</td>\n",
       "      <td>Male</td>\n",
       "      <td>0</td>\n",
       "      <td>No</td>\n",
       "      <td>No</td>\n",
       "      <td>45</td>\n",
       "      <td>No</td>\n",
       "      <td>No phone service</td>\n",
       "      <td>DSL</td>\n",
       "      <td>Yes</td>\n",
       "      <td>...</td>\n",
       "      <td>One year</td>\n",
       "      <td>No</td>\n",
       "      <td>Bank transfer (automatic)</td>\n",
       "      <td>42.30</td>\n",
       "      <td>1840.75</td>\n",
       "      <td>No</td>\n",
       "      <td>4</td>\n",
       "      <td>0</td>\n",
       "      <td>(38.35, 48.4]</td>\n",
       "      <td>(1736.96, 2605.44]</td>\n",
       "    </tr>\n",
       "    <tr>\n",
       "      <td>4</td>\n",
       "      <td>9237-HQITU</td>\n",
       "      <td>Female</td>\n",
       "      <td>0</td>\n",
       "      <td>No</td>\n",
       "      <td>No</td>\n",
       "      <td>2</td>\n",
       "      <td>Yes</td>\n",
       "      <td>No</td>\n",
       "      <td>Fiber optic</td>\n",
       "      <td>No</td>\n",
       "      <td>...</td>\n",
       "      <td>Month-to-month</td>\n",
       "      <td>Yes</td>\n",
       "      <td>Electronic check</td>\n",
       "      <td>70.70</td>\n",
       "      <td>151.65</td>\n",
       "      <td>Yes</td>\n",
       "      <td>1</td>\n",
       "      <td>1</td>\n",
       "      <td>(68.5, 78.55]</td>\n",
       "      <td>(-8.685, 868.48]</td>\n",
       "    </tr>\n",
       "  </tbody>\n",
       "</table>\n",
       "<p>5 rows × 25 columns</p>\n",
       "</div>"
      ],
      "text/plain": [
       "   customerID  gender  SeniorCitizen Partner Dependents  tenure PhoneService  \\\n",
       "0  7590-VHVEG  Female              0     Yes         No       1           No   \n",
       "1  5575-GNVDE    Male              0      No         No      34          Yes   \n",
       "2  3668-QPYBK    Male              0      No         No       2          Yes   \n",
       "3  7795-CFOCW    Male              0      No         No      45           No   \n",
       "4  9237-HQITU  Female              0      No         No       2          Yes   \n",
       "\n",
       "      MultipleLines InternetService OnlineSecurity  ...        Contract  \\\n",
       "0  No phone service             DSL             No  ...  Month-to-month   \n",
       "1                No             DSL            Yes  ...        One year   \n",
       "2                No             DSL            Yes  ...  Month-to-month   \n",
       "3  No phone service             DSL            Yes  ...        One year   \n",
       "4                No     Fiber optic             No  ...  Month-to-month   \n",
       "\n",
       "  PaperlessBilling              PaymentMethod MonthlyCharges TotalCharges  \\\n",
       "0              Yes           Electronic check          29.85        29.85   \n",
       "1               No               Mailed check          56.95      1889.50   \n",
       "2              Yes               Mailed check          53.85       108.15   \n",
       "3               No  Bank transfer (automatic)          42.30      1840.75   \n",
       "4              Yes           Electronic check          70.70       151.65   \n",
       "\n",
       "  Churn tenureGroup ChurnBin  MonthlyChargesCategory  TotalChargesCategory  \n",
       "0    No           1        0           (28.3, 38.35]      (-8.685, 868.48]  \n",
       "1    No           3        0           (48.4, 58.45]    (1736.96, 2605.44]  \n",
       "2   Yes           1        1           (48.4, 58.45]      (-8.685, 868.48]  \n",
       "3    No           4        0           (38.35, 48.4]    (1736.96, 2605.44]  \n",
       "4   Yes           1        1           (68.5, 78.55]      (-8.685, 868.48]  \n",
       "\n",
       "[5 rows x 25 columns]"
      ]
     },
     "execution_count": 37,
     "metadata": {},
     "output_type": "execute_result"
    }
   ],
   "source": [
    "## observamos la base actual\n",
    "data.head()"
   ]
  },
  {
   "cell_type": "code",
   "execution_count": 38,
   "metadata": {},
   "outputs": [],
   "source": [
    "# Eliminamos las columnas 'customerID', 'gender', 'TotalCharges', 'TotalChargesCategory'\n",
    "data = data.drop(['customerID', 'gender', 'TotalCharges', 'TotalChargesCategory'], axis=1)"
   ]
  },
  {
   "cell_type": "code",
   "execution_count": 39,
   "metadata": {},
   "outputs": [
    {
     "data": {
      "text/plain": [
       "Index(['SeniorCitizen', 'Partner', 'Dependents', 'tenure', 'PhoneService',\n",
       "       'MultipleLines', 'InternetService', 'OnlineSecurity', 'OnlineBackup',\n",
       "       'DeviceProtection', 'TechSupport', 'StreamingTV', 'StreamingMovies',\n",
       "       'Contract', 'PaperlessBilling', 'PaymentMethod', 'MonthlyCharges',\n",
       "       'Churn', 'tenureGroup', 'ChurnBin', 'MonthlyChargesCategory'],\n",
       "      dtype='object')"
      ]
     },
     "execution_count": 39,
     "metadata": {},
     "output_type": "execute_result"
    }
   ],
   "source": [
    "data.columns"
   ]
  },
  {
   "cell_type": "markdown",
   "metadata": {},
   "source": [
    "Miremos el tipo de cada variable contenida en nuestra base de datos:"
   ]
  },
  {
   "cell_type": "code",
   "execution_count": 40,
   "metadata": {},
   "outputs": [
    {
     "data": {
      "text/plain": [
       "SeniorCitizen                int64\n",
       "Partner                     object\n",
       "Dependents                  object\n",
       "tenure                       int64\n",
       "PhoneService                object\n",
       "MultipleLines               object\n",
       "InternetService             object\n",
       "OnlineSecurity              object\n",
       "OnlineBackup                object\n",
       "DeviceProtection            object\n",
       "TechSupport                 object\n",
       "StreamingTV                 object\n",
       "StreamingMovies             object\n",
       "Contract                    object\n",
       "PaperlessBilling            object\n",
       "PaymentMethod               object\n",
       "MonthlyCharges             float64\n",
       "Churn                       object\n",
       "tenureGroup               category\n",
       "ChurnBin                     int64\n",
       "MonthlyChargesCategory    category\n",
       "dtype: object"
      ]
     },
     "execution_count": 40,
     "metadata": {},
     "output_type": "execute_result"
    }
   ],
   "source": [
    "# tipo de datos\n",
    "data.dtypes"
   ]
  },
  {
   "cell_type": "markdown",
   "metadata": {},
   "source": [
    "Además, convertimos todas las variables tipo 'object' a variables numéricas, ya que los modelos de Machine Learning trabajan mejor con números."
   ]
  },
  {
   "cell_type": "code",
   "execution_count": 41,
   "metadata": {},
   "outputs": [
    {
     "name": "stdout",
     "output_type": "stream",
     "text": [
      "Index(['Partner', 'Dependents', 'PhoneService', 'MultipleLines',\n",
      "       'InternetService', 'OnlineSecurity', 'OnlineBackup', 'DeviceProtection',\n",
      "       'TechSupport', 'StreamingTV', 'StreamingMovies', 'Contract',\n",
      "       'PaperlessBilling', 'PaymentMethod', 'Churn', 'tenureGroup',\n",
      "       'MonthlyChargesCategory'],\n",
      "      dtype='object')\n"
     ]
    }
   ],
   "source": [
    "## Tomamos el vector de columnas\n",
    "\n",
    "cat_columns = data.select_dtypes(['object', 'category']).columns\n",
    "print(cat_columns)"
   ]
  },
  {
   "cell_type": "markdown",
   "metadata": {},
   "source": [
    "Creamos la base de datos **data_cat** en la cual convertimos todad las variables tipo '*object*' de la base **data** a variables tipo '*category*'."
   ]
  },
  {
   "cell_type": "code",
   "execution_count": 42,
   "metadata": {},
   "outputs": [],
   "source": [
    "## Convertimos variables 'object' a categóricas\n",
    "\n",
    "data_cat = data.astype({'Partner':'category', 'Dependents':'category', 'PhoneService':'category', 'MultipleLines':'category',\n",
    "       'InternetService':'category', 'OnlineSecurity':'category', 'OnlineBackup':'category', 'DeviceProtection':'category',\n",
    "       'TechSupport':'category', 'StreamingTV':'category', 'StreamingMovies':'category', 'Contract':'category',\n",
    "       'PaperlessBilling':'category', 'PaymentMethod':'category', 'Churn':'category'})"
   ]
  },
  {
   "cell_type": "code",
   "execution_count": 43,
   "metadata": {},
   "outputs": [
    {
     "data": {
      "text/plain": [
       "SeniorCitizen                int64\n",
       "Partner                   category\n",
       "Dependents                category\n",
       "tenure                       int64\n",
       "PhoneService              category\n",
       "MultipleLines             category\n",
       "InternetService           category\n",
       "OnlineSecurity            category\n",
       "OnlineBackup              category\n",
       "DeviceProtection          category\n",
       "TechSupport               category\n",
       "StreamingTV               category\n",
       "StreamingMovies           category\n",
       "Contract                  category\n",
       "PaperlessBilling          category\n",
       "PaymentMethod             category\n",
       "MonthlyCharges             float64\n",
       "Churn                     category\n",
       "tenureGroup               category\n",
       "ChurnBin                     int64\n",
       "MonthlyChargesCategory    category\n",
       "dtype: object"
      ]
     },
     "execution_count": 43,
     "metadata": {},
     "output_type": "execute_result"
    }
   ],
   "source": [
    "## Miramos el tipo de las variables\n",
    "data_cat.dtypes"
   ]
  },
  {
   "cell_type": "code",
   "execution_count": 44,
   "metadata": {},
   "outputs": [
    {
     "data": {
      "text/html": [
       "<div>\n",
       "<style scoped>\n",
       "    .dataframe tbody tr th:only-of-type {\n",
       "        vertical-align: middle;\n",
       "    }\n",
       "\n",
       "    .dataframe tbody tr th {\n",
       "        vertical-align: top;\n",
       "    }\n",
       "\n",
       "    .dataframe thead th {\n",
       "        text-align: right;\n",
       "    }\n",
       "</style>\n",
       "<table border=\"1\" class=\"dataframe\">\n",
       "  <thead>\n",
       "    <tr style=\"text-align: right;\">\n",
       "      <th></th>\n",
       "      <th>SeniorCitizen</th>\n",
       "      <th>Partner</th>\n",
       "      <th>Dependents</th>\n",
       "      <th>tenure</th>\n",
       "      <th>PhoneService</th>\n",
       "      <th>MultipleLines</th>\n",
       "      <th>InternetService</th>\n",
       "      <th>OnlineSecurity</th>\n",
       "      <th>OnlineBackup</th>\n",
       "      <th>DeviceProtection</th>\n",
       "      <th>...</th>\n",
       "      <th>StreamingTV</th>\n",
       "      <th>StreamingMovies</th>\n",
       "      <th>Contract</th>\n",
       "      <th>PaperlessBilling</th>\n",
       "      <th>PaymentMethod</th>\n",
       "      <th>MonthlyCharges</th>\n",
       "      <th>Churn</th>\n",
       "      <th>tenureGroup</th>\n",
       "      <th>ChurnBin</th>\n",
       "      <th>MonthlyChargesCategory</th>\n",
       "    </tr>\n",
       "  </thead>\n",
       "  <tbody>\n",
       "    <tr>\n",
       "      <td>0</td>\n",
       "      <td>0</td>\n",
       "      <td>Yes</td>\n",
       "      <td>No</td>\n",
       "      <td>1</td>\n",
       "      <td>No</td>\n",
       "      <td>No phone service</td>\n",
       "      <td>DSL</td>\n",
       "      <td>No</td>\n",
       "      <td>Yes</td>\n",
       "      <td>No</td>\n",
       "      <td>...</td>\n",
       "      <td>No</td>\n",
       "      <td>No</td>\n",
       "      <td>Month-to-month</td>\n",
       "      <td>Yes</td>\n",
       "      <td>Electronic check</td>\n",
       "      <td>29.85</td>\n",
       "      <td>No</td>\n",
       "      <td>1</td>\n",
       "      <td>0</td>\n",
       "      <td>(28.3, 38.35]</td>\n",
       "    </tr>\n",
       "    <tr>\n",
       "      <td>1</td>\n",
       "      <td>0</td>\n",
       "      <td>No</td>\n",
       "      <td>No</td>\n",
       "      <td>34</td>\n",
       "      <td>Yes</td>\n",
       "      <td>No</td>\n",
       "      <td>DSL</td>\n",
       "      <td>Yes</td>\n",
       "      <td>No</td>\n",
       "      <td>Yes</td>\n",
       "      <td>...</td>\n",
       "      <td>No</td>\n",
       "      <td>No</td>\n",
       "      <td>One year</td>\n",
       "      <td>No</td>\n",
       "      <td>Mailed check</td>\n",
       "      <td>56.95</td>\n",
       "      <td>No</td>\n",
       "      <td>3</td>\n",
       "      <td>0</td>\n",
       "      <td>(48.4, 58.45]</td>\n",
       "    </tr>\n",
       "    <tr>\n",
       "      <td>2</td>\n",
       "      <td>0</td>\n",
       "      <td>No</td>\n",
       "      <td>No</td>\n",
       "      <td>2</td>\n",
       "      <td>Yes</td>\n",
       "      <td>No</td>\n",
       "      <td>DSL</td>\n",
       "      <td>Yes</td>\n",
       "      <td>Yes</td>\n",
       "      <td>No</td>\n",
       "      <td>...</td>\n",
       "      <td>No</td>\n",
       "      <td>No</td>\n",
       "      <td>Month-to-month</td>\n",
       "      <td>Yes</td>\n",
       "      <td>Mailed check</td>\n",
       "      <td>53.85</td>\n",
       "      <td>Yes</td>\n",
       "      <td>1</td>\n",
       "      <td>1</td>\n",
       "      <td>(48.4, 58.45]</td>\n",
       "    </tr>\n",
       "    <tr>\n",
       "      <td>3</td>\n",
       "      <td>0</td>\n",
       "      <td>No</td>\n",
       "      <td>No</td>\n",
       "      <td>45</td>\n",
       "      <td>No</td>\n",
       "      <td>No phone service</td>\n",
       "      <td>DSL</td>\n",
       "      <td>Yes</td>\n",
       "      <td>No</td>\n",
       "      <td>Yes</td>\n",
       "      <td>...</td>\n",
       "      <td>No</td>\n",
       "      <td>No</td>\n",
       "      <td>One year</td>\n",
       "      <td>No</td>\n",
       "      <td>Bank transfer (automatic)</td>\n",
       "      <td>42.30</td>\n",
       "      <td>No</td>\n",
       "      <td>4</td>\n",
       "      <td>0</td>\n",
       "      <td>(38.35, 48.4]</td>\n",
       "    </tr>\n",
       "    <tr>\n",
       "      <td>4</td>\n",
       "      <td>0</td>\n",
       "      <td>No</td>\n",
       "      <td>No</td>\n",
       "      <td>2</td>\n",
       "      <td>Yes</td>\n",
       "      <td>No</td>\n",
       "      <td>Fiber optic</td>\n",
       "      <td>No</td>\n",
       "      <td>No</td>\n",
       "      <td>No</td>\n",
       "      <td>...</td>\n",
       "      <td>No</td>\n",
       "      <td>No</td>\n",
       "      <td>Month-to-month</td>\n",
       "      <td>Yes</td>\n",
       "      <td>Electronic check</td>\n",
       "      <td>70.70</td>\n",
       "      <td>Yes</td>\n",
       "      <td>1</td>\n",
       "      <td>1</td>\n",
       "      <td>(68.5, 78.55]</td>\n",
       "    </tr>\n",
       "  </tbody>\n",
       "</table>\n",
       "<p>5 rows × 21 columns</p>\n",
       "</div>"
      ],
      "text/plain": [
       "   SeniorCitizen Partner Dependents  tenure PhoneService     MultipleLines  \\\n",
       "0              0     Yes         No       1           No  No phone service   \n",
       "1              0      No         No      34          Yes                No   \n",
       "2              0      No         No       2          Yes                No   \n",
       "3              0      No         No      45           No  No phone service   \n",
       "4              0      No         No       2          Yes                No   \n",
       "\n",
       "  InternetService OnlineSecurity OnlineBackup DeviceProtection  ...  \\\n",
       "0             DSL             No          Yes               No  ...   \n",
       "1             DSL            Yes           No              Yes  ...   \n",
       "2             DSL            Yes          Yes               No  ...   \n",
       "3             DSL            Yes           No              Yes  ...   \n",
       "4     Fiber optic             No           No               No  ...   \n",
       "\n",
       "  StreamingTV StreamingMovies        Contract PaperlessBilling  \\\n",
       "0          No              No  Month-to-month              Yes   \n",
       "1          No              No        One year               No   \n",
       "2          No              No  Month-to-month              Yes   \n",
       "3          No              No        One year               No   \n",
       "4          No              No  Month-to-month              Yes   \n",
       "\n",
       "               PaymentMethod MonthlyCharges  Churn tenureGroup ChurnBin  \\\n",
       "0           Electronic check          29.85     No           1        0   \n",
       "1               Mailed check          56.95     No           3        0   \n",
       "2               Mailed check          53.85    Yes           1        1   \n",
       "3  Bank transfer (automatic)          42.30     No           4        0   \n",
       "4           Electronic check          70.70    Yes           1        1   \n",
       "\n",
       "   MonthlyChargesCategory  \n",
       "0           (28.3, 38.35]  \n",
       "1           (48.4, 58.45]  \n",
       "2           (48.4, 58.45]  \n",
       "3           (38.35, 48.4]  \n",
       "4           (68.5, 78.55]  \n",
       "\n",
       "[5 rows x 21 columns]"
      ]
     },
     "execution_count": 44,
     "metadata": {},
     "output_type": "execute_result"
    }
   ],
   "source": [
    "## observamos la base actual\n",
    "data_cat.head()"
   ]
  },
  {
   "cell_type": "markdown",
   "metadata": {},
   "source": [
    "Aplicamos la función \"**cat.codes**\" sobre las columnas de clase \"*category*\" en nuestra base de datos para asignar un valor numérico a los a cada registro, de acuerdo al atributo que tome."
   ]
  },
  {
   "cell_type": "code",
   "execution_count": 45,
   "metadata": {},
   "outputs": [],
   "source": [
    "## Convertimos variables categóricas a numéricas\n",
    "\n",
    "data_cat[cat_columns]= data_cat[cat_columns].apply(lambda x: x.cat.codes)"
   ]
  },
  {
   "cell_type": "code",
   "execution_count": 46,
   "metadata": {},
   "outputs": [
    {
     "data": {
      "text/html": [
       "<div>\n",
       "<style scoped>\n",
       "    .dataframe tbody tr th:only-of-type {\n",
       "        vertical-align: middle;\n",
       "    }\n",
       "\n",
       "    .dataframe tbody tr th {\n",
       "        vertical-align: top;\n",
       "    }\n",
       "\n",
       "    .dataframe thead th {\n",
       "        text-align: right;\n",
       "    }\n",
       "</style>\n",
       "<table border=\"1\" class=\"dataframe\">\n",
       "  <thead>\n",
       "    <tr style=\"text-align: right;\">\n",
       "      <th></th>\n",
       "      <th>SeniorCitizen</th>\n",
       "      <th>Partner</th>\n",
       "      <th>Dependents</th>\n",
       "      <th>tenure</th>\n",
       "      <th>PhoneService</th>\n",
       "      <th>MultipleLines</th>\n",
       "      <th>InternetService</th>\n",
       "      <th>OnlineSecurity</th>\n",
       "      <th>OnlineBackup</th>\n",
       "      <th>DeviceProtection</th>\n",
       "      <th>...</th>\n",
       "      <th>StreamingTV</th>\n",
       "      <th>StreamingMovies</th>\n",
       "      <th>Contract</th>\n",
       "      <th>PaperlessBilling</th>\n",
       "      <th>PaymentMethod</th>\n",
       "      <th>MonthlyCharges</th>\n",
       "      <th>Churn</th>\n",
       "      <th>tenureGroup</th>\n",
       "      <th>ChurnBin</th>\n",
       "      <th>MonthlyChargesCategory</th>\n",
       "    </tr>\n",
       "  </thead>\n",
       "  <tbody>\n",
       "    <tr>\n",
       "      <td>0</td>\n",
       "      <td>0</td>\n",
       "      <td>1</td>\n",
       "      <td>0</td>\n",
       "      <td>1</td>\n",
       "      <td>0</td>\n",
       "      <td>1</td>\n",
       "      <td>0</td>\n",
       "      <td>0</td>\n",
       "      <td>2</td>\n",
       "      <td>0</td>\n",
       "      <td>...</td>\n",
       "      <td>0</td>\n",
       "      <td>0</td>\n",
       "      <td>0</td>\n",
       "      <td>1</td>\n",
       "      <td>2</td>\n",
       "      <td>29.85</td>\n",
       "      <td>0</td>\n",
       "      <td>0</td>\n",
       "      <td>0</td>\n",
       "      <td>1</td>\n",
       "    </tr>\n",
       "    <tr>\n",
       "      <td>1</td>\n",
       "      <td>0</td>\n",
       "      <td>0</td>\n",
       "      <td>0</td>\n",
       "      <td>34</td>\n",
       "      <td>1</td>\n",
       "      <td>0</td>\n",
       "      <td>0</td>\n",
       "      <td>2</td>\n",
       "      <td>0</td>\n",
       "      <td>2</td>\n",
       "      <td>...</td>\n",
       "      <td>0</td>\n",
       "      <td>0</td>\n",
       "      <td>1</td>\n",
       "      <td>0</td>\n",
       "      <td>3</td>\n",
       "      <td>56.95</td>\n",
       "      <td>0</td>\n",
       "      <td>2</td>\n",
       "      <td>0</td>\n",
       "      <td>3</td>\n",
       "    </tr>\n",
       "    <tr>\n",
       "      <td>2</td>\n",
       "      <td>0</td>\n",
       "      <td>0</td>\n",
       "      <td>0</td>\n",
       "      <td>2</td>\n",
       "      <td>1</td>\n",
       "      <td>0</td>\n",
       "      <td>0</td>\n",
       "      <td>2</td>\n",
       "      <td>2</td>\n",
       "      <td>0</td>\n",
       "      <td>...</td>\n",
       "      <td>0</td>\n",
       "      <td>0</td>\n",
       "      <td>0</td>\n",
       "      <td>1</td>\n",
       "      <td>3</td>\n",
       "      <td>53.85</td>\n",
       "      <td>1</td>\n",
       "      <td>0</td>\n",
       "      <td>1</td>\n",
       "      <td>3</td>\n",
       "    </tr>\n",
       "    <tr>\n",
       "      <td>3</td>\n",
       "      <td>0</td>\n",
       "      <td>0</td>\n",
       "      <td>0</td>\n",
       "      <td>45</td>\n",
       "      <td>0</td>\n",
       "      <td>1</td>\n",
       "      <td>0</td>\n",
       "      <td>2</td>\n",
       "      <td>0</td>\n",
       "      <td>2</td>\n",
       "      <td>...</td>\n",
       "      <td>0</td>\n",
       "      <td>0</td>\n",
       "      <td>1</td>\n",
       "      <td>0</td>\n",
       "      <td>0</td>\n",
       "      <td>42.30</td>\n",
       "      <td>0</td>\n",
       "      <td>3</td>\n",
       "      <td>0</td>\n",
       "      <td>2</td>\n",
       "    </tr>\n",
       "    <tr>\n",
       "      <td>4</td>\n",
       "      <td>0</td>\n",
       "      <td>0</td>\n",
       "      <td>0</td>\n",
       "      <td>2</td>\n",
       "      <td>1</td>\n",
       "      <td>0</td>\n",
       "      <td>1</td>\n",
       "      <td>0</td>\n",
       "      <td>0</td>\n",
       "      <td>0</td>\n",
       "      <td>...</td>\n",
       "      <td>0</td>\n",
       "      <td>0</td>\n",
       "      <td>0</td>\n",
       "      <td>1</td>\n",
       "      <td>2</td>\n",
       "      <td>70.70</td>\n",
       "      <td>1</td>\n",
       "      <td>0</td>\n",
       "      <td>1</td>\n",
       "      <td>5</td>\n",
       "    </tr>\n",
       "    <tr>\n",
       "      <td>5</td>\n",
       "      <td>0</td>\n",
       "      <td>0</td>\n",
       "      <td>0</td>\n",
       "      <td>8</td>\n",
       "      <td>1</td>\n",
       "      <td>2</td>\n",
       "      <td>1</td>\n",
       "      <td>0</td>\n",
       "      <td>0</td>\n",
       "      <td>2</td>\n",
       "      <td>...</td>\n",
       "      <td>2</td>\n",
       "      <td>2</td>\n",
       "      <td>0</td>\n",
       "      <td>1</td>\n",
       "      <td>2</td>\n",
       "      <td>99.65</td>\n",
       "      <td>1</td>\n",
       "      <td>0</td>\n",
       "      <td>1</td>\n",
       "      <td>8</td>\n",
       "    </tr>\n",
       "    <tr>\n",
       "      <td>6</td>\n",
       "      <td>0</td>\n",
       "      <td>0</td>\n",
       "      <td>1</td>\n",
       "      <td>22</td>\n",
       "      <td>1</td>\n",
       "      <td>2</td>\n",
       "      <td>1</td>\n",
       "      <td>0</td>\n",
       "      <td>2</td>\n",
       "      <td>0</td>\n",
       "      <td>...</td>\n",
       "      <td>2</td>\n",
       "      <td>0</td>\n",
       "      <td>0</td>\n",
       "      <td>1</td>\n",
       "      <td>1</td>\n",
       "      <td>89.10</td>\n",
       "      <td>0</td>\n",
       "      <td>1</td>\n",
       "      <td>0</td>\n",
       "      <td>7</td>\n",
       "    </tr>\n",
       "    <tr>\n",
       "      <td>7</td>\n",
       "      <td>0</td>\n",
       "      <td>0</td>\n",
       "      <td>0</td>\n",
       "      <td>10</td>\n",
       "      <td>0</td>\n",
       "      <td>1</td>\n",
       "      <td>0</td>\n",
       "      <td>2</td>\n",
       "      <td>0</td>\n",
       "      <td>0</td>\n",
       "      <td>...</td>\n",
       "      <td>0</td>\n",
       "      <td>0</td>\n",
       "      <td>0</td>\n",
       "      <td>0</td>\n",
       "      <td>3</td>\n",
       "      <td>29.75</td>\n",
       "      <td>0</td>\n",
       "      <td>0</td>\n",
       "      <td>0</td>\n",
       "      <td>1</td>\n",
       "    </tr>\n",
       "    <tr>\n",
       "      <td>8</td>\n",
       "      <td>0</td>\n",
       "      <td>1</td>\n",
       "      <td>0</td>\n",
       "      <td>28</td>\n",
       "      <td>1</td>\n",
       "      <td>2</td>\n",
       "      <td>1</td>\n",
       "      <td>0</td>\n",
       "      <td>0</td>\n",
       "      <td>2</td>\n",
       "      <td>...</td>\n",
       "      <td>2</td>\n",
       "      <td>2</td>\n",
       "      <td>0</td>\n",
       "      <td>1</td>\n",
       "      <td>2</td>\n",
       "      <td>104.80</td>\n",
       "      <td>1</td>\n",
       "      <td>2</td>\n",
       "      <td>1</td>\n",
       "      <td>8</td>\n",
       "    </tr>\n",
       "    <tr>\n",
       "      <td>9</td>\n",
       "      <td>0</td>\n",
       "      <td>0</td>\n",
       "      <td>1</td>\n",
       "      <td>62</td>\n",
       "      <td>1</td>\n",
       "      <td>0</td>\n",
       "      <td>0</td>\n",
       "      <td>2</td>\n",
       "      <td>2</td>\n",
       "      <td>0</td>\n",
       "      <td>...</td>\n",
       "      <td>0</td>\n",
       "      <td>0</td>\n",
       "      <td>1</td>\n",
       "      <td>0</td>\n",
       "      <td>0</td>\n",
       "      <td>56.15</td>\n",
       "      <td>0</td>\n",
       "      <td>5</td>\n",
       "      <td>0</td>\n",
       "      <td>3</td>\n",
       "    </tr>\n",
       "  </tbody>\n",
       "</table>\n",
       "<p>10 rows × 21 columns</p>\n",
       "</div>"
      ],
      "text/plain": [
       "   SeniorCitizen  Partner  Dependents  tenure  PhoneService  MultipleLines  \\\n",
       "0              0        1           0       1             0              1   \n",
       "1              0        0           0      34             1              0   \n",
       "2              0        0           0       2             1              0   \n",
       "3              0        0           0      45             0              1   \n",
       "4              0        0           0       2             1              0   \n",
       "5              0        0           0       8             1              2   \n",
       "6              0        0           1      22             1              2   \n",
       "7              0        0           0      10             0              1   \n",
       "8              0        1           0      28             1              2   \n",
       "9              0        0           1      62             1              0   \n",
       "\n",
       "   InternetService  OnlineSecurity  OnlineBackup  DeviceProtection  ...  \\\n",
       "0                0               0             2                 0  ...   \n",
       "1                0               2             0                 2  ...   \n",
       "2                0               2             2                 0  ...   \n",
       "3                0               2             0                 2  ...   \n",
       "4                1               0             0                 0  ...   \n",
       "5                1               0             0                 2  ...   \n",
       "6                1               0             2                 0  ...   \n",
       "7                0               2             0                 0  ...   \n",
       "8                1               0             0                 2  ...   \n",
       "9                0               2             2                 0  ...   \n",
       "\n",
       "   StreamingTV  StreamingMovies  Contract  PaperlessBilling  PaymentMethod  \\\n",
       "0            0                0         0                 1              2   \n",
       "1            0                0         1                 0              3   \n",
       "2            0                0         0                 1              3   \n",
       "3            0                0         1                 0              0   \n",
       "4            0                0         0                 1              2   \n",
       "5            2                2         0                 1              2   \n",
       "6            2                0         0                 1              1   \n",
       "7            0                0         0                 0              3   \n",
       "8            2                2         0                 1              2   \n",
       "9            0                0         1                 0              0   \n",
       "\n",
       "   MonthlyCharges  Churn  tenureGroup  ChurnBin  MonthlyChargesCategory  \n",
       "0           29.85      0            0         0                       1  \n",
       "1           56.95      0            2         0                       3  \n",
       "2           53.85      1            0         1                       3  \n",
       "3           42.30      0            3         0                       2  \n",
       "4           70.70      1            0         1                       5  \n",
       "5           99.65      1            0         1                       8  \n",
       "6           89.10      0            1         0                       7  \n",
       "7           29.75      0            0         0                       1  \n",
       "8          104.80      1            2         1                       8  \n",
       "9           56.15      0            5         0                       3  \n",
       "\n",
       "[10 rows x 21 columns]"
      ]
     },
     "execution_count": 46,
     "metadata": {},
     "output_type": "execute_result"
    }
   ],
   "source": [
    "## Observamos la base de datos convertida\n",
    "\n",
    "data_cat.head(10)"
   ]
  },
  {
   "cell_type": "markdown",
   "metadata": {},
   "source": [
    "En la base de datos '*data_cat*' se transformaron también las columnas tenureGroup y MonthlyChargesCategory, creadas anteriormente. En este caso, los valores de la columna tenureGroup se les asignó un número  del 0 al 5, de acuerdo al tiempo de permanencia así:\n",
    "\n",
    "- Menos de un año = 0\n",
    "- Entre 1 y 2 años = 1\n",
    "- Entre 2 y 3 años = 2\n",
    "- Entre 3 y 4 añoss = 3\n",
    "- Entre 4 y 5 años = 4\n",
    "- Entre 5 y 6 años = 5\n",
    "\n",
    "Para los Cargos mensuales, se asignó un número así:\n",
    "\n",
    "- Entre USD 18.15 - 28.3 = 0\n",
    "- Entre USD 28.3 - 38.35 = 1\n",
    "- Entre USD 38.35 - 48.4 = 2\n",
    "- Entre USD 48.4 - 58.45 = 3\n",
    "- Entre USD 58.45 - 68.5 = 4\n",
    "- Entre USD 68.5 - 78.55 = 5\n",
    "- Entre USD 78.55 - 88.6 = 6\n",
    "- Entre USD 88.6 - 98.65 = 7\n",
    "- Entre USD 98.65 - 108.7 = 8\n",
    "- Entre USD 108.7 - 118.75 = 9"
   ]
  },
  {
   "cell_type": "markdown",
   "metadata": {},
   "source": [
    "Teniendo en cuenta lo anterios, procedemos a eliminar de nuestra base de datos las columnas '*Tenure*' y '*MonthlyCharges*', además, ya no necesitamos la columna '*ChurnBin*'."
   ]
  },
  {
   "cell_type": "code",
   "execution_count": 47,
   "metadata": {},
   "outputs": [
    {
     "data": {
      "text/html": [
       "<div>\n",
       "<style scoped>\n",
       "    .dataframe tbody tr th:only-of-type {\n",
       "        vertical-align: middle;\n",
       "    }\n",
       "\n",
       "    .dataframe tbody tr th {\n",
       "        vertical-align: top;\n",
       "    }\n",
       "\n",
       "    .dataframe thead th {\n",
       "        text-align: right;\n",
       "    }\n",
       "</style>\n",
       "<table border=\"1\" class=\"dataframe\">\n",
       "  <thead>\n",
       "    <tr style=\"text-align: right;\">\n",
       "      <th></th>\n",
       "      <th>SeniorCitizen</th>\n",
       "      <th>Partner</th>\n",
       "      <th>Dependents</th>\n",
       "      <th>PhoneService</th>\n",
       "      <th>MultipleLines</th>\n",
       "      <th>InternetService</th>\n",
       "      <th>OnlineSecurity</th>\n",
       "      <th>OnlineBackup</th>\n",
       "      <th>DeviceProtection</th>\n",
       "      <th>TechSupport</th>\n",
       "      <th>StreamingTV</th>\n",
       "      <th>StreamingMovies</th>\n",
       "      <th>Contract</th>\n",
       "      <th>PaperlessBilling</th>\n",
       "      <th>PaymentMethod</th>\n",
       "      <th>Churn</th>\n",
       "      <th>tenureGroup</th>\n",
       "      <th>MonthlyChargesCategory</th>\n",
       "    </tr>\n",
       "  </thead>\n",
       "  <tbody>\n",
       "    <tr>\n",
       "      <td>0</td>\n",
       "      <td>0</td>\n",
       "      <td>1</td>\n",
       "      <td>0</td>\n",
       "      <td>0</td>\n",
       "      <td>1</td>\n",
       "      <td>0</td>\n",
       "      <td>0</td>\n",
       "      <td>2</td>\n",
       "      <td>0</td>\n",
       "      <td>0</td>\n",
       "      <td>0</td>\n",
       "      <td>0</td>\n",
       "      <td>0</td>\n",
       "      <td>1</td>\n",
       "      <td>2</td>\n",
       "      <td>0</td>\n",
       "      <td>0</td>\n",
       "      <td>1</td>\n",
       "    </tr>\n",
       "    <tr>\n",
       "      <td>1</td>\n",
       "      <td>0</td>\n",
       "      <td>0</td>\n",
       "      <td>0</td>\n",
       "      <td>1</td>\n",
       "      <td>0</td>\n",
       "      <td>0</td>\n",
       "      <td>2</td>\n",
       "      <td>0</td>\n",
       "      <td>2</td>\n",
       "      <td>0</td>\n",
       "      <td>0</td>\n",
       "      <td>0</td>\n",
       "      <td>1</td>\n",
       "      <td>0</td>\n",
       "      <td>3</td>\n",
       "      <td>0</td>\n",
       "      <td>2</td>\n",
       "      <td>3</td>\n",
       "    </tr>\n",
       "    <tr>\n",
       "      <td>2</td>\n",
       "      <td>0</td>\n",
       "      <td>0</td>\n",
       "      <td>0</td>\n",
       "      <td>1</td>\n",
       "      <td>0</td>\n",
       "      <td>0</td>\n",
       "      <td>2</td>\n",
       "      <td>2</td>\n",
       "      <td>0</td>\n",
       "      <td>0</td>\n",
       "      <td>0</td>\n",
       "      <td>0</td>\n",
       "      <td>0</td>\n",
       "      <td>1</td>\n",
       "      <td>3</td>\n",
       "      <td>1</td>\n",
       "      <td>0</td>\n",
       "      <td>3</td>\n",
       "    </tr>\n",
       "    <tr>\n",
       "      <td>3</td>\n",
       "      <td>0</td>\n",
       "      <td>0</td>\n",
       "      <td>0</td>\n",
       "      <td>0</td>\n",
       "      <td>1</td>\n",
       "      <td>0</td>\n",
       "      <td>2</td>\n",
       "      <td>0</td>\n",
       "      <td>2</td>\n",
       "      <td>2</td>\n",
       "      <td>0</td>\n",
       "      <td>0</td>\n",
       "      <td>1</td>\n",
       "      <td>0</td>\n",
       "      <td>0</td>\n",
       "      <td>0</td>\n",
       "      <td>3</td>\n",
       "      <td>2</td>\n",
       "    </tr>\n",
       "    <tr>\n",
       "      <td>4</td>\n",
       "      <td>0</td>\n",
       "      <td>0</td>\n",
       "      <td>0</td>\n",
       "      <td>1</td>\n",
       "      <td>0</td>\n",
       "      <td>1</td>\n",
       "      <td>0</td>\n",
       "      <td>0</td>\n",
       "      <td>0</td>\n",
       "      <td>0</td>\n",
       "      <td>0</td>\n",
       "      <td>0</td>\n",
       "      <td>0</td>\n",
       "      <td>1</td>\n",
       "      <td>2</td>\n",
       "      <td>1</td>\n",
       "      <td>0</td>\n",
       "      <td>5</td>\n",
       "    </tr>\n",
       "  </tbody>\n",
       "</table>\n",
       "</div>"
      ],
      "text/plain": [
       "   SeniorCitizen  Partner  Dependents  PhoneService  MultipleLines  \\\n",
       "0              0        1           0             0              1   \n",
       "1              0        0           0             1              0   \n",
       "2              0        0           0             1              0   \n",
       "3              0        0           0             0              1   \n",
       "4              0        0           0             1              0   \n",
       "\n",
       "   InternetService  OnlineSecurity  OnlineBackup  DeviceProtection  \\\n",
       "0                0               0             2                 0   \n",
       "1                0               2             0                 2   \n",
       "2                0               2             2                 0   \n",
       "3                0               2             0                 2   \n",
       "4                1               0             0                 0   \n",
       "\n",
       "   TechSupport  StreamingTV  StreamingMovies  Contract  PaperlessBilling  \\\n",
       "0            0            0                0         0                 1   \n",
       "1            0            0                0         1                 0   \n",
       "2            0            0                0         0                 1   \n",
       "3            2            0                0         1                 0   \n",
       "4            0            0                0         0                 1   \n",
       "\n",
       "   PaymentMethod  Churn  tenureGroup  MonthlyChargesCategory  \n",
       "0              2      0            0                       1  \n",
       "1              3      0            2                       3  \n",
       "2              3      1            0                       3  \n",
       "3              0      0            3                       2  \n",
       "4              2      1            0                       5  "
      ]
     },
     "execution_count": 47,
     "metadata": {},
     "output_type": "execute_result"
    }
   ],
   "source": [
    "data_cat = data_cat.drop(['tenure', 'MonthlyCharges', 'ChurnBin'], axis=1)\n",
    "data_cat.head()"
   ]
  },
  {
   "cell_type": "markdown",
   "metadata": {},
   "source": [
    "### Variables de mayor relevancia\n",
    "\n",
    "A conttinuación, aplicamos un proceso de selección manual de características para determinar la importancia de cada una de las variables de nuestra base de datos (**data_cat**) para predecir el abandono de los Usuarios. En este caso hemos decidido utilizar los modelos de Regresión Logística y Bosque Aleatorio para el proceso de clasificación:\n"
   ]
  },
  {
   "cell_type": "markdown",
   "metadata": {},
   "source": [
    "Separamos la columna objetuvo '*Churn*' de la base de datos."
   ]
  },
  {
   "cell_type": "code",
   "execution_count": 48,
   "metadata": {},
   "outputs": [],
   "source": [
    "data_feat = data_cat.drop(['Churn'], axis=1)\n",
    "target = data_cat.loc[:, ['Churn']]"
   ]
  },
  {
   "cell_type": "markdown",
   "metadata": {},
   "source": [
    "A continuación, procedemos a dividir la base de datos en un 80% para el entrenamiento y 20% de prueba"
   ]
  },
  {
   "cell_type": "code",
   "execution_count": 49,
   "metadata": {},
   "outputs": [],
   "source": [
    "## Importamos las librerías\n",
    "from sklearn.linear_model import LogisticRegression\n",
    "from sklearn.ensemble import RandomForestClassifier\n",
    "from sklearn.preprocessing import StandardScaler\n",
    "from sklearn.metrics import accuracy_score\n",
    "from sklearn.model_selection import train_test_split\n",
    "\n",
    "## Dividimos la base de datos\n",
    "X_train, X_test, y_train, y_test = train_test_split(data_feat, target, test_size=0.2, random_state=0)"
   ]
  },
  {
   "cell_type": "markdown",
   "metadata": {},
   "source": [
    "Utilizamos una instancia StandarScaler() para estandarizar los datos de entrenamiento y definimos el modelo de Regresión Logística como **lr** y el de Bosque Aleatorio como **rf**. "
   ]
  },
  {
   "cell_type": "code",
   "execution_count": 50,
   "metadata": {},
   "outputs": [],
   "source": [
    "scaler = StandardScaler()\n",
    "lr = LogisticRegression()\n",
    "rf = RandomForestClassifier()"
   ]
  },
  {
   "cell_type": "markdown",
   "metadata": {},
   "source": [
    "Ajustamos el escalador a los datos de entranamiento:"
   ]
  },
  {
   "cell_type": "code",
   "execution_count": 51,
   "metadata": {},
   "outputs": [],
   "source": [
    "# Ajustamos escalador\n",
    "X_train_std = scaler.fit_transform(X_train)"
   ]
  },
  {
   "cell_type": "markdown",
   "metadata": {},
   "source": [
    "Ahora ajustamos ambos modelos a los datos de entrenamiento escalados:"
   ]
  },
  {
   "cell_type": "code",
   "execution_count": 52,
   "metadata": {},
   "outputs": [
    {
     "name": "stderr",
     "output_type": "stream",
     "text": [
      "C:\\Users\\Usuario\\Anaconda3\\lib\\site-packages\\sklearn\\linear_model\\logistic.py:432: FutureWarning: Default solver will be changed to 'lbfgs' in 0.22. Specify a solver to silence this warning.\n",
      "  FutureWarning)\n",
      "C:\\Users\\Usuario\\Anaconda3\\lib\\site-packages\\sklearn\\utils\\validation.py:724: DataConversionWarning: A column-vector y was passed when a 1d array was expected. Please change the shape of y to (n_samples, ), for example using ravel().\n",
      "  y = column_or_1d(y, warn=True)\n",
      "C:\\Users\\Usuario\\Anaconda3\\lib\\site-packages\\sklearn\\ensemble\\forest.py:245: FutureWarning: The default value of n_estimators will change from 10 in version 0.20 to 100 in 0.22.\n",
      "  \"10 in version 0.20 to 100 in 0.22.\", FutureWarning)\n",
      "C:\\Users\\Usuario\\Anaconda3\\lib\\site-packages\\ipykernel_launcher.py:5: DataConversionWarning: A column-vector y was passed when a 1d array was expected. Please change the shape of y to (n_samples,), for example using ravel().\n",
      "  \"\"\"\n"
     ]
    },
    {
     "data": {
      "text/plain": [
       "RandomForestClassifier(bootstrap=True, class_weight=None, criterion='gini',\n",
       "                       max_depth=None, max_features='auto', max_leaf_nodes=None,\n",
       "                       min_impurity_decrease=0.0, min_impurity_split=None,\n",
       "                       min_samples_leaf=1, min_samples_split=2,\n",
       "                       min_weight_fraction_leaf=0.0, n_estimators=10,\n",
       "                       n_jobs=None, oob_score=False, random_state=None,\n",
       "                       verbose=0, warm_start=False)"
      ]
     },
     "execution_count": 52,
     "metadata": {},
     "output_type": "execute_result"
    }
   ],
   "source": [
    "# Ajustamos modelo de Regresión Logística\n",
    "lr.fit(X_train_std, y_train)\n",
    "\n",
    "# Ajustamos modelo de Bosque Aleatorio\n",
    "rf.fit(X_train_std, y_train)"
   ]
  },
  {
   "cell_type": "markdown",
   "metadata": {},
   "source": [
    "Escalamos las características del conjunto de prueba. "
   ]
  },
  {
   "cell_type": "code",
   "execution_count": 53,
   "metadata": {},
   "outputs": [],
   "source": [
    "# Escalamos conjunto prueba\n",
    "X_test_std = scaler.transform(X_test)"
   ]
  },
  {
   "cell_type": "markdown",
   "metadata": {},
   "source": [
    "Predecimos el abandono de Usuarios utilizando cada modelo."
   ]
  },
  {
   "cell_type": "code",
   "execution_count": 104,
   "metadata": {},
   "outputs": [
    {
     "name": "stdout",
     "output_type": "stream",
     "text": [
      "97.7% de precisión con Regresión Logística.\n",
      "98.4% de precisión con Bosque Aleatorio.\n"
     ]
    }
   ],
   "source": [
    "# Regresión Logística\n",
    "lr_pred = lr.predict(X_test_std)\n",
    "acc = accuracy_score(y_test, lr_pred)\n",
    "print(\"{0:.1%} de precisión con Regresión Logística.\".format(acc))\n",
    "\n",
    "# Bosque Aleatorio\n",
    "rf_pred = rf.predict(X_test_std)\n",
    "acc = accuracy_score(y_test, rf_pred)\n",
    "print(\"{0:.1%} de precisión con Bosque Aleatorio.\".format(acc))"
   ]
  },
  {
   "cell_type": "markdown",
   "metadata": {},
   "source": [
    "Importancia de cada característica, de acuerdo con cada modelo:"
   ]
  },
  {
   "cell_type": "code",
   "execution_count": 55,
   "metadata": {},
   "outputs": [
    {
     "name": "stdout",
     "output_type": "stream",
     "text": [
      "Importancia de acuerdo al modelo de Regresión logística: \n",
      "{'SeniorCitizen': 0.09, 'Partner': 0.01, 'Dependents': 0.11, 'PhoneService': 0.25, 'MultipleLines': 0.11, 'InternetService': 0.17, 'OnlineSecurity': 0.23, 'OnlineBackup': 0.17, 'DeviceProtection': 0.07, 'TechSupport': 0.21, 'StreamingTV': 0.04, 'StreamingMovies': 0.02, 'Contract': 0.67, 'PaperlessBilling': 0.18, 'PaymentMethod': 0.1, 'tenureGroup': 0.73, 'MonthlyChargesCategory': 0.75}\n",
      "\n",
      "Importancia de acuerdo al modelo de Bosque Aleatorio: \n",
      "{'SeniorCitizen': 0.04, 'Partner': 0.05, 'Dependents': 0.03, 'PhoneService': 0.01, 'MultipleLines': 0.04, 'InternetService': 0.02, 'OnlineSecurity': 0.06, 'OnlineBackup': 0.05, 'DeviceProtection': 0.04, 'TechSupport': 0.05, 'StreamingTV': 0.03, 'StreamingMovies': 0.03, 'Contract': 0.14, 'PaperlessBilling': 0.05, 'PaymentMethod': 0.11, 'tenureGroup': 0.16, 'MonthlyChargesCategory': 0.09}\n",
      "\n"
     ]
    }
   ],
   "source": [
    "# Regresión Logística\n",
    "lr_imp = dict(zip(X_train.columns, abs(lr.coef_[0]).round(2)))\n",
    "print(\"Importancia de acuerdo al modelo de Regresión logística: \")\n",
    "print(\"{}\\n\".format(lr_imp))\n",
    "\n",
    "# Bosque Aleatorio\n",
    "rf_imp = dict(zip(X_train.columns, rf.feature_importances_.round(2)))\n",
    "print(\"Importancia de acuerdo al modelo de Bosque Aleatorio: \")\n",
    "print(\"{}\\n\".format(rf_imp))\n"
   ]
  },
  {
   "cell_type": "markdown",
   "metadata": {},
   "source": [
    "Ahora seleccionamos las características de mayor importancia, según cada modelo. Para esto seleccionamos aquellas cuya importancia esté por encima de la media."
   ]
  },
  {
   "cell_type": "code",
   "execution_count": 56,
   "metadata": {},
   "outputs": [
    {
     "name": "stdout",
     "output_type": "stream",
     "text": [
      "PhoneService\n",
      "OnlineSecurity\n",
      "Contract\n",
      "tenureGroup\n",
      "MonthlyChargesCategory\n"
     ]
    }
   ],
   "source": [
    "# Regresión logística\n",
    "\n",
    "for key, value in lr_imp.items():\n",
    "    if abs(value) > abs(lr.coef_[0]).mean():\n",
    "        print(key, sep='')"
   ]
  },
  {
   "cell_type": "code",
   "execution_count": 57,
   "metadata": {},
   "outputs": [
    {
     "name": "stdout",
     "output_type": "stream",
     "text": [
      "OnlineSecurity\n",
      "Contract\n",
      "PaymentMethod\n",
      "tenureGroup\n",
      "MonthlyChargesCategory\n"
     ]
    }
   ],
   "source": [
    "# Bosque Aleatorio\n",
    "\n",
    "for key, value in rf_imp.items():\n",
    "    if value > abs(rf.feature_importances_).mean():\n",
    "        print(key, sep='')"
   ]
  },
  {
   "cell_type": "markdown",
   "metadata": {},
   "source": [
    "En este caso, podemos decidirnos por tomar aquellas características a las que ambos modelos arrojaron como las más importantes. Estas serían:\n",
    "- Seguridad Online (OnlineSecurity)\n",
    "- Tipo de contrato (Contract)\n",
    "- Tiempo de permanencia (tenureGroup)\n",
    "- Cargos Mensuales (MonthlyChargesCategory)\n",
    "    "
   ]
  },
  {
   "cell_type": "markdown",
   "metadata": {},
   "source": [
    "### K-Means"
   ]
  },
  {
   "cell_type": "markdown",
   "metadata": {},
   "source": [
    "Para el objetivo del notebook, se aplicará el método de K-Means sobre la base de datos **data_cat** para agrupar a los Usuarios, luego se analizará el comportamiento de las variables en cada grupo, respecto al abandono. "
   ]
  },
  {
   "cell_type": "markdown",
   "metadata": {},
   "source": [
    "Determinamos el número 'óptimo' de clusters en los cuales deberíamos dividir la base datos a través del gráfico del codo, el cuál busca el porcentaje de varianza explicada como función del número de clusters. Al final se elige el punto en donde se considere que el añadir otro cluster no aporta mayor precisión al modelo. "
   ]
  },
  {
   "cell_type": "code",
   "execution_count": 58,
   "metadata": {},
   "outputs": [
    {
     "data": {
      "image/png": "[encoded data removed]",
      "text/plain": [
       "<Figure size 1152x576 with 1 Axes>"
      ]
     },
     "metadata": {
      "needs_background": "light"
     },
     "output_type": "display_data"
    }
   ],
   "source": [
    "from sklearn.cluster import KMeans\n",
    "\n",
    "## Buscamos el valor de K\n",
    "\n",
    "Nc = range(1, 10)\n",
    "kmeans = [KMeans(n_clusters=i) for i in Nc]\n",
    "kmeans\n",
    "score = [kmeans[i].fit(data_feat).score(data_feat) for i in range(len(kmeans))]\n",
    "score\n",
    "\n",
    "plt.figure(figsize=(16, 8))\n",
    "plt.plot(Nc,score)\n",
    "plt.xlabel('Number of Clusters')\n",
    "plt.ylabel('Score')\n",
    "plt.title('Elbow Curve')\n",
    "plt.show()"
   ]
  },
  {
   "cell_type": "markdown",
   "metadata": {},
   "source": [
    "Tomamos K = 4 y aplicamos K-Means sobre la base de datos:"
   ]
  },
  {
   "cell_type": "code",
   "execution_count": 59,
   "metadata": {},
   "outputs": [
    {
     "name": "stdout",
     "output_type": "stream",
     "text": [
      "[[0.23824738 0.36193519 0.18804199 0.99452305 0.93382017 0.80648106\n",
      "  0.40803286 0.56777727 0.58146965 0.42446372 0.86079416 0.87448654\n",
      "  0.1232314  0.73938841 1.71519854 0.8297581  5.82199909]\n",
      " [0.07482993 0.63520408 0.44047619 0.78571429 0.80442177 1.13945578\n",
      "  1.09353741 1.03571429 0.97619048 1.00170068 0.81802721 0.83333333\n",
      "  1.46088435 0.39455782 1.22278912 3.95323129 1.25510204]\n",
      " [0.07306191 0.32013385 0.30340212 0.79754601 0.39765756 0.95482432\n",
      "  0.74400446 0.72058003 0.67261573 0.72838818 0.61684328 0.61795873\n",
      "  0.36029002 0.42108199 2.13831567 0.5103179  1.1344116 ]\n",
      " [0.21295805 0.68401487 0.3377589  0.97079129 1.55018587 0.70578864\n",
      "  1.08868826 1.39670738 1.45618694 1.16834838 1.58576739 1.58576739\n",
      "  1.18374934 0.70738184 1.0929368  4.22464153 7.13913967]]\n"
     ]
    }
   ],
   "source": [
    "# k=4\n",
    "\n",
    "kmeans = KMeans(n_clusters=4).fit(data_feat)\n",
    "centroids = kmeans.cluster_centers_\n",
    "print(centroids)"
   ]
  },
  {
   "cell_type": "markdown",
   "metadata": {},
   "source": [
    "En este caso tenemos muchas variables, por lo que no es viable realizar una gráfica. Sin embargo, se realizará el análisis de acuerdo con los resultados que se vayan obteniendo:"
   ]
  },
  {
   "cell_type": "code",
   "execution_count": 60,
   "metadata": {},
   "outputs": [
    {
     "name": "stdout",
     "output_type": "stream",
     "text": [
      "(7043,)\n"
     ]
    }
   ],
   "source": [
    "groups = kmeans.labels_\n",
    "print(groups.shape)"
   ]
  },
  {
   "cell_type": "code",
   "execution_count": 61,
   "metadata": {},
   "outputs": [
    {
     "name": "stdout",
     "output_type": "stream",
     "text": [
      "(7043, 1)\n"
     ]
    },
    {
     "data": {
      "text/html": [
       "<div>\n",
       "<style scoped>\n",
       "    .dataframe tbody tr th:only-of-type {\n",
       "        vertical-align: middle;\n",
       "    }\n",
       "\n",
       "    .dataframe tbody tr th {\n",
       "        vertical-align: top;\n",
       "    }\n",
       "\n",
       "    .dataframe thead th {\n",
       "        text-align: right;\n",
       "    }\n",
       "</style>\n",
       "<table border=\"1\" class=\"dataframe\">\n",
       "  <thead>\n",
       "    <tr style=\"text-align: right;\">\n",
       "      <th></th>\n",
       "      <th>labels</th>\n",
       "    </tr>\n",
       "  </thead>\n",
       "  <tbody>\n",
       "    <tr>\n",
       "      <td>0</td>\n",
       "      <td>2</td>\n",
       "    </tr>\n",
       "    <tr>\n",
       "      <td>1</td>\n",
       "      <td>2</td>\n",
       "    </tr>\n",
       "    <tr>\n",
       "      <td>2</td>\n",
       "      <td>2</td>\n",
       "    </tr>\n",
       "    <tr>\n",
       "      <td>3</td>\n",
       "      <td>1</td>\n",
       "    </tr>\n",
       "    <tr>\n",
       "      <td>4</td>\n",
       "      <td>0</td>\n",
       "    </tr>\n",
       "  </tbody>\n",
       "</table>\n",
       "</div>"
      ],
      "text/plain": [
       "   labels\n",
       "0       2\n",
       "1       2\n",
       "2       2\n",
       "3       1\n",
       "4       0"
      ]
     },
     "execution_count": 61,
     "metadata": {},
     "output_type": "execute_result"
    }
   ],
   "source": [
    "## Convertimos a pandas\n",
    "\n",
    "groups = pd.DataFrame(data=groups, columns=['labels'])\n",
    "print(groups.shape)\n",
    "groups.head()"
   ]
  },
  {
   "cell_type": "markdown",
   "metadata": {},
   "source": [
    "Miremos si se pudieron generar valores nulos al asignar un grupo a cada registro de la base de datos. "
   ]
  },
  {
   "cell_type": "code",
   "execution_count": 62,
   "metadata": {},
   "outputs": [
    {
     "data": {
      "text/plain": [
       "labels    0\n",
       "dtype: int64"
      ]
     },
     "execution_count": 62,
     "metadata": {},
     "output_type": "execute_result"
    }
   ],
   "source": [
    "## valores nulos\n",
    "groups.isna().sum()"
   ]
  },
  {
   "cell_type": "markdown",
   "metadata": {},
   "source": [
    "Ahora creamos una base llamada **data2** en donde se procederá a agrupar los resultados obtendidos al aplicar K-Means con la base de datos original **data_cat**. "
   ]
  },
  {
   "cell_type": "code",
   "execution_count": 63,
   "metadata": {},
   "outputs": [],
   "source": [
    "## Base data2\n",
    "data2 = data_cat"
   ]
  },
  {
   "cell_type": "markdown",
   "metadata": {},
   "source": [
    "Agregamos columna con los grupos obtenidos a la base:"
   ]
  },
  {
   "cell_type": "code",
   "execution_count": 64,
   "metadata": {},
   "outputs": [
    {
     "data": {
      "text/html": [
       "<div>\n",
       "<style scoped>\n",
       "    .dataframe tbody tr th:only-of-type {\n",
       "        vertical-align: middle;\n",
       "    }\n",
       "\n",
       "    .dataframe tbody tr th {\n",
       "        vertical-align: top;\n",
       "    }\n",
       "\n",
       "    .dataframe thead th {\n",
       "        text-align: right;\n",
       "    }\n",
       "</style>\n",
       "<table border=\"1\" class=\"dataframe\">\n",
       "  <thead>\n",
       "    <tr style=\"text-align: right;\">\n",
       "      <th></th>\n",
       "      <th>SeniorCitizen</th>\n",
       "      <th>Partner</th>\n",
       "      <th>Dependents</th>\n",
       "      <th>PhoneService</th>\n",
       "      <th>MultipleLines</th>\n",
       "      <th>InternetService</th>\n",
       "      <th>OnlineSecurity</th>\n",
       "      <th>OnlineBackup</th>\n",
       "      <th>DeviceProtection</th>\n",
       "      <th>TechSupport</th>\n",
       "      <th>StreamingTV</th>\n",
       "      <th>StreamingMovies</th>\n",
       "      <th>Contract</th>\n",
       "      <th>PaperlessBilling</th>\n",
       "      <th>PaymentMethod</th>\n",
       "      <th>Churn</th>\n",
       "      <th>tenureGroup</th>\n",
       "      <th>MonthlyChargesCategory</th>\n",
       "      <th>labels</th>\n",
       "    </tr>\n",
       "  </thead>\n",
       "  <tbody>\n",
       "    <tr>\n",
       "      <td>0</td>\n",
       "      <td>0</td>\n",
       "      <td>1</td>\n",
       "      <td>0</td>\n",
       "      <td>0</td>\n",
       "      <td>1</td>\n",
       "      <td>0</td>\n",
       "      <td>0</td>\n",
       "      <td>2</td>\n",
       "      <td>0</td>\n",
       "      <td>0</td>\n",
       "      <td>0</td>\n",
       "      <td>0</td>\n",
       "      <td>0</td>\n",
       "      <td>1</td>\n",
       "      <td>2</td>\n",
       "      <td>0</td>\n",
       "      <td>0</td>\n",
       "      <td>1</td>\n",
       "      <td>2</td>\n",
       "    </tr>\n",
       "    <tr>\n",
       "      <td>1</td>\n",
       "      <td>0</td>\n",
       "      <td>0</td>\n",
       "      <td>0</td>\n",
       "      <td>1</td>\n",
       "      <td>0</td>\n",
       "      <td>0</td>\n",
       "      <td>2</td>\n",
       "      <td>0</td>\n",
       "      <td>2</td>\n",
       "      <td>0</td>\n",
       "      <td>0</td>\n",
       "      <td>0</td>\n",
       "      <td>1</td>\n",
       "      <td>0</td>\n",
       "      <td>3</td>\n",
       "      <td>0</td>\n",
       "      <td>2</td>\n",
       "      <td>3</td>\n",
       "      <td>2</td>\n",
       "    </tr>\n",
       "    <tr>\n",
       "      <td>2</td>\n",
       "      <td>0</td>\n",
       "      <td>0</td>\n",
       "      <td>0</td>\n",
       "      <td>1</td>\n",
       "      <td>0</td>\n",
       "      <td>0</td>\n",
       "      <td>2</td>\n",
       "      <td>2</td>\n",
       "      <td>0</td>\n",
       "      <td>0</td>\n",
       "      <td>0</td>\n",
       "      <td>0</td>\n",
       "      <td>0</td>\n",
       "      <td>1</td>\n",
       "      <td>3</td>\n",
       "      <td>1</td>\n",
       "      <td>0</td>\n",
       "      <td>3</td>\n",
       "      <td>2</td>\n",
       "    </tr>\n",
       "    <tr>\n",
       "      <td>3</td>\n",
       "      <td>0</td>\n",
       "      <td>0</td>\n",
       "      <td>0</td>\n",
       "      <td>0</td>\n",
       "      <td>1</td>\n",
       "      <td>0</td>\n",
       "      <td>2</td>\n",
       "      <td>0</td>\n",
       "      <td>2</td>\n",
       "      <td>2</td>\n",
       "      <td>0</td>\n",
       "      <td>0</td>\n",
       "      <td>1</td>\n",
       "      <td>0</td>\n",
       "      <td>0</td>\n",
       "      <td>0</td>\n",
       "      <td>3</td>\n",
       "      <td>2</td>\n",
       "      <td>1</td>\n",
       "    </tr>\n",
       "    <tr>\n",
       "      <td>4</td>\n",
       "      <td>0</td>\n",
       "      <td>0</td>\n",
       "      <td>0</td>\n",
       "      <td>1</td>\n",
       "      <td>0</td>\n",
       "      <td>1</td>\n",
       "      <td>0</td>\n",
       "      <td>0</td>\n",
       "      <td>0</td>\n",
       "      <td>0</td>\n",
       "      <td>0</td>\n",
       "      <td>0</td>\n",
       "      <td>0</td>\n",
       "      <td>1</td>\n",
       "      <td>2</td>\n",
       "      <td>1</td>\n",
       "      <td>0</td>\n",
       "      <td>5</td>\n",
       "      <td>0</td>\n",
       "    </tr>\n",
       "  </tbody>\n",
       "</table>\n",
       "</div>"
      ],
      "text/plain": [
       "   SeniorCitizen  Partner  Dependents  PhoneService  MultipleLines  \\\n",
       "0              0        1           0             0              1   \n",
       "1              0        0           0             1              0   \n",
       "2              0        0           0             1              0   \n",
       "3              0        0           0             0              1   \n",
       "4              0        0           0             1              0   \n",
       "\n",
       "   InternetService  OnlineSecurity  OnlineBackup  DeviceProtection  \\\n",
       "0                0               0             2                 0   \n",
       "1                0               2             0                 2   \n",
       "2                0               2             2                 0   \n",
       "3                0               2             0                 2   \n",
       "4                1               0             0                 0   \n",
       "\n",
       "   TechSupport  StreamingTV  StreamingMovies  Contract  PaperlessBilling  \\\n",
       "0            0            0                0         0                 1   \n",
       "1            0            0                0         1                 0   \n",
       "2            0            0                0         0                 1   \n",
       "3            2            0                0         1                 0   \n",
       "4            0            0                0         0                 1   \n",
       "\n",
       "   PaymentMethod  Churn  tenureGroup  MonthlyChargesCategory  labels  \n",
       "0              2      0            0                       1       2  \n",
       "1              3      0            2                       3       2  \n",
       "2              3      1            0                       3       2  \n",
       "3              0      0            3                       2       1  \n",
       "4              2      1            0                       5       0  "
      ]
     },
     "execution_count": 64,
     "metadata": {},
     "output_type": "execute_result"
    }
   ],
   "source": [
    "## Agregamos columna con grupos a los datos\n",
    "data2['labels'] = groups.values\n",
    "data2.head()"
   ]
  },
  {
   "cell_type": "markdown",
   "metadata": {},
   "source": [
    "Observamos el número de Usuarios asignados a cada grupo."
   ]
  },
  {
   "cell_type": "code",
   "execution_count": 65,
   "metadata": {},
   "outputs": [
    {
     "data": {
      "text/plain": [
       "0    2191\n",
       "3    1883\n",
       "2    1793\n",
       "1    1176\n",
       "Name: labels, dtype: int64"
      ]
     },
     "execution_count": 65,
     "metadata": {},
     "output_type": "execute_result"
    }
   ],
   "source": [
    "data2['labels'].value_counts()"
   ]
  },
  {
   "cell_type": "code",
   "execution_count": 89,
   "metadata": {},
   "outputs": [
    {
     "data": {
      "text/plain": [
       "<matplotlib.axes._subplots.AxesSubplot at 0x12261c08>"
      ]
     },
     "execution_count": 89,
     "metadata": {},
     "output_type": "execute_result"
    },
    {
     "data": {
      "image/png": "[encoded data removed]",
      "text/plain": [
       "<Figure size 1008x432 with 1 Axes>"
      ]
     },
     "metadata": {
      "needs_background": "light"
     },
     "output_type": "display_data"
    }
   ],
   "source": [
    "## Distribución de los datos en la columna de salida\n",
    "plt.figure(figsize=(14,6))\n",
    "sns.countplot(x='labels', data=data2, palette='hls')"
   ]
  },
  {
   "cell_type": "markdown",
   "metadata": {},
   "source": [
    "**31%** de los Usuarios fueron asignados al **grupo 0**, **27%** se agruparon en el **grupo 3**, **26%** quedaron dentro del **grupo 2** y **16** fueron asignados al **grupo 1**."
   ]
  },
  {
   "cell_type": "markdown",
   "metadata": {},
   "source": [
    "Para cada grupo, el comportamiento de la tasa de abandono es el siguiente:"
   ]
  },
  {
   "cell_type": "code",
   "execution_count": 78,
   "metadata": {},
   "outputs": [
    {
     "data": {
      "text/plain": [
       "<matplotlib.axes._subplots.AxesSubplot at 0x1175da48>"
      ]
     },
     "execution_count": 78,
     "metadata": {},
     "output_type": "execute_result"
    },
    {
     "data": {
      "image/png": "[encoded data removed]",
      "text/plain": [
       "<Figure size 1008x432 with 1 Axes>"
      ]
     },
     "metadata": {
      "needs_background": "light"
     },
     "output_type": "display_data"
    }
   ],
   "source": [
    "## Comportamiento del abandono entre los Usuarios dependiendo del grupo\n",
    "plt.figure(figsize=(14,6))\n",
    "sns.countplot(x='labels', hue='Churn', data=data2, palette='Set1')"
   ]
  },
  {
   "cell_type": "code",
   "execution_count": 68,
   "metadata": {},
   "outputs": [
    {
     "data": {
      "text/plain": [
       "Churn  labels\n",
       "0      3         1585\n",
       "       2         1365\n",
       "       1         1121\n",
       "       0         1103\n",
       "1      0         1088\n",
       "       2          428\n",
       "       3          298\n",
       "       1           55\n",
       "Name: labels, dtype: int64"
      ]
     },
     "execution_count": 68,
     "metadata": {},
     "output_type": "execute_result"
    }
   ],
   "source": [
    "## Comportamiento del abandono entre los Usuarios dependiendo del grupo\n",
    "data2.groupby('Churn')['labels'].value_counts()"
   ]
  },
  {
   "cell_type": "markdown",
   "metadata": {},
   "source": [
    "Observaciones:\n",
    "- La mitad de los Usuarios del **grupo 0** (1088), alrededor del 15% del total de Usuarios en la base, abandonaron el servicio durante el último mes. \n",
    "- Del total de Usuarios que abandonaron el servicio, **58%** pertenecen al **grupo 0**, **23%** pertenecen al **grupo 2**, **16%** al **grupo 3** y solo un **3%** pertenecen al **grupo 1**.\n",
    "- **24%** de los Usuarios del **grupo 2** abandonaron el servicio. \n",
    "- Del total de Usuarios del **grupo 3**, **16%** abandonaron el servicio. \n",
    "- Solo el **5%** de los Usuarios pertenecientes al **grupo 1** abandonaron el servicio en el último mes.\n",
    "    "
   ]
  },
  {
   "cell_type": "markdown",
   "metadata": {},
   "source": [
    "Miremos ahora cómo se comporta cada grupo respecto a las características que definimos como de mayor importancia anteriormente:\n",
    "    "
   ]
  },
  {
   "cell_type": "markdown",
   "metadata": {},
   "source": [
    "#### Tipo de contrato\n",
    "\n",
    "A continuación procedemos a graficar la distribución del tipo de contrato de lo Usuarios pertenecientes a cada grupo, donde:\n",
    "- 0 = Contrato mes a mes\n",
    "- 1 = Contrato a un año\n",
    "- 2 = Contrato a dos años"
   ]
  },
  {
   "cell_type": "code",
   "execution_count": 69,
   "metadata": {},
   "outputs": [
    {
     "data": {
      "text/plain": [
       "<matplotlib.axes._subplots.AxesSubplot at 0x10b0d288>"
      ]
     },
     "execution_count": 69,
     "metadata": {},
     "output_type": "execute_result"
    },
    {
     "data": {
      "image/png": "[encoded data removed]",
      "text/plain": [
       "<Figure size 1008x432 with 1 Axes>"
      ]
     },
     "metadata": {
      "needs_background": "light"
     },
     "output_type": "display_data"
    }
   ],
   "source": [
    "## Distribución de tipo de contrato en cada grupo\n",
    "\n",
    "plt.figure(figsize=(14,6))\n",
    "sns.countplot(x='labels', hue='Contract', data=data2, palette='hls')"
   ]
  },
  {
   "cell_type": "markdown",
   "metadata": {},
   "source": [
    "Observaciones:\n",
    "- Para los grupos 0 y 2, el tipo de contrato predominante es *mes a mes*, seguido del contrato a *un año*, y por último el contrato a *dos años*. \n",
    "- Para estos dos grupos se obtuvo la mayor tasa de abandono durante el último mes.\n",
    "- Los grupos 1 y 3 presentaron tasas de abandono de Usuario más bajas. En este par de grupos, fue mayor el número de Usuarios con un tipo de contrato a *dos años*, seguido del contrato a *un año* y el contrato *mes a mes*.\n",
    "- La probabilidad de abandono de los Usuarios aumenta para aquellos grupos donde el tipo de contrato *mes a mes* es el predominante. Esto es coherente con lo observado en el análisis exploratorio.\n",
    "    "
   ]
  },
  {
   "cell_type": "markdown",
   "metadata": {},
   "source": [
    "##### Tiempo de Permanencia:\n",
    "\n",
    "El significado de cada número (0-5) en esta variable se defininó anteriormente:"
   ]
  },
  {
   "cell_type": "code",
   "execution_count": 71,
   "metadata": {},
   "outputs": [
    {
     "data": {
      "text/plain": [
       "<matplotlib.axes._subplots.AxesSubplot at 0x10b75048>"
      ]
     },
     "execution_count": 71,
     "metadata": {},
     "output_type": "execute_result"
    },
    {
     "data": {
      "image/png": "[encoded data removed]",
      "text/plain": [
       "<Figure size 1008x432 with 1 Axes>"
      ]
     },
     "metadata": {
      "needs_background": "light"
     },
     "output_type": "display_data"
    }
   ],
   "source": [
    "## Distribución de tiempo de permanencia en cada grupo\n",
    "plt.figure(figsize=(14,6))\n",
    "sns.countplot(x='labels', hue='tenureGroup', data=data2, palette='hls')"
   ]
  },
  {
   "cell_type": "markdown",
   "metadata": {},
   "source": [
    "Observaciones:\n",
    "- En los grupos 0 y 2 el mayor número de Usuarios se concentró en aquellos con menos de un año con el servicio, seguido de los Usuarios entre uno y dos años, y así hasta los Usuarios con más de 5 años, que representan la menor proporción en ambos grupos.\n",
    "- El comportamiento de los grupos 1 y 3 es contario al de los dos anteriores, ya que el número de Usuarios suscritos pertenecientes a cada grupo fue en aumento con el tiempo de permanencia de los mismos."
   ]
  },
  {
   "cell_type": "markdown",
   "metadata": {},
   "source": [
    "#### Cargos Mensuales"
   ]
  },
  {
   "cell_type": "code",
   "execution_count": 73,
   "metadata": {},
   "outputs": [
    {
     "data": {
      "text/plain": [
       "<matplotlib.axes._subplots.AxesSubplot at 0x10b97dc8>"
      ]
     },
     "execution_count": 73,
     "metadata": {},
     "output_type": "execute_result"
    },
    {
     "data": {
      "image/png": "[encoded data removed]",
      "text/plain": [
       "<Figure size 1008x432 with 1 Axes>"
      ]
     },
     "metadata": {
      "needs_background": "light"
     },
     "output_type": "display_data"
    }
   ],
   "source": [
    "## Distribución de Cargos Mensuales en cada grupo\n",
    "plt.figure(figsize=(14,6))\n",
    "sns.countplot(x='labels', hue='MonthlyChargesCategory', data=data2, palette='hls')"
   ]
  },
  {
   "cell_type": "markdown",
   "metadata": {},
   "source": [
    "Observaciones:\n",
    "- Los cruatro grupos presentan un comportamiento más heterogéneo, respecto a esta variable, donde en el **grupo 0** el número de usuarios con cargos mensuales entre USD 68.5 y 78.55 (5) es mayor, en los **grupos 1 y 2**, el número de usuarios con cargos mensuales entre USD 18.15 y 23.3 (0) fue mayor, seguido de aquellos con cargos entre USD 48.4 - 58.45, USD 38.35 - 48.4 y USD 28.3 - 38.35. Mientras que en el **grupo 3** el número de Usuarios con cargos mensuales entre USD 98.65 - 108.7 fue el predominante. "
   ]
  },
  {
   "cell_type": "markdown",
   "metadata": {},
   "source": [
    "#### Seguridad Online\n",
    "\n",
    "En este caso, las categorías se representan así:\n",
    "- 0: No tiene seguridad online\n",
    "- 1: Tiene seguridad online\n",
    "- 2: No cuenta con servicio de internet"
   ]
  },
  {
   "cell_type": "code",
   "execution_count": 80,
   "metadata": {},
   "outputs": [
    {
     "data": {
      "text/plain": [
       "<matplotlib.axes._subplots.AxesSubplot at 0x10d85108>"
      ]
     },
     "execution_count": 80,
     "metadata": {},
     "output_type": "execute_result"
    },
    {
     "data": {
      "image/png": "[encoded data removed]",
      "text/plain": [
       "<Figure size 1008x432 with 1 Axes>"
      ]
     },
     "metadata": {
      "needs_background": "light"
     },
     "output_type": "display_data"
    }
   ],
   "source": [
    "## Distribución de Seguridad Online en cada grupo\n",
    "plt.figure(figsize=(14,6))\n",
    "sns.countplot(x='labels', hue='OnlineSecurity', data=data2, palette='hls')"
   ]
  },
  {
   "cell_type": "markdown",
   "metadata": {},
   "source": [
    "Observaciones:\n",
    "- En este caso, en los grupos 1 y 2 es mayor el número de Usuarios que cuentan con seguridad online.\n",
    "- En el grupo 0 es predominante el número de Usuarios que no cuentan con seguridad online\n",
    "- Mientras en el grupo 3 es mayor el número de Usuarios que no cuentan son servicio de internet\n",
    "- En estos dos últimos grupos fue nulo el número de Usuarios con seguridad online"
   ]
  },
  {
   "cell_type": "markdown",
   "metadata": {},
   "source": [
    "Con respecto a lo observado anteriormente, podríamos concluir que los grupos 0 y 2 se podrían agrupar en uno solo, debido a su comportamiento similar y que lo mismo podría hacerse con los grupos 1 y 3. Sin embargo, antes probaremos graficando otras características con el objetivo de comprobar esta conclusión."
   ]
  },
  {
   "cell_type": "markdown",
   "metadata": {},
   "source": [
    "Grafiquemos el compotamiento del Método de Pago:"
   ]
  },
  {
   "cell_type": "code",
   "execution_count": 88,
   "metadata": {},
   "outputs": [
    {
     "data": {
      "text/plain": [
       "<matplotlib.axes._subplots.AxesSubplot at 0x12145a08>"
      ]
     },
     "execution_count": 88,
     "metadata": {},
     "output_type": "execute_result"
    },
    {
     "data": {
      "image/png": "[encoded data removed]",
      "text/plain": [
       "<Figure size 1008x432 with 1 Axes>"
      ]
     },
     "metadata": {
      "needs_background": "light"
     },
     "output_type": "display_data"
    }
   ],
   "source": [
    "## Distribución de Método de Pago en cada grupo\n",
    "plt.figure(figsize=(14,6))\n",
    "sns.countplot(x='labels', hue='PaymentMethod', data=data2, palette='Set2')"
   ]
  },
  {
   "cell_type": "markdown",
   "metadata": {},
   "source": [
    "Miremos ahora el servicio telefónico:"
   ]
  },
  {
   "cell_type": "code",
   "execution_count": 86,
   "metadata": {},
   "outputs": [
    {
     "data": {
      "text/plain": [
       "<matplotlib.axes._subplots.AxesSubplot at 0x12042fc8>"
      ]
     },
     "execution_count": 86,
     "metadata": {},
     "output_type": "execute_result"
    },
    {
     "data": {
      "image/png": "[encoded data removed]",
      "text/plain": [
       "<Figure size 1008x432 with 1 Axes>"
      ]
     },
     "metadata": {
      "needs_background": "light"
     },
     "output_type": "display_data"
    }
   ],
   "source": [
    "## Distribución de Método de Pago en cada grupo\n",
    "plt.figure(figsize=(14,6))\n",
    "sns.countplot(x='labels', hue='PhoneService', data=data2)"
   ]
  },
  {
   "cell_type": "markdown",
   "metadata": {},
   "source": [
    "Observaciones:\n",
    "- Respecto al *método de pago*,  la distribución de los Usuarios fue distinta para los cuatro grupos. Mientras que en todos los casos fue mayor el número de usuarios que contaban con servicio telefónico.\n",
    "- Dado lo anterior, nos decidimos a continuar trabajando el ejercicio con los cuatro grupos resultantes del proceso de segmentación."
   ]
  },
  {
   "cell_type": "markdown",
   "metadata": {},
   "source": [
    "### Clasificación\n",
    "\n",
    "Anteriormente empleamos los modelos de Regresión Logística y Bosque Aleatorio para calcular las características de mayor importancia en la base de datos, respecto al abandono de Usuarios.  Ahora utilizaremos y ajustaremos los mismos modelos para para realizar un proceso de clasificación de Usuarios dentro de los cuatro grupos que hemos identificado. \n",
    "\n",
    "- Primero de dividirá la base de datos (data2) en un 80% para el entrenamiento y 20% para prueba. \n",
    "- Luego se correrán los modelos sin modificar y se calcularán las métricas de *precision*, *recall* y *confusion matrix*, para identificar su rendimiento a la hora de clasificar a los Usuarios. \n",
    "- En caso de requerirlo, se ajustarán ambos modelos para mejorar su desempeño."
   ]
  },
  {
   "cell_type": "markdown",
   "metadata": {},
   "source": [
    "Importamos las librerías requeridas:"
   ]
  },
  {
   "cell_type": "code",
   "execution_count": 96,
   "metadata": {},
   "outputs": [],
   "source": [
    "## métricas\n",
    "from sklearn.metrics import precision_score\n",
    "from sklearn.metrics import recall_score\n",
    "from sklearn.metrics import confusion_matrix"
   ]
  },
  {
   "cell_type": "markdown",
   "metadata": {},
   "source": [
    "Separamos la columna con los grupos del conjunto de características, además de que eliminamos la columna Churn y particionaremos la base de datos:"
   ]
  },
  {
   "cell_type": "code",
   "execution_count": 91,
   "metadata": {},
   "outputs": [],
   "source": [
    "# Separamos el target y las características\n",
    "data_feat2 = data2.drop(['Churn', 'labels'], axis=1)\n",
    "target2 = data2.loc[:, ['labels']]\n",
    "\n",
    "## Dividimos la base de datos\n",
    "X_train, X_test, y_train, y_test = train_test_split(data_feat2, target2, test_size=0.2, random_state=0)"
   ]
  },
  {
   "cell_type": "markdown",
   "metadata": {},
   "source": [
    "Ahora procedemos a escalar los datos de entrenamiento y prueba utilizando StandarScaler()"
   ]
  },
  {
   "cell_type": "code",
   "execution_count": 92,
   "metadata": {},
   "outputs": [],
   "source": [
    "# Ajustamos escalador\n",
    "X_train_std = scaler.fit_transform(X_train)\n",
    "\n",
    "# Escalamos conjunto prueba\n",
    "X_test_std = scaler.transform(X_test)"
   ]
  },
  {
   "cell_type": "markdown",
   "metadata": {},
   "source": [
    "Entrenamos ambos modelos con los datos de entrenamiento:"
   ]
  },
  {
   "cell_type": "code",
   "execution_count": 93,
   "metadata": {},
   "outputs": [
    {
     "name": "stderr",
     "output_type": "stream",
     "text": [
      "C:\\Users\\Usuario\\Anaconda3\\lib\\site-packages\\sklearn\\linear_model\\logistic.py:432: FutureWarning: Default solver will be changed to 'lbfgs' in 0.22. Specify a solver to silence this warning.\n",
      "  FutureWarning)\n",
      "C:\\Users\\Usuario\\Anaconda3\\lib\\site-packages\\sklearn\\utils\\validation.py:724: DataConversionWarning: A column-vector y was passed when a 1d array was expected. Please change the shape of y to (n_samples, ), for example using ravel().\n",
      "  y = column_or_1d(y, warn=True)\n",
      "C:\\Users\\Usuario\\Anaconda3\\lib\\site-packages\\sklearn\\linear_model\\logistic.py:469: FutureWarning: Default multi_class will be changed to 'auto' in 0.22. Specify the multi_class option to silence this warning.\n",
      "  \"this warning.\", FutureWarning)\n",
      "C:\\Users\\Usuario\\Anaconda3\\lib\\site-packages\\ipykernel_launcher.py:5: DataConversionWarning: A column-vector y was passed when a 1d array was expected. Please change the shape of y to (n_samples,), for example using ravel().\n",
      "  \"\"\"\n"
     ]
    },
    {
     "data": {
      "text/plain": [
       "RandomForestClassifier(bootstrap=True, class_weight=None, criterion='gini',\n",
       "                       max_depth=None, max_features='auto', max_leaf_nodes=None,\n",
       "                       min_impurity_decrease=0.0, min_impurity_split=None,\n",
       "                       min_samples_leaf=1, min_samples_split=2,\n",
       "                       min_weight_fraction_leaf=0.0, n_estimators=10,\n",
       "                       n_jobs=None, oob_score=False, random_state=None,\n",
       "                       verbose=0, warm_start=False)"
      ]
     },
     "execution_count": 93,
     "metadata": {},
     "output_type": "execute_result"
    }
   ],
   "source": [
    "# Ajustamos modelo de Regresión Logística\n",
    "lr.fit(X_train_std, y_train)\n",
    "\n",
    "# Ajustamos modelo de Bosque Aleatorio\n",
    "rf.fit(X_train_std, y_train)"
   ]
  },
  {
   "cell_type": "markdown",
   "metadata": {},
   "source": [
    "Ahora realizamos la predicción con cada modelo:"
   ]
  },
  {
   "cell_type": "code",
   "execution_count": 105,
   "metadata": {},
   "outputs": [],
   "source": [
    "# Regresión Logística\n",
    "lr_pred = lr.predict(X_test_std)\n",
    "\n",
    "# Bosque Aleatorio\n",
    "rf_pred = rf.predict(X_test_std)"
   ]
  },
  {
   "cell_type": "markdown",
   "metadata": {},
   "source": [
    "Procedemos a medir las métricas de rendimiento:"
   ]
  },
  {
   "cell_type": "code",
   "execution_count": 106,
   "metadata": {},
   "outputs": [
    {
     "name": "stdout",
     "output_type": "stream",
     "text": [
      "Se obtiene una precisión de 97.7% con Regresión Logística\n",
      "Se obtiene una precisión de 98.4% con Random Forest\n",
      "\n",
      "Se obtiene un recall de 97.7% con Regresión Logística\n",
      "Se obtiene un recall de 98.4% con Random Forest\n"
     ]
    }
   ],
   "source": [
    "##Precision\n",
    "\n",
    "lr_score = precision_score(y_test, lr_pred, average='micro')\n",
    "rf_score = precision_score(y_test, rf_pred, average='micro')\n",
    "\n",
    "print(\"Se obtiene una precisión de {0:.1%} con Regresión Logística\".format(lr_score))\n",
    "print(\"Se obtiene una precisión de {0:.1%} con Random Forest\\n\".format(rf_score))\n",
    "\n",
    "##Recall\n",
    "lr_score = recall_score(y_test, lr_pred, average='micro')\n",
    "rf_score = recall_score(y_test, rf_pred, average='micro')\n",
    "\n",
    "print(\"Se obtiene un recall de {0:.1%} con Regresión Logística\".format(lr_score))\n",
    "print(\"Se obtiene un recall de {0:.1%} con Random Forest\".format(rf_score))"
   ]
  },
  {
   "cell_type": "code",
   "execution_count": 107,
   "metadata": {},
   "outputs": [
    {
     "name": "stdout",
     "output_type": "stream",
     "text": [
      "Matriz de confusión Regresión Lineal:\n",
      " [[409   5  11   3]\n",
      " [  1 231   2   0]\n",
      " [  0   1 365   0]\n",
      " [ 10   0   0 371]] \n",
      "\n",
      "Matriz de confusión Random Forest:\n",
      " [[421   2   0   5]\n",
      " [  1 232   1   0]\n",
      " [  0   1 365   0]\n",
      " [ 12   0   0 369]] \n",
      "\n"
     ]
    }
   ],
   "source": [
    "#Confusion matrix\n",
    "lr_cf = confusion_matrix(y_test, lr_pred)\n",
    "print(\"Matriz de confusión Regresión Lineal:\\n\", lr_cf, \"\\n\")\n",
    "\n",
    "rf_cf = confusion_matrix(y_test,  rf_pred)\n",
    "print(\"Matriz de confusión Random Forest:\\n\", rf_cf, \"\\n\")"
   ]
  },
  {
   "cell_type": "markdown",
   "metadata": {},
   "source": [
    "Observaciones:\n",
    "- Se obtienen un alto rendimiento con ambos modelos para la clasificación de los Usuarios dentro de los cuatro grupos como muestran las métricas medidas.\n",
    "- El modelo de Bosque Aleatorio mostró un rendimiento ligeramente superior, pero el desempeño de ambos modelos es muy bueno.\n",
    "- No se requiere ajustar los modelos en este caso, puesto que, por defecto, ambos mostraron un buen desempeño.\n",
    "    "
   ]
  },
  {
   "cell_type": "markdown",
   "metadata": {},
   "source": [
    "Se identifican nuevamente las variables de mayor importancia con cada modelo. En esta ocasión no clasificamos respecto al abandono, sino respecto a los grupos."
   ]
  },
  {
   "cell_type": "code",
   "execution_count": 108,
   "metadata": {},
   "outputs": [
    {
     "name": "stdout",
     "output_type": "stream",
     "text": [
      "Importancia de acuerdo al modelo de Regresión logística: \n",
      "{'SeniorCitizen': 0.05, 'Partner': 0.12, 'Dependents': 0.04, 'PhoneService': 0.23, 'MultipleLines': 0.25, 'InternetService': 0.08, 'OnlineSecurity': 0.17, 'OnlineBackup': 0.26, 'DeviceProtection': 0.31, 'TechSupport': 0.09, 'StreamingTV': 0.49, 'StreamingMovies': 0.32, 'Contract': 0.36, 'PaperlessBilling': 0.01, 'PaymentMethod': 0.08, 'tenureGroup': 2.54, 'MonthlyChargesCategory': 3.52}\n",
      "\n",
      "Importancia de acuerdo al modelo de Bosque Aleatorio: \n",
      "{'SeniorCitizen': 0.0, 'Partner': 0.01, 'Dependents': 0.0, 'PhoneService': 0.02, 'MultipleLines': 0.02, 'InternetService': 0.09, 'OnlineSecurity': 0.01, 'OnlineBackup': 0.03, 'DeviceProtection': 0.02, 'TechSupport': 0.01, 'StreamingTV': 0.03, 'StreamingMovies': 0.05, 'Contract': 0.06, 'PaperlessBilling': 0.0, 'PaymentMethod': 0.02, 'tenureGroup': 0.31, 'MonthlyChargesCategory': 0.3}\n",
      "\n"
     ]
    }
   ],
   "source": [
    "# Regresión Logística\n",
    "lr_imp = dict(zip(X_train.columns, abs(lr.coef_[0]).round(2)))\n",
    "print(\"Importancia de acuerdo al modelo de Regresión logística: \")\n",
    "print(\"{}\\n\".format(lr_imp))\n",
    "\n",
    "# Bosque Aleatorio\n",
    "rf_imp = dict(zip(X_train.columns, rf.feature_importances_.round(2)))\n",
    "print(\"Importancia de acuerdo al modelo de Bosque Aleatorio: \")\n",
    "print(\"{}\\n\".format(rf_imp))"
   ]
  },
  {
   "cell_type": "code",
   "execution_count": 113,
   "metadata": {},
   "outputs": [
    {
     "data": {
      "image/png": "[encoded data removed]",
      "text/plain": [
       "<Figure size 720x864 with 1 Axes>"
      ]
     },
     "metadata": {
      "needs_background": "light"
     },
     "output_type": "display_data"
    }
   ],
   "source": [
    "# Regresión logística\n",
    "\n",
    "imp = pd.Series(data=abs(lr.coef_[0]), index=X_train.columns).sort_values(ascending=False)\n",
    "plt.figure(figsize=(10,12))\n",
    "plt.title(\"Feature importances\")\n",
    "ax = sns.barplot(y=imp.index, x=imp.values, palette=\"Blues_d\", orient='h')"
   ]
  },
  {
   "cell_type": "code",
   "execution_count": 114,
   "metadata": {},
   "outputs": [
    {
     "data": {
      "image/png": "[encoded data removed]",
      "text/plain": [
       "<Figure size 720x864 with 1 Axes>"
      ]
     },
     "metadata": {
      "needs_background": "light"
     },
     "output_type": "display_data"
    }
   ],
   "source": [
    "# Bosque Aleatorio\n",
    "\n",
    "imp = pd.Series(data=rf.feature_importances_, index=X_train.columns).sort_values(ascending=False)\n",
    "plt.figure(figsize=(10,12))\n",
    "plt.title(\"Feature importances\")\n",
    "ax = sns.barplot(y=imp.index, x=imp.values, palette=\"Blues_d\", orient='h')"
   ]
  },
  {
   "cell_type": "markdown",
   "metadata": {},
   "source": [
    "Con ambos modelos, obtenemos que el *tiempo de permanencia* (tenureGroup) y los *cargos mensuales* (MonthlyChargesCategory) son las variables de mayor relevancia a la hora de clasificar a los Usuarios dentro de los cuatro grupos."
   ]
  },
  {
   "cell_type": "code",
   "execution_count": null,
   "metadata": {},
   "outputs": [],
   "source": []
  }
 ],
 "metadata": {
  "kernelspec": {
   "display_name": "Python 3",
   "language": "python",
   "name": "python3"
  },
  "language_info": {
   "codemirror_mode": {
    "name": "ipython",
    "version": 3
   },
   "file_extension": ".py",
   "mimetype": "text/x-python",
   "name": "python",
   "nbconvert_exporter": "python",
   "pygments_lexer": "ipython3",
   "version": "3.7.4"
  }
 },
 "nbformat": 4,
 "nbformat_minor": 4
}
