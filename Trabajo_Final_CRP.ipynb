{
 "cells": [
  {
   "cell_type": "markdown",
   "metadata": {},
   "source": [
    "# Trabajo Final (CRP): Estrategia de Retención de Clientes\n",
    "\n",
    "\n",
    "Base de datos de [Telco Customer Churn](https://www.kaggle.com/blastchar/telco-customer-churn). "
   ]
  },
  {
   "cell_type": "markdown",
   "metadata": {},
   "source": [
    "Procedemos a importar las librerías a utilizar y llamamos la base de datos:"
   ]
  },
  {
   "cell_type": "code",
   "execution_count": 79,
   "metadata": {},
   "outputs": [],
   "source": [
    "## librerías\n",
    "import pandas as pd\n",
    "import numpy as np\n",
    "import seaborn as sns\n",
    "import matplotlib.pyplot as plt\n",
    "\n",
    "## Lectura base de datos\n",
    "data = pd.read_csv('WA_Fn-UseC_-Telco-Customer-Churn.csv')"
   ]
  },
  {
   "cell_type": "markdown",
   "metadata": {},
   "source": [
    "### Exploración de la base de datos"
   ]
  },
  {
   "cell_type": "markdown",
   "metadata": {},
   "source": [
    "A continuación anlálizamos las características de nuestra base de datos buscando describir cómo se relaciona cada columna con la columna objetivo e identificar qué tan relevante puede ser cada características en los posteriores procesos de clusterización y clasificación. "
   ]
  },
  {
   "cell_type": "code",
   "execution_count": 80,
   "metadata": {},
   "outputs": [
    {
     "name": "stdout",
     "output_type": "stream",
     "text": [
      "La base de datos contiene 7043 registros y 21 columnas.\n"
     ]
    },
    {
     "data": {
      "text/html": [
       "<div>\n",
       "<style scoped>\n",
       "    .dataframe tbody tr th:only-of-type {\n",
       "        vertical-align: middle;\n",
       "    }\n",
       "\n",
       "    .dataframe tbody tr th {\n",
       "        vertical-align: top;\n",
       "    }\n",
       "\n",
       "    .dataframe thead th {\n",
       "        text-align: right;\n",
       "    }\n",
       "</style>\n",
       "<table border=\"1\" class=\"dataframe\">\n",
       "  <thead>\n",
       "    <tr style=\"text-align: right;\">\n",
       "      <th></th>\n",
       "      <th>customerID</th>\n",
       "      <th>gender</th>\n",
       "      <th>SeniorCitizen</th>\n",
       "      <th>Partner</th>\n",
       "      <th>Dependents</th>\n",
       "      <th>tenure</th>\n",
       "      <th>PhoneService</th>\n",
       "      <th>MultipleLines</th>\n",
       "      <th>InternetService</th>\n",
       "      <th>OnlineSecurity</th>\n",
       "      <th>...</th>\n",
       "      <th>DeviceProtection</th>\n",
       "      <th>TechSupport</th>\n",
       "      <th>StreamingTV</th>\n",
       "      <th>StreamingMovies</th>\n",
       "      <th>Contract</th>\n",
       "      <th>PaperlessBilling</th>\n",
       "      <th>PaymentMethod</th>\n",
       "      <th>MonthlyCharges</th>\n",
       "      <th>TotalCharges</th>\n",
       "      <th>Churn</th>\n",
       "    </tr>\n",
       "  </thead>\n",
       "  <tbody>\n",
       "    <tr>\n",
       "      <td>0</td>\n",
       "      <td>7590-VHVEG</td>\n",
       "      <td>Female</td>\n",
       "      <td>0</td>\n",
       "      <td>Yes</td>\n",
       "      <td>No</td>\n",
       "      <td>1</td>\n",
       "      <td>No</td>\n",
       "      <td>No phone service</td>\n",
       "      <td>DSL</td>\n",
       "      <td>No</td>\n",
       "      <td>...</td>\n",
       "      <td>No</td>\n",
       "      <td>No</td>\n",
       "      <td>No</td>\n",
       "      <td>No</td>\n",
       "      <td>Month-to-month</td>\n",
       "      <td>Yes</td>\n",
       "      <td>Electronic check</td>\n",
       "      <td>29.85</td>\n",
       "      <td>29.85</td>\n",
       "      <td>No</td>\n",
       "    </tr>\n",
       "    <tr>\n",
       "      <td>1</td>\n",
       "      <td>5575-GNVDE</td>\n",
       "      <td>Male</td>\n",
       "      <td>0</td>\n",
       "      <td>No</td>\n",
       "      <td>No</td>\n",
       "      <td>34</td>\n",
       "      <td>Yes</td>\n",
       "      <td>No</td>\n",
       "      <td>DSL</td>\n",
       "      <td>Yes</td>\n",
       "      <td>...</td>\n",
       "      <td>Yes</td>\n",
       "      <td>No</td>\n",
       "      <td>No</td>\n",
       "      <td>No</td>\n",
       "      <td>One year</td>\n",
       "      <td>No</td>\n",
       "      <td>Mailed check</td>\n",
       "      <td>56.95</td>\n",
       "      <td>1889.5</td>\n",
       "      <td>No</td>\n",
       "    </tr>\n",
       "    <tr>\n",
       "      <td>2</td>\n",
       "      <td>3668-QPYBK</td>\n",
       "      <td>Male</td>\n",
       "      <td>0</td>\n",
       "      <td>No</td>\n",
       "      <td>No</td>\n",
       "      <td>2</td>\n",
       "      <td>Yes</td>\n",
       "      <td>No</td>\n",
       "      <td>DSL</td>\n",
       "      <td>Yes</td>\n",
       "      <td>...</td>\n",
       "      <td>No</td>\n",
       "      <td>No</td>\n",
       "      <td>No</td>\n",
       "      <td>No</td>\n",
       "      <td>Month-to-month</td>\n",
       "      <td>Yes</td>\n",
       "      <td>Mailed check</td>\n",
       "      <td>53.85</td>\n",
       "      <td>108.15</td>\n",
       "      <td>Yes</td>\n",
       "    </tr>\n",
       "    <tr>\n",
       "      <td>3</td>\n",
       "      <td>7795-CFOCW</td>\n",
       "      <td>Male</td>\n",
       "      <td>0</td>\n",
       "      <td>No</td>\n",
       "      <td>No</td>\n",
       "      <td>45</td>\n",
       "      <td>No</td>\n",
       "      <td>No phone service</td>\n",
       "      <td>DSL</td>\n",
       "      <td>Yes</td>\n",
       "      <td>...</td>\n",
       "      <td>Yes</td>\n",
       "      <td>Yes</td>\n",
       "      <td>No</td>\n",
       "      <td>No</td>\n",
       "      <td>One year</td>\n",
       "      <td>No</td>\n",
       "      <td>Bank transfer (automatic)</td>\n",
       "      <td>42.30</td>\n",
       "      <td>1840.75</td>\n",
       "      <td>No</td>\n",
       "    </tr>\n",
       "    <tr>\n",
       "      <td>4</td>\n",
       "      <td>9237-HQITU</td>\n",
       "      <td>Female</td>\n",
       "      <td>0</td>\n",
       "      <td>No</td>\n",
       "      <td>No</td>\n",
       "      <td>2</td>\n",
       "      <td>Yes</td>\n",
       "      <td>No</td>\n",
       "      <td>Fiber optic</td>\n",
       "      <td>No</td>\n",
       "      <td>...</td>\n",
       "      <td>No</td>\n",
       "      <td>No</td>\n",
       "      <td>No</td>\n",
       "      <td>No</td>\n",
       "      <td>Month-to-month</td>\n",
       "      <td>Yes</td>\n",
       "      <td>Electronic check</td>\n",
       "      <td>70.70</td>\n",
       "      <td>151.65</td>\n",
       "      <td>Yes</td>\n",
       "    </tr>\n",
       "  </tbody>\n",
       "</table>\n",
       "<p>5 rows × 21 columns</p>\n",
       "</div>"
      ],
      "text/plain": [
       "   customerID  gender  SeniorCitizen Partner Dependents  tenure PhoneService  \\\n",
       "0  7590-VHVEG  Female              0     Yes         No       1           No   \n",
       "1  5575-GNVDE    Male              0      No         No      34          Yes   \n",
       "2  3668-QPYBK    Male              0      No         No       2          Yes   \n",
       "3  7795-CFOCW    Male              0      No         No      45           No   \n",
       "4  9237-HQITU  Female              0      No         No       2          Yes   \n",
       "\n",
       "      MultipleLines InternetService OnlineSecurity  ... DeviceProtection  \\\n",
       "0  No phone service             DSL             No  ...               No   \n",
       "1                No             DSL            Yes  ...              Yes   \n",
       "2                No             DSL            Yes  ...               No   \n",
       "3  No phone service             DSL            Yes  ...              Yes   \n",
       "4                No     Fiber optic             No  ...               No   \n",
       "\n",
       "  TechSupport StreamingTV StreamingMovies        Contract PaperlessBilling  \\\n",
       "0          No          No              No  Month-to-month              Yes   \n",
       "1          No          No              No        One year               No   \n",
       "2          No          No              No  Month-to-month              Yes   \n",
       "3         Yes          No              No        One year               No   \n",
       "4          No          No              No  Month-to-month              Yes   \n",
       "\n",
       "               PaymentMethod MonthlyCharges  TotalCharges Churn  \n",
       "0           Electronic check          29.85         29.85    No  \n",
       "1               Mailed check          56.95        1889.5    No  \n",
       "2               Mailed check          53.85        108.15   Yes  \n",
       "3  Bank transfer (automatic)          42.30       1840.75    No  \n",
       "4           Electronic check          70.70        151.65   Yes  \n",
       "\n",
       "[5 rows x 21 columns]"
      ]
     },
     "execution_count": 80,
     "metadata": {},
     "output_type": "execute_result"
    }
   ],
   "source": [
    "## Tamaño de la base de datos\n",
    "print(\"La base de datos contiene {} registros y {} columnas.\".format(data.shape[0], data.shape[1]))\n",
    "\n",
    "## Primeros 5 regustros\n",
    "data.head()"
   ]
  },
  {
   "cell_type": "markdown",
   "metadata": {},
   "source": [
    "Las columnas de la base de datos seleccionada contiene atributos del siguiente tipo:"
   ]
  },
  {
   "cell_type": "code",
   "execution_count": 81,
   "metadata": {},
   "outputs": [
    {
     "name": "stdout",
     "output_type": "stream",
     "text": [
      "<class 'pandas.core.frame.DataFrame'>\n",
      "RangeIndex: 7043 entries, 0 to 7042\n",
      "Data columns (total 21 columns):\n",
      "customerID          7043 non-null object\n",
      "gender              7043 non-null object\n",
      "SeniorCitizen       7043 non-null int64\n",
      "Partner             7043 non-null object\n",
      "Dependents          7043 non-null object\n",
      "tenure              7043 non-null int64\n",
      "PhoneService        7043 non-null object\n",
      "MultipleLines       7043 non-null object\n",
      "InternetService     7043 non-null object\n",
      "OnlineSecurity      7043 non-null object\n",
      "OnlineBackup        7043 non-null object\n",
      "DeviceProtection    7043 non-null object\n",
      "TechSupport         7043 non-null object\n",
      "StreamingTV         7043 non-null object\n",
      "StreamingMovies     7043 non-null object\n",
      "Contract            7043 non-null object\n",
      "PaperlessBilling    7043 non-null object\n",
      "PaymentMethod       7043 non-null object\n",
      "MonthlyCharges      7043 non-null float64\n",
      "TotalCharges        7043 non-null object\n",
      "Churn               7043 non-null object\n",
      "dtypes: float64(1), int64(2), object(18)\n",
      "memory usage: 1.1+ MB\n"
     ]
    }
   ],
   "source": [
    "## tipo de objeto de c/característica:\n",
    "data.info()"
   ]
  },
  {
   "cell_type": "markdown",
   "metadata": {},
   "source": [
    "Donde podemos observar que las columnas *SeniorCitizen*, *Tenure* y *MonthlyCharges* son de tipo numérico (int, float), mientras que las demás son de tipo 'object'. El tipo de la columa *TotalCharges* debería ser 'float', sin embargo está siendo leído como 'object'; más adelante en este notebook haremos las correcciones necesarias.\n",
    "\n",
    "Por otro lado, la tabla anterios nos muestra que no existen valores nulos en ninguna de las columnas de la base de datos, puesto que el conteo de no nulos (non-null) es igual a la cantidad de registros."
   ]
  },
  {
   "cell_type": "markdown",
   "metadata": {},
   "source": [
    "La columna *CustomerID* es de tipo alfa-numerica y presenta un valor único para los 7043 registros de la base de datos, además de que no es relevante para el proceso de clasificación, por lo que podemos ignorar esta característica. "
   ]
  },
  {
   "cell_type": "markdown",
   "metadata": {},
   "source": [
    "#### Churn distribution"
   ]
  },
  {
   "cell_type": "code",
   "execution_count": 82,
   "metadata": {},
   "outputs": [
    {
     "data": {
      "text/plain": [
       "<matplotlib.axes._subplots.AxesSubplot at 0x1113c488>"
      ]
     },
     "execution_count": 82,
     "metadata": {},
     "output_type": "execute_result"
    },
    {
     "data": {
      "image/png": "[encoded data removed]",
      "text/plain": [
       "<Figure size 432x288 with 1 Axes>"
      ]
     },
     "metadata": {
      "needs_background": "light"
     },
     "output_type": "display_data"
    }
   ],
   "source": [
    "## Distribución de los datos en la columna de salida\n",
    "sns.countplot(x='Churn', data=data, palette='hls')"
   ]
  },
  {
   "cell_type": "code",
   "execution_count": 83,
   "metadata": {},
   "outputs": [
    {
     "data": {
      "text/plain": [
       "No     73.463013\n",
       "Yes    26.536987\n",
       "Name: Churn, dtype: float64"
      ]
     },
     "execution_count": 83,
     "metadata": {},
     "output_type": "execute_result"
    }
   ],
   "source": [
    "## Porcentaje de Usuarios que abandonan y no abandonan el servicio\n",
    "(data['Churn'].value_counts())/(data.shape[0])*100"
   ]
  },
  {
   "cell_type": "markdown",
   "metadata": {},
   "source": [
    "De la gráfica anterior tenemos que, de la base de datos utilizada, alrededor de 27% de los Usuarios abandonaron el servicio durante el último mes, mientras que el resto permanecieron. "
   ]
  },
  {
   "cell_type": "markdown",
   "metadata": {},
   "source": [
    "#### Gender distribution"
   ]
  },
  {
   "cell_type": "code",
   "execution_count": 84,
   "metadata": {},
   "outputs": [
    {
     "data": {
      "text/plain": [
       "<matplotlib.axes._subplots.AxesSubplot at 0x1129fac8>"
      ]
     },
     "execution_count": 84,
     "metadata": {},
     "output_type": "execute_result"
    },
    {
     "data": {
      "image/png": "[encoded data removed]",
      "text/plain": [
       "<Figure size 1080x432 with 2 Axes>"
      ]
     },
     "metadata": {
      "needs_background": "light"
     },
     "output_type": "display_data"
    }
   ],
   "source": [
    "fig, [axes1, axes2] = plt.subplots(1,2,figsize=(15,6))\n",
    "\n",
    "## Distribución de los datos en la columna de género\n",
    "sns.countplot(x='gender', data=data, palette='hls', ax=axes1)\n",
    "\n",
    "## Distribución de los datos en la columna de género\n",
    "sns.countplot(x='gender', data=data, hue='Churn', palette='hls', ax=axes2)"
   ]
  },
  {
   "cell_type": "markdown",
   "metadata": {},
   "source": [
    "La cantidad de Usuarios pertenecientes a cada género es similar en nuestra base de datos."
   ]
  },
  {
   "cell_type": "code",
   "execution_count": 85,
   "metadata": {},
   "outputs": [
    {
     "data": {
      "text/plain": [
       "Churn  gender\n",
       "No     Male      2625\n",
       "       Female    2549\n",
       "Yes    Female     939\n",
       "       Male       930\n",
       "Name: gender, dtype: int64"
      ]
     },
     "execution_count": 85,
     "metadata": {},
     "output_type": "execute_result"
    }
   ],
   "source": [
    "(data.groupby('Churn')['gender'].value_counts())"
   ]
  },
  {
   "cell_type": "markdown",
   "metadata": {},
   "source": [
    "Vemos que el género no influye a la hora de predecir tendencias, ya que el porcentaje de Usuarios que permanecen y abandonan el servicio es similar para cada género, por lo que podemos descartar esta columna. "
   ]
  },
  {
   "cell_type": "markdown",
   "metadata": {},
   "source": [
    "#### SeniorCitizen Distribution"
   ]
  },
  {
   "cell_type": "code",
   "execution_count": 86,
   "metadata": {},
   "outputs": [
    {
     "data": {
      "text/plain": [
       "<matplotlib.axes._subplots.AxesSubplot at 0x11672308>"
      ]
     },
     "execution_count": 86,
     "metadata": {},
     "output_type": "execute_result"
    },
    {
     "data": {
      "image/png": "[encoded data removed]",
      "text/plain": [
       "<Figure size 1080x432 with 2 Axes>"
      ]
     },
     "metadata": {
      "needs_background": "light"
     },
     "output_type": "display_data"
    }
   ],
   "source": [
    "fig, [axes1, axes2] = plt.subplots(1,2,figsize=(15,6))\n",
    "\n",
    "## Distribución de los datos en la columna SeniorCitizen\n",
    "sns.countplot(x='SeniorCitizen', data=data, palette='Set2', ax=axes1)\n",
    "\n",
    "## Porcentaje de abandono entre Usuarios Senior y NonSenior\n",
    "sns.countplot(x='SeniorCitizen', hue='Churn', data=data, palette='Set3', ax=axes2)"
   ]
  },
  {
   "cell_type": "code",
   "execution_count": 87,
   "metadata": {},
   "outputs": [
    {
     "data": {
      "text/plain": [
       "Churn  SeniorCitizen\n",
       "No     0                4508\n",
       "       1                 666\n",
       "Yes    0                1393\n",
       "       1                 476\n",
       "Name: SeniorCitizen, dtype: int64"
      ]
     },
     "execution_count": 87,
     "metadata": {},
     "output_type": "execute_result"
    }
   ],
   "source": [
    "## Conteo de datos agrupados por el abandono\n",
    "data.groupby('Churn')['SeniorCitizen'].value_counts()"
   ]
  },
  {
   "cell_type": "markdown",
   "metadata": {},
   "source": [
    "Más del 80% de los Usuarios presentes en la base de datos son **NoSeniorCitizens**; estre estos, alrededor del 24% abandonaron el servicio durante el último mes. Mientras que un cerca de un 42% de los **SeniorCitizen** cancelaron el servicio (casi el doble de los **NonSenior**). "
   ]
  },
  {
   "cell_type": "markdown",
   "metadata": {},
   "source": [
    "#### Partner Distribution"
   ]
  },
  {
   "cell_type": "code",
   "execution_count": 88,
   "metadata": {},
   "outputs": [
    {
     "data": {
      "text/plain": [
       "<matplotlib.axes._subplots.AxesSubplot at 0x1172d608>"
      ]
     },
     "execution_count": 88,
     "metadata": {},
     "output_type": "execute_result"
    },
    {
     "data": {
      "image/png": "[encoded data removed]",
      "text/plain": [
       "<Figure size 1080x432 with 2 Axes>"
      ]
     },
     "metadata": {
      "needs_background": "light"
     },
     "output_type": "display_data"
    }
   ],
   "source": [
    "fig, [axes1, axes2] = plt.subplots(1,2,figsize=(15,6))\n",
    "\n",
    "## Distribución de los datos en la columna Partner\n",
    "sns.countplot(x='Partner', data=data, palette='Set1', ax=axes1)\n",
    "\n",
    "## Porcentaje de abandono entre Usuarios con Partnet y los que no tienen\n",
    "partner_cross = pd.crosstab(data['Partner'], data['Churn'])\n",
    "partner_cross.plot(kind='bar', stacked=True, ax=axes2)"
   ]
  },
  {
   "cell_type": "code",
   "execution_count": 89,
   "metadata": {},
   "outputs": [
    {
     "data": {
      "text/plain": [
       "Churn  Partner\n",
       "No     Yes        2733\n",
       "       No         2441\n",
       "Yes    No         1200\n",
       "       Yes         669\n",
       "Name: Partner, dtype: int64"
      ]
     },
     "execution_count": 89,
     "metadata": {},
     "output_type": "execute_result"
    }
   ],
   "source": [
    "data.groupby('Churn')['Partner'].value_counts()"
   ]
  },
  {
   "cell_type": "markdown",
   "metadata": {},
   "source": [
    "Entre los Usuarios que aún continúan con el servicio, alrededor de la mitad viven con un compañero. Mientras que casi el doble de los Usuarios que abandonaron el servicio durante el último mes viven solos. "
   ]
  },
  {
   "cell_type": "markdown",
   "metadata": {},
   "source": [
    "#### Dependents Distribution"
   ]
  },
  {
   "cell_type": "code",
   "execution_count": 90,
   "metadata": {},
   "outputs": [
    {
     "data": {
      "text/plain": [
       "<matplotlib.axes._subplots.AxesSubplot at 0x117d0f48>"
      ]
     },
     "execution_count": 90,
     "metadata": {},
     "output_type": "execute_result"
    },
    {
     "data": {
      "image/png": "[encoded data removed]",
      "text/plain": [
       "<Figure size 432x288 with 1 Axes>"
      ]
     },
     "metadata": {
      "needs_background": "light"
     },
     "output_type": "display_data"
    }
   ],
   "source": [
    "## Distribución de los datos en la columna Dependents\n",
    "sns.countplot(x='Dependents', hue='Churn', data=data, palette='Set2')"
   ]
  },
  {
   "cell_type": "code",
   "execution_count": 91,
   "metadata": {},
   "outputs": [
    {
     "data": {
      "text/plain": [
       "Churn  Dependents\n",
       "No     No            3390\n",
       "       Yes           1784\n",
       "Yes    No            1543\n",
       "       Yes            326\n",
       "Name: Dependents, dtype: int64"
      ]
     },
     "execution_count": 91,
     "metadata": {},
     "output_type": "execute_result"
    }
   ],
   "source": [
    "data.groupby('Churn')['Dependents'].value_counts()"
   ]
  },
  {
   "cell_type": "markdown",
   "metadata": {},
   "source": [
    "31% de los Usuario que no tienen dependientes abandonaron el servicio durante el último mes, mientras que solo el 15% de los Usuarios que tienen dependientes abandonaron el servicio (50% menos)."
   ]
  },
  {
   "cell_type": "markdown",
   "metadata": {},
   "source": [
    "#### Contract Distribution"
   ]
  },
  {
   "cell_type": "code",
   "execution_count": 92,
   "metadata": {},
   "outputs": [
    {
     "data": {
      "text/plain": [
       "<matplotlib.axes._subplots.AxesSubplot at 0x104985c8>"
      ]
     },
     "execution_count": 92,
     "metadata": {},
     "output_type": "execute_result"
    },
    {
     "data": {
      "image/png": "[encoded data removed]",
      "text/plain": [
       "<Figure size 1080x432 with 2 Axes>"
      ]
     },
     "metadata": {
      "needs_background": "light"
     },
     "output_type": "display_data"
    }
   ],
   "source": [
    "fig, [axes1, axes2] = plt.subplots(1,2,figsize=(15,6))\n",
    "\n",
    "## Distribución de los datos en la columna Contract\n",
    "sns.countplot(x='Contract', data=data, palette='Set1', ax=axes1)\n",
    "\n",
    "## Comportamiento del abandono entre los Usuarios dependiendo del tipo de contrato\n",
    "sns.countplot(x='Contract', hue='Churn', data=data, palette='hls', ax=axes2)"
   ]
  },
  {
   "cell_type": "code",
   "execution_count": 93,
   "metadata": {},
   "outputs": [
    {
     "data": {
      "text/plain": [
       "Churn  Contract      \n",
       "No     Month-to-month    2220\n",
       "       Two year          1647\n",
       "       One year          1307\n",
       "Yes    Month-to-month    1655\n",
       "       One year           166\n",
       "       Two year            48\n",
       "Name: Contract, dtype: int64"
      ]
     },
     "execution_count": 93,
     "metadata": {},
     "output_type": "execute_result"
    }
   ],
   "source": [
    "data.groupby('Churn')['Contract'].value_counts()"
   ]
  },
  {
   "cell_type": "markdown",
   "metadata": {},
   "source": [
    "Más de la mitad (55%) de los Usuarios presentes en la base de datos, contaban con un tipo de contrato \"mes a mes\". Además, alrededor de un 89% de los Usuarios que abanaron el servicio durante el último mes tenían un tipo de contrato \"mes a mes\", 9% un contrato a un año y 2% un contrato a dos años."
   ]
  },
  {
   "cell_type": "markdown",
   "metadata": {},
   "source": [
    "\n",
    "#### Payment Method Distribution"
   ]
  },
  {
   "cell_type": "code",
   "execution_count": 94,
   "metadata": {},
   "outputs": [
    {
     "data": {
      "text/plain": [
       "[Text(0, 0, 'Electronic check'),\n",
       " Text(0, 0, 'Mailed check'),\n",
       " Text(0, 0, 'Bank transfer (automatic)'),\n",
       " Text(0, 0, 'Credit card (automatic)')]"
      ]
     },
     "execution_count": 94,
     "metadata": {},
     "output_type": "execute_result"
    },
    {
     "data": {
      "image/png": "[encoded data removed]",
      "text/plain": [
       "<Figure size 1080x432 with 2 Axes>"
      ]
     },
     "metadata": {
      "needs_background": "light"
     },
     "output_type": "display_data"
    }
   ],
   "source": [
    "fig, [axes1, axes2] = plt.subplots(1,2,figsize=(15,6))\n",
    "\n",
    "## Distribución de los datos en la columna Payment Method\n",
    "chart = sns.countplot(x='PaymentMethod', data=data, palette='Set1', ax=axes1)\n",
    "chart.set_xticklabels(chart.get_xticklabels(), rotation=45)\n",
    "\n",
    "## Comportamiento del abandono entre los Usuarios dependiendo del método de pago\n",
    "chart = sns.countplot(x='PaymentMethod', hue='Churn', data=data, palette='hls', ax=axes2)\n",
    "chart.set_xticklabels(chart.get_xticklabels(), rotation=45)"
   ]
  },
  {
   "cell_type": "code",
   "execution_count": 95,
   "metadata": {},
   "outputs": [
    {
     "data": {
      "text/plain": [
       "Churn  PaymentMethod            \n",
       "No     Mailed check                 1304\n",
       "       Electronic check             1294\n",
       "       Credit card (automatic)      1290\n",
       "       Bank transfer (automatic)    1286\n",
       "Yes    Electronic check             1071\n",
       "       Mailed check                  308\n",
       "       Bank transfer (automatic)     258\n",
       "       Credit card (automatic)       232\n",
       "Name: PaymentMethod, dtype: int64"
      ]
     },
     "execution_count": 95,
     "metadata": {},
     "output_type": "execute_result"
    }
   ],
   "source": [
    "data.groupby('Churn')['PaymentMethod'].value_counts()"
   ]
  },
  {
   "cell_type": "markdown",
   "metadata": {},
   "source": [
    "La cantidad de Usuarios con método de pago *Electronick Check* es ligeramente mayor que los Usuarios con otros métodos de pago. El abandono entre Usuarios con dicho método fue mucho mayor a los otros. "
   ]
  },
  {
   "cell_type": "markdown",
   "metadata": {},
   "source": [
    "#### Tenure distribution"
   ]
  },
  {
   "cell_type": "markdown",
   "metadata": {},
   "source": [
    "Histograma de la antiguedad de lso Usuarios suscritos al servicio. "
   ]
  },
  {
   "cell_type": "code",
   "execution_count": 96,
   "metadata": {},
   "outputs": [
    {
     "data": {
      "text/plain": [
       "<matplotlib.axes._subplots.AxesSubplot at 0x118157c8>"
      ]
     },
     "execution_count": 96,
     "metadata": {},
     "output_type": "execute_result"
    },
    {
     "data": {
      "image/png": "[encoded data removed]",
      "text/plain": [
       "<Figure size 432x288 with 1 Axes>"
      ]
     },
     "metadata": {
      "needs_background": "light"
     },
     "output_type": "display_data"
    }
   ],
   "source": [
    "sns.distplot(data.tenure)"
   ]
  },
  {
   "cell_type": "markdown",
   "metadata": {},
   "source": [
    "Para una mejor visualización, vamos a separar a los Usuarios de acuerdo a la antiguedad en aquellos con menos un año, al menos dos años, tres años, etc. Grafiquemos la antiguedad de los Usuarios y comparemos con el abandono durate el último mes. "
   ]
  },
  {
   "cell_type": "code",
   "execution_count": 97,
   "metadata": {},
   "outputs": [
    {
     "data": {
      "text/plain": [
       "Text(0, 0.5, 'Número Usuarios')"
      ]
     },
     "execution_count": 97,
     "metadata": {},
     "output_type": "execute_result"
    },
    {
     "data": {
      "image/png": "[encoded data removed]",
      "text/plain": [
       "<Figure size 1080x432 with 2 Axes>"
      ]
     },
     "metadata": {
      "needs_background": "light"
     },
     "output_type": "display_data"
    }
   ],
   "source": [
    "# Agrupamos los datos en la columna Tenure\n",
    "bins = [0, 12, 24, 36, 48, 60, 72]\n",
    "labels = ['1', '2', '3', '4', '5', '6']\n",
    "data['tenureGroup'] = pd.cut(data[\"tenure\"], bins, labels=labels)\n",
    "\n",
    "# Antiguedad usuarios\n",
    "fig, [axes1, axes2] = plt.subplots(1,2,figsize=(15,6))\n",
    "sns.countplot(x='tenureGroup', data=data, ax=axes1)\n",
    "axes1.set_xlabel('Antiguedad Promedio')\n",
    "axes1.set_ylabel('Número Usuarios')\n",
    "\n",
    "\n",
    "# Abandono durante el último mes\n",
    "sns.countplot(x='tenureGroup', hue='Churn', data=data, palette='hls', ax=axes2)\n",
    "axes2.set_xlabel('Tiempo de permanencia (años)')\n",
    "axes2.set_ylabel('Número Usuarios')"
   ]
  },
  {
   "cell_type": "markdown",
   "metadata": {},
   "source": [
    "La mayoría de los Usuarios de la base de datos tienen un año o menos con el servicio, seguidos de los Usuarios con más de 5 años. A medida que aumenta el número de años de suscripción los Usuarios, menor es la tasa de abandono de los mismos."
   ]
  },
  {
   "cell_type": "markdown",
   "metadata": {},
   "source": [
    "#### Phone service Distribution"
   ]
  },
  {
   "cell_type": "code",
   "execution_count": 98,
   "metadata": {},
   "outputs": [
    {
     "data": {
      "text/plain": [
       "<matplotlib.axes._subplots.AxesSubplot at 0x11b31708>"
      ]
     },
     "execution_count": 98,
     "metadata": {},
     "output_type": "execute_result"
    },
    {
     "data": {
      "image/png": "[encoded data removed]",
      "text/plain": [
       "<Figure size 1080x432 with 2 Axes>"
      ]
     },
     "metadata": {
      "needs_background": "light"
     },
     "output_type": "display_data"
    }
   ],
   "source": [
    "fig, [axes1, axes2] = plt.subplots(1,2,figsize=(15,6))\n",
    "\n",
    "## Distribución de los datos en la columna Contract\n",
    "sns.countplot(x='PhoneService', data=data, palette='hls', ax=axes1)\n",
    "\n",
    "## Comportamiento del abandono entre los Usuarios dependiendo del tipo de contrato\n",
    "sns.countplot(x='PhoneService', hue='Churn', data=data, palette='Set3', ax=axes2)"
   ]
  },
  {
   "cell_type": "code",
   "execution_count": 99,
   "metadata": {},
   "outputs": [
    {
     "data": {
      "text/plain": [
       "Churn  PhoneService\n",
       "No     Yes             4662\n",
       "       No               512\n",
       "Yes    Yes             1699\n",
       "       No               170\n",
       "Name: PhoneService, dtype: int64"
      ]
     },
     "execution_count": 99,
     "metadata": {},
     "output_type": "execute_result"
    }
   ],
   "source": [
    "data.groupby('Churn')['PhoneService'].value_counts()"
   ]
  },
  {
   "cell_type": "markdown",
   "metadata": {},
   "source": [
    "Un 90% de los Usuarios contaba con servicio telefónico. El 27% de dichos Usuarios abandonaron durante el último mes. Mientras que de los Usuarios que no contaban con el servicio, un 25% abandonó. Se mantiene la mista tendencia/tasa de abandono en ambos casos."
   ]
  },
  {
   "cell_type": "markdown",
   "metadata": {},
   "source": [
    "#### MultipleLines Distribution"
   ]
  },
  {
   "cell_type": "code",
   "execution_count": 100,
   "metadata": {},
   "outputs": [
    {
     "data": {
      "text/plain": [
       "<matplotlib.axes._subplots.AxesSubplot at 0x1203b848>"
      ]
     },
     "execution_count": 100,
     "metadata": {},
     "output_type": "execute_result"
    },
    {
     "data": {
      "image/png": "[encoded data removed]",
      "text/plain": [
       "<Figure size 1080x432 with 2 Axes>"
      ]
     },
     "metadata": {
      "needs_background": "light"
     },
     "output_type": "display_data"
    }
   ],
   "source": [
    "fig, [axes1, axes2] = plt.subplots(1,2,figsize=(15,6))\n",
    "\n",
    "## Distribución de los datos en la columna Contract\n",
    "sns.countplot(x='MultipleLines', data=data, palette='Set2', ax=axes1)\n",
    "\n",
    "## Comportamiento del abandono entre los Usuarios dependiendo del tipo de contrato\n",
    "sns.countplot(x='MultipleLines', hue='Churn', data=data, palette='Set1', ax=axes2)"
   ]
  },
  {
   "cell_type": "code",
   "execution_count": 101,
   "metadata": {},
   "outputs": [
    {
     "data": {
      "text/plain": [
       "Churn  MultipleLines   \n",
       "No     No                  2541\n",
       "       Yes                 2121\n",
       "       No phone service     512\n",
       "Yes    Yes                  850\n",
       "       No                   849\n",
       "       No phone service     170\n",
       "Name: MultipleLines, dtype: int64"
      ]
     },
     "execution_count": 101,
     "metadata": {},
     "output_type": "execute_result"
    }
   ],
   "source": [
    "data.groupby('Churn')['MultipleLines'].value_counts()"
   ]
  },
  {
   "cell_type": "markdown",
   "metadata": {},
   "source": [
    "Entre los Usuarios que cuentan con servicio telefónico, es ligeramente mayor la cantidad de Usuarios con Múltiples Líneas y la tendencia al abandono en ambos caso es similar (+/- 25% )"
   ]
  },
  {
   "cell_type": "markdown",
   "metadata": {},
   "source": [
    "#### InternetService Distribution"
   ]
  },
  {
   "cell_type": "code",
   "execution_count": 102,
   "metadata": {},
   "outputs": [
    {
     "data": {
      "text/plain": [
       "<matplotlib.axes._subplots.AxesSubplot at 0x12109b88>"
      ]
     },
     "execution_count": 102,
     "metadata": {},
     "output_type": "execute_result"
    },
    {
     "data": {
      "image/png": "[encoded data removed]",
      "text/plain": [
       "<Figure size 1080x432 with 2 Axes>"
      ]
     },
     "metadata": {
      "needs_background": "light"
     },
     "output_type": "display_data"
    }
   ],
   "source": [
    "fig, [axes1, axes2] = plt.subplots(1,2,figsize=(15,6))\n",
    "\n",
    "## Distribución de los datos en la columna Contract\n",
    "sns.countplot(x='InternetService', data=data, palette='hls', ax=axes1)\n",
    "\n",
    "## Comportamiento del abandono entre los Usuarios dependiendo del tipo de contrato\n",
    "sns.countplot(x='InternetService', hue='Churn', data=data, palette='hls', ax=axes2)"
   ]
  },
  {
   "cell_type": "code",
   "execution_count": 103,
   "metadata": {},
   "outputs": [
    {
     "data": {
      "text/plain": [
       "Churn  InternetService\n",
       "No     DSL                1962\n",
       "       Fiber optic        1799\n",
       "       No                 1413\n",
       "Yes    Fiber optic        1297\n",
       "       DSL                 459\n",
       "       No                  113\n",
       "Name: InternetService, dtype: int64"
      ]
     },
     "execution_count": 103,
     "metadata": {},
     "output_type": "execute_result"
    }
   ],
   "source": [
    "data.groupby('Churn')['InternetService'].value_counts()"
   ]
  },
  {
   "cell_type": "markdown",
   "metadata": {},
   "source": [
    "88% de los Usuario de la base de datos contaban con servicio de internet; entre estos, 56% utiliza *fibra óptica* y 44% utiliza *DSL*. La tendencia del abandono es mucho más alta en los usuarios que utilizaban *fibra óptica* con un 42% de los Usuarios de esta categoría (69% del total de los Usuarios que abandonaron el servicio).19% de los Usuarios que utilizaban DSL (25% del total de Usuarios que abandonaron el servicio), abandonó el servicio. Mientras que solo el 7% de los Usuarios que no contaban con servicio de Internet abandonó el servicio (6% del del total de Usuarios que abandonaron el servicio)."
   ]
  },
  {
   "cell_type": "markdown",
   "metadata": {},
   "source": [
    "#### OnlineSecurity Distribution"
   ]
  },
  {
   "cell_type": "code",
   "execution_count": 104,
   "metadata": {},
   "outputs": [
    {
     "data": {
      "text/plain": [
       "<matplotlib.axes._subplots.AxesSubplot at 0x121de308>"
      ]
     },
     "execution_count": 104,
     "metadata": {},
     "output_type": "execute_result"
    },
    {
     "data": {
      "image/png": "[encoded data removed]",
      "text/plain": [
       "<Figure size 1080x432 with 2 Axes>"
      ]
     },
     "metadata": {
      "needs_background": "light"
     },
     "output_type": "display_data"
    }
   ],
   "source": [
    "fig, [axes1, axes2] = plt.subplots(1,2,figsize=(15,6))\n",
    "\n",
    "## Distribución de los datos en la columna Contract\n",
    "sns.countplot(x='OnlineSecurity', data=data, palette='Set2', ax=axes1)\n",
    "\n",
    "## Comportamiento del abandono entre los Usuarios dependiendo del tipo de contrato\n",
    "sns.countplot(x='OnlineSecurity', hue='Churn', data=data, palette='Set2', ax=axes2)"
   ]
  },
  {
   "cell_type": "code",
   "execution_count": 105,
   "metadata": {},
   "outputs": [
    {
     "data": {
      "text/plain": [
       "Churn  OnlineSecurity     \n",
       "No     No                     2037\n",
       "       Yes                    1724\n",
       "       No internet service    1413\n",
       "Yes    No                     1461\n",
       "       Yes                     295\n",
       "       No internet service     113\n",
       "Name: OnlineSecurity, dtype: int64"
      ]
     },
     "execution_count": 105,
     "metadata": {},
     "output_type": "execute_result"
    }
   ],
   "source": [
    "data.groupby('Churn')['OnlineSecurity'].value_counts()"
   ]
  },
  {
   "cell_type": "markdown",
   "metadata": {},
   "source": [
    "42% de los Usuarios que no contaban con servicio de OnlineSecirity abandonaron el servicio (78% del total de Usuarios que abandonaron el servicio). Mientras que solo un 15% de los Usuarios con OnlineSecurity abandonó el servicio (16% de los Usuarios que abandonaron el servicio en el último mes)."
   ]
  },
  {
   "cell_type": "markdown",
   "metadata": {},
   "source": [
    "#### OnlineBackup distribution"
   ]
  },
  {
   "cell_type": "code",
   "execution_count": 106,
   "metadata": {},
   "outputs": [
    {
     "data": {
      "text/plain": [
       "<matplotlib.axes._subplots.AxesSubplot at 0x125a8488>"
      ]
     },
     "execution_count": 106,
     "metadata": {},
     "output_type": "execute_result"
    },
    {
     "data": {
      "image/png": "[encoded data removed]",
      "text/plain": [
       "<Figure size 1080x432 with 2 Axes>"
      ]
     },
     "metadata": {
      "needs_background": "light"
     },
     "output_type": "display_data"
    }
   ],
   "source": [
    "fig, [axes1, axes2] = plt.subplots(1,2,figsize=(15,6))\n",
    "\n",
    "## Distribución de los datos en la columna Contract\n",
    "sns.countplot(x='OnlineBackup', data=data, palette='Set2', ax=axes1)\n",
    "\n",
    "## Comportamiento del abandono entre los Usuarios dependiendo del tipo de contrato\n",
    "sns.countplot(x='OnlineBackup', hue='Churn', data=data, palette='Set1', ax=axes2)"
   ]
  },
  {
   "cell_type": "code",
   "execution_count": 107,
   "metadata": {},
   "outputs": [
    {
     "data": {
      "text/plain": [
       "Churn  OnlineBackup       \n",
       "No     Yes                    1906\n",
       "       No                     1855\n",
       "       No internet service    1413\n",
       "Yes    No                     1233\n",
       "       Yes                     523\n",
       "       No internet service     113\n",
       "Name: OnlineBackup, dtype: int64"
      ]
     },
     "execution_count": 107,
     "metadata": {},
     "output_type": "execute_result"
    }
   ],
   "source": [
    "data.groupby('Churn')['OnlineBackup'].value_counts()"
   ]
  },
  {
   "cell_type": "markdown",
   "metadata": {},
   "source": [
    "De los Usuarios que abandonaron el servicio, 66% no contaban con *OnlineBackup* (40% de los Usuarios de esta categoría), mientras que el 28% sí contaba con el servicio (22% de los Usuarios de esta categoría). "
   ]
  },
  {
   "cell_type": "markdown",
   "metadata": {},
   "source": [
    "#### Monthly Charges Distribution"
   ]
  },
  {
   "cell_type": "markdown",
   "metadata": {},
   "source": [
    "Ahora creamos una nueva columna (*ChurnBin*) en la cual asignaremos el valor de 0 si el Usuario permanece con el servicio y 1 si el Usuario abandonó el servicio en el último mes. Además, agrupamos la columna de *CargosMensuales* en 10 grupos para una mejor visualización."
   ]
  },
  {
   "cell_type": "code",
   "execution_count": 108,
   "metadata": {},
   "outputs": [
    {
     "data": {
      "text/plain": [
       "Text(0.5, 1.0, 'Tasa de abandono vs Cargos Mensuales')"
      ]
     },
     "execution_count": 108,
     "metadata": {},
     "output_type": "execute_result"
    },
    {
     "data": {
      "image/png": "[encoded data removed]",
      "text/plain": [
       "<Figure size 1080x432 with 2 Axes>"
      ]
     },
     "metadata": {
      "needs_background": "light"
     },
     "output_type": "display_data"
    }
   ],
   "source": [
    "fig, [axes1, axes2] = plt.subplots(1,2,figsize=(15,6))\n",
    "\n",
    "# Creamos columna ChurnBin\n",
    "churn_mapping = {\"No\": 0, \"Yes\": 1}\n",
    "data['ChurnBin'] = data['Churn'].map(churn_mapping)\n",
    "\n",
    "# Histograma cargos mensuales a Usuarios\n",
    "sns.distplot(data.MonthlyCharges, ax=axes1)\n",
    "axes1.set_title('Distribution of Monthly Charges')\n",
    "\n",
    "# Categorizamos la variable entre 10 bins \n",
    "data['MonthlyChargesCategory'] = pd.cut(data[\"MonthlyCharges\"], bins=10)\n",
    "sns.barplot(x='MonthlyChargesCategory', y='ChurnBin', data=data, ax=axes2)\n",
    "[items.set_rotation(90) for items in axes2.get_xticklabels()]\n",
    "axes2.set_title('Tasa de abandono vs Cargos Mensuales')\n"
   ]
  },
  {
   "cell_type": "code",
   "execution_count": 109,
   "metadata": {},
   "outputs": [
    {
     "data": {
      "text/plain": [
       "Churn  MonthlyChargesCategory\n",
       "No     (18.15, 28.3]             1458\n",
       "       (78.55, 88.6]              598\n",
       "       (88.6, 98.65]              553\n",
       "       (68.5, 78.55]              544\n",
       "       (48.4, 58.45]              488\n",
       "       (98.65, 108.7]             482\n",
       "       (58.45, 68.5]              420\n",
       "       (108.7, 118.75]            251\n",
       "       (38.35, 48.4]              246\n",
       "       (28.3, 38.35]              134\n",
       "Yes    (78.55, 88.6]              355\n",
       "       (68.5, 78.55]              349\n",
       "       (88.6, 98.65]              320\n",
       "       (98.65, 108.7]             272\n",
       "       (48.4, 58.45]              152\n",
       "       (18.15, 28.3]              148\n",
       "       (38.35, 48.4]              119\n",
       "       (28.3, 38.35]               57\n",
       "       (58.45, 68.5]               54\n",
       "       (108.7, 118.75]             43\n",
       "Name: MonthlyChargesCategory, dtype: int64"
      ]
     },
     "execution_count": 109,
     "metadata": {},
     "output_type": "execute_result"
    }
   ],
   "source": [
    "data.groupby('Churn')['MonthlyChargesCategory'].value_counts()"
   ]
  },
  {
   "cell_type": "markdown",
   "metadata": {},
   "source": [
    "Un gran número de Usuarios tienen cargos mensuales relativamente bajos (USD 18.15 - 28.3); entre estos la tasa de abandono (9%) es baja en comparación con la tasa de abandono de los Usuarios con cargos mensuales más altos (37% en promedio para Usuarios con cargos mensuales entre USD 78.55 y USD 108.7). La tasa de abandono para los Usuarios con los cargos mensuales más altos (>118.75) fue de solo 15%."
   ]
  },
  {
   "cell_type": "markdown",
   "metadata": {},
   "source": [
    "#### Total Charges Distribution"
   ]
  },
  {
   "cell_type": "markdown",
   "metadata": {},
   "source": [
    "Para esta columna se mencionó que está siendo leída como tipo '*object*', cuando debería ser de tipo flotante. Esto se debe a que existen filas donde los cargos totales se almacenaron como \" \". Para lidiar con ello, se llenaron dichas filas asumiendo que los cargos totales resultan del producto entre el *tiempo de permanencia* (**Tenure**) y los *cargos mensuales* (**MonthlyCharges**)."
   ]
  },
  {
   "cell_type": "code",
   "execution_count": 110,
   "metadata": {},
   "outputs": [],
   "source": [
    "## Reemplazando strings con la fórmula descrita\n",
    "data['TotalCharges'] = data['TotalCharges'].replace(\" \", (data.MonthlyCharges * data.tenure))\n",
    "\n",
    "\n",
    "## Convertimos la columna a tipo numérico\n",
    "data['TotalCharges'] = pd.to_numeric(data['TotalCharges'])"
   ]
  },
  {
   "cell_type": "markdown",
   "metadata": {},
   "source": [
    "Miremos los tipos de datos de nuestra base nuevamente."
   ]
  },
  {
   "cell_type": "code",
   "execution_count": 111,
   "metadata": {},
   "outputs": [
    {
     "data": {
      "text/plain": [
       "customerID                  object\n",
       "gender                      object\n",
       "SeniorCitizen                int64\n",
       "Partner                     object\n",
       "Dependents                  object\n",
       "tenure                       int64\n",
       "PhoneService                object\n",
       "MultipleLines               object\n",
       "InternetService             object\n",
       "OnlineSecurity              object\n",
       "OnlineBackup                object\n",
       "DeviceProtection            object\n",
       "TechSupport                 object\n",
       "StreamingTV                 object\n",
       "StreamingMovies             object\n",
       "Contract                    object\n",
       "PaperlessBilling            object\n",
       "PaymentMethod               object\n",
       "MonthlyCharges             float64\n",
       "TotalCharges               float64\n",
       "Churn                       object\n",
       "tenureGroup               category\n",
       "ChurnBin                     int64\n",
       "MonthlyChargesCategory    category\n",
       "dtype: object"
      ]
     },
     "execution_count": 111,
     "metadata": {},
     "output_type": "execute_result"
    }
   ],
   "source": [
    "data.dtypes"
   ]
  },
  {
   "cell_type": "markdown",
   "metadata": {},
   "source": [
    "Ahora hacemos un histograma y una dsitribución, dividiendo los Cargos Totales en 10 categorías. "
   ]
  },
  {
   "cell_type": "code",
   "execution_count": 112,
   "metadata": {},
   "outputs": [
    {
     "data": {
      "text/plain": [
       "Text(0.5, 1.0, 'Abandono vs Cargos Totales')"
      ]
     },
     "execution_count": 112,
     "metadata": {},
     "output_type": "execute_result"
    },
    {
     "data": {
      "image/png": "[encoded data removed]",
      "text/plain": [
       "<Figure size 1080x432 with 2 Axes>"
      ]
     },
     "metadata": {
      "needs_background": "light"
     },
     "output_type": "display_data"
    }
   ],
   "source": [
    "fig, [axes1, axes2] = plt.subplots(1,2,figsize=(15,6))\n",
    "\n",
    "# Histograma \n",
    "sns.distplot(data.TotalCharges, ax=axes1)\n",
    "axes1.set_title('Distribucion Cargos Totales')\n",
    "\n",
    "# Distribución Categorizada\n",
    "data['TotalChargesCategory'] = pd.cut(data[\"TotalCharges\"], bins=10)\n",
    "sns.barplot(x='TotalChargesCategory', y='ChurnBin', data=data, ax=axes2)\n",
    "[items.set_rotation(90) for items in axes2.get_xticklabels()]\n",
    "axes2.set_title('Abandono vs Cargos Totales')"
   ]
  },
  {
   "cell_type": "markdown",
   "metadata": {},
   "source": [
    "De acuerdo con la gráfica, los Usuarios con cargos totales más bajos, presentaron una mayor tasa de abandono durante el último mes. "
   ]
  },
  {
   "cell_type": "markdown",
   "metadata": {},
   "source": [
    "#### Correlaciones"
   ]
  },
  {
   "cell_type": "markdown",
   "metadata": {},
   "source": [
    "Grafiquemos las correlación entre las variables contínuas:"
   ]
  },
  {
   "cell_type": "code",
   "execution_count": 113,
   "metadata": {},
   "outputs": [
    {
     "data": {
      "text/html": [
       "<div>\n",
       "<style scoped>\n",
       "    .dataframe tbody tr th:only-of-type {\n",
       "        vertical-align: middle;\n",
       "    }\n",
       "\n",
       "    .dataframe tbody tr th {\n",
       "        vertical-align: top;\n",
       "    }\n",
       "\n",
       "    .dataframe thead th {\n",
       "        text-align: right;\n",
       "    }\n",
       "</style>\n",
       "<table border=\"1\" class=\"dataframe\">\n",
       "  <thead>\n",
       "    <tr style=\"text-align: right;\">\n",
       "      <th></th>\n",
       "      <th>tenure</th>\n",
       "      <th>MonthlyCharges</th>\n",
       "      <th>TotalCharges</th>\n",
       "    </tr>\n",
       "  </thead>\n",
       "  <tbody>\n",
       "    <tr>\n",
       "      <td>tenure</td>\n",
       "      <td>1.000000</td>\n",
       "      <td>0.247900</td>\n",
       "      <td>0.826178</td>\n",
       "    </tr>\n",
       "    <tr>\n",
       "      <td>MonthlyCharges</td>\n",
       "      <td>0.247900</td>\n",
       "      <td>1.000000</td>\n",
       "      <td>0.651174</td>\n",
       "    </tr>\n",
       "    <tr>\n",
       "      <td>TotalCharges</td>\n",
       "      <td>0.826178</td>\n",
       "      <td>0.651174</td>\n",
       "      <td>1.000000</td>\n",
       "    </tr>\n",
       "  </tbody>\n",
       "</table>\n",
       "</div>"
      ],
      "text/plain": [
       "                  tenure  MonthlyCharges  TotalCharges\n",
       "tenure          1.000000        0.247900      0.826178\n",
       "MonthlyCharges  0.247900        1.000000      0.651174\n",
       "TotalCharges    0.826178        0.651174      1.000000"
      ]
     },
     "execution_count": 113,
     "metadata": {},
     "output_type": "execute_result"
    }
   ],
   "source": [
    "# correlación\n",
    "data_corr = data[['tenure', 'MonthlyCharges', 'TotalCharges']].corr()\n",
    "data_corr"
   ]
  },
  {
   "cell_type": "code",
   "execution_count": 114,
   "metadata": {
    "scrolled": false
   },
   "outputs": [
    {
     "data": {
      "text/plain": [
       "(3, 0)"
      ]
     },
     "execution_count": 114,
     "metadata": {},
     "output_type": "execute_result"
    },
    {
     "data": {
      "image/png": "[encoded data removed]",
      "text/plain": [
       "<Figure size 1080x432 with 2 Axes>"
      ]
     },
     "metadata": {
      "needs_background": "light"
     },
     "output_type": "display_data"
    }
   ],
   "source": [
    "#Mapa de calor\n",
    "\n",
    "fig, axes = plt.subplots(figsize=(15,6))\n",
    "sns.heatmap(data=data_corr, annot=True, ax=axes, square=True, linewidths=0, vmin=0, vmax=1)\n",
    "#[items.set_rotation(90) for items in axes.get_xticklabels()]\n",
    "[items.set_rotation(0) for items in axes.get_yticklabels()]\n",
    "axes.set_ylim([3, 0])"
   ]
  },
  {
   "cell_type": "markdown",
   "metadata": {},
   "source": [
    "Como ya se mencionó, los *Cargos Totales* son resultan del producto entre el *tiempo de permanencia* de los Usuarios y los *cargos mensuales*, por lo que la correlación entre dicha variable con las otras dos arroja valores de 83% y 65%, respectivamente. Para el proceso de clusterización y posterior clasificación de los Usuarios se eliminará esta variable de la base de datos."
   ]
  },
  {
   "cell_type": "markdown",
   "metadata": {},
   "source": [
    "### Transformación de la base de datos"
   ]
  },
  {
   "cell_type": "markdown",
   "metadata": {},
   "source": [
    "Procedemos a eliminar de nuestra base de datos aquellas columnas que se encontraron no ser muy representativas para el proceso de clasificación. "
   ]
  },
  {
   "cell_type": "code",
   "execution_count": 115,
   "metadata": {},
   "outputs": [
    {
     "data": {
      "text/html": [
       "<div>\n",
       "<style scoped>\n",
       "    .dataframe tbody tr th:only-of-type {\n",
       "        vertical-align: middle;\n",
       "    }\n",
       "\n",
       "    .dataframe tbody tr th {\n",
       "        vertical-align: top;\n",
       "    }\n",
       "\n",
       "    .dataframe thead th {\n",
       "        text-align: right;\n",
       "    }\n",
       "</style>\n",
       "<table border=\"1\" class=\"dataframe\">\n",
       "  <thead>\n",
       "    <tr style=\"text-align: right;\">\n",
       "      <th></th>\n",
       "      <th>customerID</th>\n",
       "      <th>gender</th>\n",
       "      <th>SeniorCitizen</th>\n",
       "      <th>Partner</th>\n",
       "      <th>Dependents</th>\n",
       "      <th>tenure</th>\n",
       "      <th>PhoneService</th>\n",
       "      <th>MultipleLines</th>\n",
       "      <th>InternetService</th>\n",
       "      <th>OnlineSecurity</th>\n",
       "      <th>...</th>\n",
       "      <th>Contract</th>\n",
       "      <th>PaperlessBilling</th>\n",
       "      <th>PaymentMethod</th>\n",
       "      <th>MonthlyCharges</th>\n",
       "      <th>TotalCharges</th>\n",
       "      <th>Churn</th>\n",
       "      <th>tenureGroup</th>\n",
       "      <th>ChurnBin</th>\n",
       "      <th>MonthlyChargesCategory</th>\n",
       "      <th>TotalChargesCategory</th>\n",
       "    </tr>\n",
       "  </thead>\n",
       "  <tbody>\n",
       "    <tr>\n",
       "      <td>0</td>\n",
       "      <td>7590-VHVEG</td>\n",
       "      <td>Female</td>\n",
       "      <td>0</td>\n",
       "      <td>Yes</td>\n",
       "      <td>No</td>\n",
       "      <td>1</td>\n",
       "      <td>No</td>\n",
       "      <td>No phone service</td>\n",
       "      <td>DSL</td>\n",
       "      <td>No</td>\n",
       "      <td>...</td>\n",
       "      <td>Month-to-month</td>\n",
       "      <td>Yes</td>\n",
       "      <td>Electronic check</td>\n",
       "      <td>29.85</td>\n",
       "      <td>29.85</td>\n",
       "      <td>No</td>\n",
       "      <td>1</td>\n",
       "      <td>0</td>\n",
       "      <td>(28.3, 38.35]</td>\n",
       "      <td>(-8.685, 868.48]</td>\n",
       "    </tr>\n",
       "    <tr>\n",
       "      <td>1</td>\n",
       "      <td>5575-GNVDE</td>\n",
       "      <td>Male</td>\n",
       "      <td>0</td>\n",
       "      <td>No</td>\n",
       "      <td>No</td>\n",
       "      <td>34</td>\n",
       "      <td>Yes</td>\n",
       "      <td>No</td>\n",
       "      <td>DSL</td>\n",
       "      <td>Yes</td>\n",
       "      <td>...</td>\n",
       "      <td>One year</td>\n",
       "      <td>No</td>\n",
       "      <td>Mailed check</td>\n",
       "      <td>56.95</td>\n",
       "      <td>1889.50</td>\n",
       "      <td>No</td>\n",
       "      <td>3</td>\n",
       "      <td>0</td>\n",
       "      <td>(48.4, 58.45]</td>\n",
       "      <td>(1736.96, 2605.44]</td>\n",
       "    </tr>\n",
       "    <tr>\n",
       "      <td>2</td>\n",
       "      <td>3668-QPYBK</td>\n",
       "      <td>Male</td>\n",
       "      <td>0</td>\n",
       "      <td>No</td>\n",
       "      <td>No</td>\n",
       "      <td>2</td>\n",
       "      <td>Yes</td>\n",
       "      <td>No</td>\n",
       "      <td>DSL</td>\n",
       "      <td>Yes</td>\n",
       "      <td>...</td>\n",
       "      <td>Month-to-month</td>\n",
       "      <td>Yes</td>\n",
       "      <td>Mailed check</td>\n",
       "      <td>53.85</td>\n",
       "      <td>108.15</td>\n",
       "      <td>Yes</td>\n",
       "      <td>1</td>\n",
       "      <td>1</td>\n",
       "      <td>(48.4, 58.45]</td>\n",
       "      <td>(-8.685, 868.48]</td>\n",
       "    </tr>\n",
       "    <tr>\n",
       "      <td>3</td>\n",
       "      <td>7795-CFOCW</td>\n",
       "      <td>Male</td>\n",
       "      <td>0</td>\n",
       "      <td>No</td>\n",
       "      <td>No</td>\n",
       "      <td>45</td>\n",
       "      <td>No</td>\n",
       "      <td>No phone service</td>\n",
       "      <td>DSL</td>\n",
       "      <td>Yes</td>\n",
       "      <td>...</td>\n",
       "      <td>One year</td>\n",
       "      <td>No</td>\n",
       "      <td>Bank transfer (automatic)</td>\n",
       "      <td>42.30</td>\n",
       "      <td>1840.75</td>\n",
       "      <td>No</td>\n",
       "      <td>4</td>\n",
       "      <td>0</td>\n",
       "      <td>(38.35, 48.4]</td>\n",
       "      <td>(1736.96, 2605.44]</td>\n",
       "    </tr>\n",
       "    <tr>\n",
       "      <td>4</td>\n",
       "      <td>9237-HQITU</td>\n",
       "      <td>Female</td>\n",
       "      <td>0</td>\n",
       "      <td>No</td>\n",
       "      <td>No</td>\n",
       "      <td>2</td>\n",
       "      <td>Yes</td>\n",
       "      <td>No</td>\n",
       "      <td>Fiber optic</td>\n",
       "      <td>No</td>\n",
       "      <td>...</td>\n",
       "      <td>Month-to-month</td>\n",
       "      <td>Yes</td>\n",
       "      <td>Electronic check</td>\n",
       "      <td>70.70</td>\n",
       "      <td>151.65</td>\n",
       "      <td>Yes</td>\n",
       "      <td>1</td>\n",
       "      <td>1</td>\n",
       "      <td>(68.5, 78.55]</td>\n",
       "      <td>(-8.685, 868.48]</td>\n",
       "    </tr>\n",
       "  </tbody>\n",
       "</table>\n",
       "<p>5 rows × 25 columns</p>\n",
       "</div>"
      ],
      "text/plain": [
       "   customerID  gender  SeniorCitizen Partner Dependents  tenure PhoneService  \\\n",
       "0  7590-VHVEG  Female              0     Yes         No       1           No   \n",
       "1  5575-GNVDE    Male              0      No         No      34          Yes   \n",
       "2  3668-QPYBK    Male              0      No         No       2          Yes   \n",
       "3  7795-CFOCW    Male              0      No         No      45           No   \n",
       "4  9237-HQITU  Female              0      No         No       2          Yes   \n",
       "\n",
       "      MultipleLines InternetService OnlineSecurity  ...        Contract  \\\n",
       "0  No phone service             DSL             No  ...  Month-to-month   \n",
       "1                No             DSL            Yes  ...        One year   \n",
       "2                No             DSL            Yes  ...  Month-to-month   \n",
       "3  No phone service             DSL            Yes  ...        One year   \n",
       "4                No     Fiber optic             No  ...  Month-to-month   \n",
       "\n",
       "  PaperlessBilling              PaymentMethod MonthlyCharges TotalCharges  \\\n",
       "0              Yes           Electronic check          29.85        29.85   \n",
       "1               No               Mailed check          56.95      1889.50   \n",
       "2              Yes               Mailed check          53.85       108.15   \n",
       "3               No  Bank transfer (automatic)          42.30      1840.75   \n",
       "4              Yes           Electronic check          70.70       151.65   \n",
       "\n",
       "  Churn tenureGroup ChurnBin  MonthlyChargesCategory  TotalChargesCategory  \n",
       "0    No           1        0           (28.3, 38.35]      (-8.685, 868.48]  \n",
       "1    No           3        0           (48.4, 58.45]    (1736.96, 2605.44]  \n",
       "2   Yes           1        1           (48.4, 58.45]      (-8.685, 868.48]  \n",
       "3    No           4        0           (38.35, 48.4]    (1736.96, 2605.44]  \n",
       "4   Yes           1        1           (68.5, 78.55]      (-8.685, 868.48]  \n",
       "\n",
       "[5 rows x 25 columns]"
      ]
     },
     "execution_count": 115,
     "metadata": {},
     "output_type": "execute_result"
    }
   ],
   "source": [
    "data.head()"
   ]
  },
  {
   "cell_type": "code",
   "execution_count": 116,
   "metadata": {},
   "outputs": [],
   "source": [
    "data = data.drop(['customerID', 'gender', 'TotalCharges', 'TotalChargesCategory'], axis=1)"
   ]
  },
  {
   "cell_type": "code",
   "execution_count": 117,
   "metadata": {},
   "outputs": [
    {
     "data": {
      "text/plain": [
       "Index(['SeniorCitizen', 'Partner', 'Dependents', 'tenure', 'PhoneService',\n",
       "       'MultipleLines', 'InternetService', 'OnlineSecurity', 'OnlineBackup',\n",
       "       'DeviceProtection', 'TechSupport', 'StreamingTV', 'StreamingMovies',\n",
       "       'Contract', 'PaperlessBilling', 'PaymentMethod', 'MonthlyCharges',\n",
       "       'Churn', 'tenureGroup', 'ChurnBin', 'MonthlyChargesCategory'],\n",
       "      dtype='object')"
      ]
     },
     "execution_count": 117,
     "metadata": {},
     "output_type": "execute_result"
    }
   ],
   "source": [
    "data.columns"
   ]
  },
  {
   "cell_type": "code",
   "execution_count": 143,
   "metadata": {},
   "outputs": [
    {
     "data": {
      "text/plain": [
       "SeniorCitizen                int64\n",
       "Partner                     object\n",
       "Dependents                  object\n",
       "tenure                       int64\n",
       "PhoneService                object\n",
       "MultipleLines               object\n",
       "InternetService             object\n",
       "OnlineSecurity              object\n",
       "OnlineBackup                object\n",
       "DeviceProtection            object\n",
       "TechSupport                 object\n",
       "StreamingTV                 object\n",
       "StreamingMovies             object\n",
       "Contract                    object\n",
       "PaperlessBilling            object\n",
       "PaymentMethod               object\n",
       "MonthlyCharges             float64\n",
       "Churn                       object\n",
       "tenureGroup               category\n",
       "ChurnBin                     int64\n",
       "MonthlyChargesCategory    category\n",
       "dtype: object"
      ]
     },
     "execution_count": 143,
     "metadata": {},
     "output_type": "execute_result"
    }
   ],
   "source": [
    "data.dtypes"
   ]
  },
  {
   "cell_type": "markdown",
   "metadata": {},
   "source": [
    "Además, convertimos todas las variables tipo 'object' a variables numéricas, ya que los modelos de Machine Learning trabajan mejor con números."
   ]
  },
  {
   "cell_type": "code",
   "execution_count": 144,
   "metadata": {},
   "outputs": [
    {
     "name": "stdout",
     "output_type": "stream",
     "text": [
      "Index(['Partner', 'Dependents', 'PhoneService', 'MultipleLines',\n",
      "       'InternetService', 'OnlineSecurity', 'OnlineBackup', 'DeviceProtection',\n",
      "       'TechSupport', 'StreamingTV', 'StreamingMovies', 'Contract',\n",
      "       'PaperlessBilling', 'PaymentMethod', 'Churn', 'tenureGroup',\n",
      "       'MonthlyChargesCategory'],\n",
      "      dtype='object')\n"
     ]
    }
   ],
   "source": [
    "## Tomamos el vector de columnas\n",
    "\n",
    "cat_columns = data.select_dtypes(['object', 'category']).columns\n",
    "print(cat_columns)"
   ]
  },
  {
   "cell_type": "code",
   "execution_count": 145,
   "metadata": {},
   "outputs": [],
   "source": [
    "## Convertimos variables 'object' a categóricas\n",
    "\n",
    "data_cat = data.astype({'Partner':'category', 'Dependents':'category', 'PhoneService':'category', 'MultipleLines':'category',\n",
    "       'InternetService':'category', 'OnlineSecurity':'category', 'OnlineBackup':'category', 'DeviceProtection':'category',\n",
    "       'TechSupport':'category', 'StreamingTV':'category', 'StreamingMovies':'category', 'Contract':'category',\n",
    "       'PaperlessBilling':'category', 'PaymentMethod':'category', 'Churn':'category'})"
   ]
  },
  {
   "cell_type": "code",
   "execution_count": 146,
   "metadata": {},
   "outputs": [
    {
     "data": {
      "text/plain": [
       "SeniorCitizen                int64\n",
       "Partner                   category\n",
       "Dependents                category\n",
       "tenure                       int64\n",
       "PhoneService              category\n",
       "MultipleLines             category\n",
       "InternetService           category\n",
       "OnlineSecurity            category\n",
       "OnlineBackup              category\n",
       "DeviceProtection          category\n",
       "TechSupport               category\n",
       "StreamingTV               category\n",
       "StreamingMovies           category\n",
       "Contract                  category\n",
       "PaperlessBilling          category\n",
       "PaymentMethod             category\n",
       "MonthlyCharges             float64\n",
       "Churn                     category\n",
       "tenureGroup               category\n",
       "ChurnBin                     int64\n",
       "MonthlyChargesCategory    category\n",
       "dtype: object"
      ]
     },
     "execution_count": 146,
     "metadata": {},
     "output_type": "execute_result"
    }
   ],
   "source": [
    "## Miramos el tipo de las variables\n",
    "data_cat.dtypes"
   ]
  },
  {
   "cell_type": "code",
   "execution_count": 147,
   "metadata": {},
   "outputs": [
    {
     "data": {
      "text/html": [
       "<div>\n",
       "<style scoped>\n",
       "    .dataframe tbody tr th:only-of-type {\n",
       "        vertical-align: middle;\n",
       "    }\n",
       "\n",
       "    .dataframe tbody tr th {\n",
       "        vertical-align: top;\n",
       "    }\n",
       "\n",
       "    .dataframe thead th {\n",
       "        text-align: right;\n",
       "    }\n",
       "</style>\n",
       "<table border=\"1\" class=\"dataframe\">\n",
       "  <thead>\n",
       "    <tr style=\"text-align: right;\">\n",
       "      <th></th>\n",
       "      <th>SeniorCitizen</th>\n",
       "      <th>Partner</th>\n",
       "      <th>Dependents</th>\n",
       "      <th>tenure</th>\n",
       "      <th>PhoneService</th>\n",
       "      <th>MultipleLines</th>\n",
       "      <th>InternetService</th>\n",
       "      <th>OnlineSecurity</th>\n",
       "      <th>OnlineBackup</th>\n",
       "      <th>DeviceProtection</th>\n",
       "      <th>...</th>\n",
       "      <th>StreamingTV</th>\n",
       "      <th>StreamingMovies</th>\n",
       "      <th>Contract</th>\n",
       "      <th>PaperlessBilling</th>\n",
       "      <th>PaymentMethod</th>\n",
       "      <th>MonthlyCharges</th>\n",
       "      <th>Churn</th>\n",
       "      <th>tenureGroup</th>\n",
       "      <th>ChurnBin</th>\n",
       "      <th>MonthlyChargesCategory</th>\n",
       "    </tr>\n",
       "  </thead>\n",
       "  <tbody>\n",
       "    <tr>\n",
       "      <td>0</td>\n",
       "      <td>0</td>\n",
       "      <td>Yes</td>\n",
       "      <td>No</td>\n",
       "      <td>1</td>\n",
       "      <td>No</td>\n",
       "      <td>No phone service</td>\n",
       "      <td>DSL</td>\n",
       "      <td>No</td>\n",
       "      <td>Yes</td>\n",
       "      <td>No</td>\n",
       "      <td>...</td>\n",
       "      <td>No</td>\n",
       "      <td>No</td>\n",
       "      <td>Month-to-month</td>\n",
       "      <td>Yes</td>\n",
       "      <td>Electronic check</td>\n",
       "      <td>29.85</td>\n",
       "      <td>No</td>\n",
       "      <td>1</td>\n",
       "      <td>0</td>\n",
       "      <td>(28.3, 38.35]</td>\n",
       "    </tr>\n",
       "    <tr>\n",
       "      <td>1</td>\n",
       "      <td>0</td>\n",
       "      <td>No</td>\n",
       "      <td>No</td>\n",
       "      <td>34</td>\n",
       "      <td>Yes</td>\n",
       "      <td>No</td>\n",
       "      <td>DSL</td>\n",
       "      <td>Yes</td>\n",
       "      <td>No</td>\n",
       "      <td>Yes</td>\n",
       "      <td>...</td>\n",
       "      <td>No</td>\n",
       "      <td>No</td>\n",
       "      <td>One year</td>\n",
       "      <td>No</td>\n",
       "      <td>Mailed check</td>\n",
       "      <td>56.95</td>\n",
       "      <td>No</td>\n",
       "      <td>3</td>\n",
       "      <td>0</td>\n",
       "      <td>(48.4, 58.45]</td>\n",
       "    </tr>\n",
       "    <tr>\n",
       "      <td>2</td>\n",
       "      <td>0</td>\n",
       "      <td>No</td>\n",
       "      <td>No</td>\n",
       "      <td>2</td>\n",
       "      <td>Yes</td>\n",
       "      <td>No</td>\n",
       "      <td>DSL</td>\n",
       "      <td>Yes</td>\n",
       "      <td>Yes</td>\n",
       "      <td>No</td>\n",
       "      <td>...</td>\n",
       "      <td>No</td>\n",
       "      <td>No</td>\n",
       "      <td>Month-to-month</td>\n",
       "      <td>Yes</td>\n",
       "      <td>Mailed check</td>\n",
       "      <td>53.85</td>\n",
       "      <td>Yes</td>\n",
       "      <td>1</td>\n",
       "      <td>1</td>\n",
       "      <td>(48.4, 58.45]</td>\n",
       "    </tr>\n",
       "    <tr>\n",
       "      <td>3</td>\n",
       "      <td>0</td>\n",
       "      <td>No</td>\n",
       "      <td>No</td>\n",
       "      <td>45</td>\n",
       "      <td>No</td>\n",
       "      <td>No phone service</td>\n",
       "      <td>DSL</td>\n",
       "      <td>Yes</td>\n",
       "      <td>No</td>\n",
       "      <td>Yes</td>\n",
       "      <td>...</td>\n",
       "      <td>No</td>\n",
       "      <td>No</td>\n",
       "      <td>One year</td>\n",
       "      <td>No</td>\n",
       "      <td>Bank transfer (automatic)</td>\n",
       "      <td>42.30</td>\n",
       "      <td>No</td>\n",
       "      <td>4</td>\n",
       "      <td>0</td>\n",
       "      <td>(38.35, 48.4]</td>\n",
       "    </tr>\n",
       "    <tr>\n",
       "      <td>4</td>\n",
       "      <td>0</td>\n",
       "      <td>No</td>\n",
       "      <td>No</td>\n",
       "      <td>2</td>\n",
       "      <td>Yes</td>\n",
       "      <td>No</td>\n",
       "      <td>Fiber optic</td>\n",
       "      <td>No</td>\n",
       "      <td>No</td>\n",
       "      <td>No</td>\n",
       "      <td>...</td>\n",
       "      <td>No</td>\n",
       "      <td>No</td>\n",
       "      <td>Month-to-month</td>\n",
       "      <td>Yes</td>\n",
       "      <td>Electronic check</td>\n",
       "      <td>70.70</td>\n",
       "      <td>Yes</td>\n",
       "      <td>1</td>\n",
       "      <td>1</td>\n",
       "      <td>(68.5, 78.55]</td>\n",
       "    </tr>\n",
       "  </tbody>\n",
       "</table>\n",
       "<p>5 rows × 21 columns</p>\n",
       "</div>"
      ],
      "text/plain": [
       "   SeniorCitizen Partner Dependents  tenure PhoneService     MultipleLines  \\\n",
       "0              0     Yes         No       1           No  No phone service   \n",
       "1              0      No         No      34          Yes                No   \n",
       "2              0      No         No       2          Yes                No   \n",
       "3              0      No         No      45           No  No phone service   \n",
       "4              0      No         No       2          Yes                No   \n",
       "\n",
       "  InternetService OnlineSecurity OnlineBackup DeviceProtection  ...  \\\n",
       "0             DSL             No          Yes               No  ...   \n",
       "1             DSL            Yes           No              Yes  ...   \n",
       "2             DSL            Yes          Yes               No  ...   \n",
       "3             DSL            Yes           No              Yes  ...   \n",
       "4     Fiber optic             No           No               No  ...   \n",
       "\n",
       "  StreamingTV StreamingMovies        Contract PaperlessBilling  \\\n",
       "0          No              No  Month-to-month              Yes   \n",
       "1          No              No        One year               No   \n",
       "2          No              No  Month-to-month              Yes   \n",
       "3          No              No        One year               No   \n",
       "4          No              No  Month-to-month              Yes   \n",
       "\n",
       "               PaymentMethod MonthlyCharges  Churn tenureGroup ChurnBin  \\\n",
       "0           Electronic check          29.85     No           1        0   \n",
       "1               Mailed check          56.95     No           3        0   \n",
       "2               Mailed check          53.85    Yes           1        1   \n",
       "3  Bank transfer (automatic)          42.30     No           4        0   \n",
       "4           Electronic check          70.70    Yes           1        1   \n",
       "\n",
       "   MonthlyChargesCategory  \n",
       "0           (28.3, 38.35]  \n",
       "1           (48.4, 58.45]  \n",
       "2           (48.4, 58.45]  \n",
       "3           (38.35, 48.4]  \n",
       "4           (68.5, 78.55]  \n",
       "\n",
       "[5 rows x 21 columns]"
      ]
     },
     "execution_count": 147,
     "metadata": {},
     "output_type": "execute_result"
    }
   ],
   "source": [
    "data_cat.head()"
   ]
  },
  {
   "cell_type": "code",
   "execution_count": 148,
   "metadata": {},
   "outputs": [],
   "source": [
    "## Convertimos variables categóricas a numéricas\n",
    "\n",
    "data_cat[cat_columns]= data_cat[cat_columns].apply(lambda x: x.cat.codes)"
   ]
  },
  {
   "cell_type": "code",
   "execution_count": 149,
   "metadata": {},
   "outputs": [
    {
     "data": {
      "text/html": [
       "<div>\n",
       "<style scoped>\n",
       "    .dataframe tbody tr th:only-of-type {\n",
       "        vertical-align: middle;\n",
       "    }\n",
       "\n",
       "    .dataframe tbody tr th {\n",
       "        vertical-align: top;\n",
       "    }\n",
       "\n",
       "    .dataframe thead th {\n",
       "        text-align: right;\n",
       "    }\n",
       "</style>\n",
       "<table border=\"1\" class=\"dataframe\">\n",
       "  <thead>\n",
       "    <tr style=\"text-align: right;\">\n",
       "      <th></th>\n",
       "      <th>SeniorCitizen</th>\n",
       "      <th>Partner</th>\n",
       "      <th>Dependents</th>\n",
       "      <th>tenure</th>\n",
       "      <th>PhoneService</th>\n",
       "      <th>MultipleLines</th>\n",
       "      <th>InternetService</th>\n",
       "      <th>OnlineSecurity</th>\n",
       "      <th>OnlineBackup</th>\n",
       "      <th>DeviceProtection</th>\n",
       "      <th>...</th>\n",
       "      <th>StreamingTV</th>\n",
       "      <th>StreamingMovies</th>\n",
       "      <th>Contract</th>\n",
       "      <th>PaperlessBilling</th>\n",
       "      <th>PaymentMethod</th>\n",
       "      <th>MonthlyCharges</th>\n",
       "      <th>Churn</th>\n",
       "      <th>tenureGroup</th>\n",
       "      <th>ChurnBin</th>\n",
       "      <th>MonthlyChargesCategory</th>\n",
       "    </tr>\n",
       "  </thead>\n",
       "  <tbody>\n",
       "    <tr>\n",
       "      <td>0</td>\n",
       "      <td>0</td>\n",
       "      <td>1</td>\n",
       "      <td>0</td>\n",
       "      <td>1</td>\n",
       "      <td>0</td>\n",
       "      <td>1</td>\n",
       "      <td>0</td>\n",
       "      <td>0</td>\n",
       "      <td>2</td>\n",
       "      <td>0</td>\n",
       "      <td>...</td>\n",
       "      <td>0</td>\n",
       "      <td>0</td>\n",
       "      <td>0</td>\n",
       "      <td>1</td>\n",
       "      <td>2</td>\n",
       "      <td>29.85</td>\n",
       "      <td>0</td>\n",
       "      <td>0</td>\n",
       "      <td>0</td>\n",
       "      <td>1</td>\n",
       "    </tr>\n",
       "    <tr>\n",
       "      <td>1</td>\n",
       "      <td>0</td>\n",
       "      <td>0</td>\n",
       "      <td>0</td>\n",
       "      <td>34</td>\n",
       "      <td>1</td>\n",
       "      <td>0</td>\n",
       "      <td>0</td>\n",
       "      <td>2</td>\n",
       "      <td>0</td>\n",
       "      <td>2</td>\n",
       "      <td>...</td>\n",
       "      <td>0</td>\n",
       "      <td>0</td>\n",
       "      <td>1</td>\n",
       "      <td>0</td>\n",
       "      <td>3</td>\n",
       "      <td>56.95</td>\n",
       "      <td>0</td>\n",
       "      <td>2</td>\n",
       "      <td>0</td>\n",
       "      <td>3</td>\n",
       "    </tr>\n",
       "    <tr>\n",
       "      <td>2</td>\n",
       "      <td>0</td>\n",
       "      <td>0</td>\n",
       "      <td>0</td>\n",
       "      <td>2</td>\n",
       "      <td>1</td>\n",
       "      <td>0</td>\n",
       "      <td>0</td>\n",
       "      <td>2</td>\n",
       "      <td>2</td>\n",
       "      <td>0</td>\n",
       "      <td>...</td>\n",
       "      <td>0</td>\n",
       "      <td>0</td>\n",
       "      <td>0</td>\n",
       "      <td>1</td>\n",
       "      <td>3</td>\n",
       "      <td>53.85</td>\n",
       "      <td>1</td>\n",
       "      <td>0</td>\n",
       "      <td>1</td>\n",
       "      <td>3</td>\n",
       "    </tr>\n",
       "    <tr>\n",
       "      <td>3</td>\n",
       "      <td>0</td>\n",
       "      <td>0</td>\n",
       "      <td>0</td>\n",
       "      <td>45</td>\n",
       "      <td>0</td>\n",
       "      <td>1</td>\n",
       "      <td>0</td>\n",
       "      <td>2</td>\n",
       "      <td>0</td>\n",
       "      <td>2</td>\n",
       "      <td>...</td>\n",
       "      <td>0</td>\n",
       "      <td>0</td>\n",
       "      <td>1</td>\n",
       "      <td>0</td>\n",
       "      <td>0</td>\n",
       "      <td>42.30</td>\n",
       "      <td>0</td>\n",
       "      <td>3</td>\n",
       "      <td>0</td>\n",
       "      <td>2</td>\n",
       "    </tr>\n",
       "    <tr>\n",
       "      <td>4</td>\n",
       "      <td>0</td>\n",
       "      <td>0</td>\n",
       "      <td>0</td>\n",
       "      <td>2</td>\n",
       "      <td>1</td>\n",
       "      <td>0</td>\n",
       "      <td>1</td>\n",
       "      <td>0</td>\n",
       "      <td>0</td>\n",
       "      <td>0</td>\n",
       "      <td>...</td>\n",
       "      <td>0</td>\n",
       "      <td>0</td>\n",
       "      <td>0</td>\n",
       "      <td>1</td>\n",
       "      <td>2</td>\n",
       "      <td>70.70</td>\n",
       "      <td>1</td>\n",
       "      <td>0</td>\n",
       "      <td>1</td>\n",
       "      <td>5</td>\n",
       "    </tr>\n",
       "    <tr>\n",
       "      <td>5</td>\n",
       "      <td>0</td>\n",
       "      <td>0</td>\n",
       "      <td>0</td>\n",
       "      <td>8</td>\n",
       "      <td>1</td>\n",
       "      <td>2</td>\n",
       "      <td>1</td>\n",
       "      <td>0</td>\n",
       "      <td>0</td>\n",
       "      <td>2</td>\n",
       "      <td>...</td>\n",
       "      <td>2</td>\n",
       "      <td>2</td>\n",
       "      <td>0</td>\n",
       "      <td>1</td>\n",
       "      <td>2</td>\n",
       "      <td>99.65</td>\n",
       "      <td>1</td>\n",
       "      <td>0</td>\n",
       "      <td>1</td>\n",
       "      <td>8</td>\n",
       "    </tr>\n",
       "    <tr>\n",
       "      <td>6</td>\n",
       "      <td>0</td>\n",
       "      <td>0</td>\n",
       "      <td>1</td>\n",
       "      <td>22</td>\n",
       "      <td>1</td>\n",
       "      <td>2</td>\n",
       "      <td>1</td>\n",
       "      <td>0</td>\n",
       "      <td>2</td>\n",
       "      <td>0</td>\n",
       "      <td>...</td>\n",
       "      <td>2</td>\n",
       "      <td>0</td>\n",
       "      <td>0</td>\n",
       "      <td>1</td>\n",
       "      <td>1</td>\n",
       "      <td>89.10</td>\n",
       "      <td>0</td>\n",
       "      <td>1</td>\n",
       "      <td>0</td>\n",
       "      <td>7</td>\n",
       "    </tr>\n",
       "    <tr>\n",
       "      <td>7</td>\n",
       "      <td>0</td>\n",
       "      <td>0</td>\n",
       "      <td>0</td>\n",
       "      <td>10</td>\n",
       "      <td>0</td>\n",
       "      <td>1</td>\n",
       "      <td>0</td>\n",
       "      <td>2</td>\n",
       "      <td>0</td>\n",
       "      <td>0</td>\n",
       "      <td>...</td>\n",
       "      <td>0</td>\n",
       "      <td>0</td>\n",
       "      <td>0</td>\n",
       "      <td>0</td>\n",
       "      <td>3</td>\n",
       "      <td>29.75</td>\n",
       "      <td>0</td>\n",
       "      <td>0</td>\n",
       "      <td>0</td>\n",
       "      <td>1</td>\n",
       "    </tr>\n",
       "    <tr>\n",
       "      <td>8</td>\n",
       "      <td>0</td>\n",
       "      <td>1</td>\n",
       "      <td>0</td>\n",
       "      <td>28</td>\n",
       "      <td>1</td>\n",
       "      <td>2</td>\n",
       "      <td>1</td>\n",
       "      <td>0</td>\n",
       "      <td>0</td>\n",
       "      <td>2</td>\n",
       "      <td>...</td>\n",
       "      <td>2</td>\n",
       "      <td>2</td>\n",
       "      <td>0</td>\n",
       "      <td>1</td>\n",
       "      <td>2</td>\n",
       "      <td>104.80</td>\n",
       "      <td>1</td>\n",
       "      <td>2</td>\n",
       "      <td>1</td>\n",
       "      <td>8</td>\n",
       "    </tr>\n",
       "    <tr>\n",
       "      <td>9</td>\n",
       "      <td>0</td>\n",
       "      <td>0</td>\n",
       "      <td>1</td>\n",
       "      <td>62</td>\n",
       "      <td>1</td>\n",
       "      <td>0</td>\n",
       "      <td>0</td>\n",
       "      <td>2</td>\n",
       "      <td>2</td>\n",
       "      <td>0</td>\n",
       "      <td>...</td>\n",
       "      <td>0</td>\n",
       "      <td>0</td>\n",
       "      <td>1</td>\n",
       "      <td>0</td>\n",
       "      <td>0</td>\n",
       "      <td>56.15</td>\n",
       "      <td>0</td>\n",
       "      <td>5</td>\n",
       "      <td>0</td>\n",
       "      <td>3</td>\n",
       "    </tr>\n",
       "  </tbody>\n",
       "</table>\n",
       "<p>10 rows × 21 columns</p>\n",
       "</div>"
      ],
      "text/plain": [
       "   SeniorCitizen  Partner  Dependents  tenure  PhoneService  MultipleLines  \\\n",
       "0              0        1           0       1             0              1   \n",
       "1              0        0           0      34             1              0   \n",
       "2              0        0           0       2             1              0   \n",
       "3              0        0           0      45             0              1   \n",
       "4              0        0           0       2             1              0   \n",
       "5              0        0           0       8             1              2   \n",
       "6              0        0           1      22             1              2   \n",
       "7              0        0           0      10             0              1   \n",
       "8              0        1           0      28             1              2   \n",
       "9              0        0           1      62             1              0   \n",
       "\n",
       "   InternetService  OnlineSecurity  OnlineBackup  DeviceProtection  ...  \\\n",
       "0                0               0             2                 0  ...   \n",
       "1                0               2             0                 2  ...   \n",
       "2                0               2             2                 0  ...   \n",
       "3                0               2             0                 2  ...   \n",
       "4                1               0             0                 0  ...   \n",
       "5                1               0             0                 2  ...   \n",
       "6                1               0             2                 0  ...   \n",
       "7                0               2             0                 0  ...   \n",
       "8                1               0             0                 2  ...   \n",
       "9                0               2             2                 0  ...   \n",
       "\n",
       "   StreamingTV  StreamingMovies  Contract  PaperlessBilling  PaymentMethod  \\\n",
       "0            0                0         0                 1              2   \n",
       "1            0                0         1                 0              3   \n",
       "2            0                0         0                 1              3   \n",
       "3            0                0         1                 0              0   \n",
       "4            0                0         0                 1              2   \n",
       "5            2                2         0                 1              2   \n",
       "6            2                0         0                 1              1   \n",
       "7            0                0         0                 0              3   \n",
       "8            2                2         0                 1              2   \n",
       "9            0                0         1                 0              0   \n",
       "\n",
       "   MonthlyCharges  Churn  tenureGroup  ChurnBin  MonthlyChargesCategory  \n",
       "0           29.85      0            0         0                       1  \n",
       "1           56.95      0            2         0                       3  \n",
       "2           53.85      1            0         1                       3  \n",
       "3           42.30      0            3         0                       2  \n",
       "4           70.70      1            0         1                       5  \n",
       "5           99.65      1            0         1                       8  \n",
       "6           89.10      0            1         0                       7  \n",
       "7           29.75      0            0         0                       1  \n",
       "8          104.80      1            2         1                       8  \n",
       "9           56.15      0            5         0                       3  \n",
       "\n",
       "[10 rows x 21 columns]"
      ]
     },
     "execution_count": 149,
     "metadata": {},
     "output_type": "execute_result"
    }
   ],
   "source": [
    "## Observamos la base de datos\n",
    "\n",
    "data_cat.head(10)"
   ]
  },
  {
   "cell_type": "markdown",
   "metadata": {},
   "source": [
    "En la base de datos 'data_cat' se transformaron también las columnas tenureGroup y MonthlyChargesCategory, creadas anteriormente. En este caso, los valores de la columna tenureGroup se les asignó un número  del 0 al 5, de acuerdo al tiempo de permanencia así:\n",
    "\n",
    "- Menos de un año = 0\n",
    "- Entre 1 y 2 años = 1\n",
    "- Entre 2 y 3 años = 2\n",
    "- Entre 3 y 4 añoss = 3\n",
    "- Entre 4 y 5 años = 4\n",
    "- Entre 5 y 6 años = 5\n",
    "\n",
    "Para los Cargos mensuales, se asignó un número así:\n",
    "\n",
    "- Entre USD 18.15 - 28.3 = 0\n",
    "- Entre USD 28.3 - 38.35 = 1\n",
    "- Entre USD 38.35 - 48.4 = 2\n",
    "- Entre USD 48.4 - 58.45 = 3\n",
    "- Entre USD 58.45 - 68.5 = 4\n",
    "- Entre USD 68.5 - 78.55 = 5\n",
    "- Entre USD 78.55 - 88.6 = 6\n",
    "- Entre USD 88.6 - 98.65 = 7\n",
    "- Entre USD 98.65 - 108.7 = 7\n",
    "- Entre USD 108.7 - 118.75 = 8"
   ]
  },
  {
   "cell_type": "markdown",
   "metadata": {},
   "source": [
    "Teniendo en cuenta lo anterios, procedemos a eliminar de nuestra base de datos las columnas '*Tenure*' y '*MonthlyCharges*', además, ya no necesitamos la columna '*ChurnBin*'."
   ]
  },
  {
   "cell_type": "code",
   "execution_count": 150,
   "metadata": {},
   "outputs": [
    {
     "data": {
      "text/html": [
       "<div>\n",
       "<style scoped>\n",
       "    .dataframe tbody tr th:only-of-type {\n",
       "        vertical-align: middle;\n",
       "    }\n",
       "\n",
       "    .dataframe tbody tr th {\n",
       "        vertical-align: top;\n",
       "    }\n",
       "\n",
       "    .dataframe thead th {\n",
       "        text-align: right;\n",
       "    }\n",
       "</style>\n",
       "<table border=\"1\" class=\"dataframe\">\n",
       "  <thead>\n",
       "    <tr style=\"text-align: right;\">\n",
       "      <th></th>\n",
       "      <th>SeniorCitizen</th>\n",
       "      <th>Partner</th>\n",
       "      <th>Dependents</th>\n",
       "      <th>PhoneService</th>\n",
       "      <th>MultipleLines</th>\n",
       "      <th>InternetService</th>\n",
       "      <th>OnlineSecurity</th>\n",
       "      <th>OnlineBackup</th>\n",
       "      <th>DeviceProtection</th>\n",
       "      <th>TechSupport</th>\n",
       "      <th>StreamingTV</th>\n",
       "      <th>StreamingMovies</th>\n",
       "      <th>Contract</th>\n",
       "      <th>PaperlessBilling</th>\n",
       "      <th>PaymentMethod</th>\n",
       "      <th>Churn</th>\n",
       "      <th>tenureGroup</th>\n",
       "      <th>MonthlyChargesCategory</th>\n",
       "    </tr>\n",
       "  </thead>\n",
       "  <tbody>\n",
       "    <tr>\n",
       "      <td>0</td>\n",
       "      <td>0</td>\n",
       "      <td>1</td>\n",
       "      <td>0</td>\n",
       "      <td>0</td>\n",
       "      <td>1</td>\n",
       "      <td>0</td>\n",
       "      <td>0</td>\n",
       "      <td>2</td>\n",
       "      <td>0</td>\n",
       "      <td>0</td>\n",
       "      <td>0</td>\n",
       "      <td>0</td>\n",
       "      <td>0</td>\n",
       "      <td>1</td>\n",
       "      <td>2</td>\n",
       "      <td>0</td>\n",
       "      <td>0</td>\n",
       "      <td>1</td>\n",
       "    </tr>\n",
       "    <tr>\n",
       "      <td>1</td>\n",
       "      <td>0</td>\n",
       "      <td>0</td>\n",
       "      <td>0</td>\n",
       "      <td>1</td>\n",
       "      <td>0</td>\n",
       "      <td>0</td>\n",
       "      <td>2</td>\n",
       "      <td>0</td>\n",
       "      <td>2</td>\n",
       "      <td>0</td>\n",
       "      <td>0</td>\n",
       "      <td>0</td>\n",
       "      <td>1</td>\n",
       "      <td>0</td>\n",
       "      <td>3</td>\n",
       "      <td>0</td>\n",
       "      <td>2</td>\n",
       "      <td>3</td>\n",
       "    </tr>\n",
       "    <tr>\n",
       "      <td>2</td>\n",
       "      <td>0</td>\n",
       "      <td>0</td>\n",
       "      <td>0</td>\n",
       "      <td>1</td>\n",
       "      <td>0</td>\n",
       "      <td>0</td>\n",
       "      <td>2</td>\n",
       "      <td>2</td>\n",
       "      <td>0</td>\n",
       "      <td>0</td>\n",
       "      <td>0</td>\n",
       "      <td>0</td>\n",
       "      <td>0</td>\n",
       "      <td>1</td>\n",
       "      <td>3</td>\n",
       "      <td>1</td>\n",
       "      <td>0</td>\n",
       "      <td>3</td>\n",
       "    </tr>\n",
       "    <tr>\n",
       "      <td>3</td>\n",
       "      <td>0</td>\n",
       "      <td>0</td>\n",
       "      <td>0</td>\n",
       "      <td>0</td>\n",
       "      <td>1</td>\n",
       "      <td>0</td>\n",
       "      <td>2</td>\n",
       "      <td>0</td>\n",
       "      <td>2</td>\n",
       "      <td>2</td>\n",
       "      <td>0</td>\n",
       "      <td>0</td>\n",
       "      <td>1</td>\n",
       "      <td>0</td>\n",
       "      <td>0</td>\n",
       "      <td>0</td>\n",
       "      <td>3</td>\n",
       "      <td>2</td>\n",
       "    </tr>\n",
       "    <tr>\n",
       "      <td>4</td>\n",
       "      <td>0</td>\n",
       "      <td>0</td>\n",
       "      <td>0</td>\n",
       "      <td>1</td>\n",
       "      <td>0</td>\n",
       "      <td>1</td>\n",
       "      <td>0</td>\n",
       "      <td>0</td>\n",
       "      <td>0</td>\n",
       "      <td>0</td>\n",
       "      <td>0</td>\n",
       "      <td>0</td>\n",
       "      <td>0</td>\n",
       "      <td>1</td>\n",
       "      <td>2</td>\n",
       "      <td>1</td>\n",
       "      <td>0</td>\n",
       "      <td>5</td>\n",
       "    </tr>\n",
       "  </tbody>\n",
       "</table>\n",
       "</div>"
      ],
      "text/plain": [
       "   SeniorCitizen  Partner  Dependents  PhoneService  MultipleLines  \\\n",
       "0              0        1           0             0              1   \n",
       "1              0        0           0             1              0   \n",
       "2              0        0           0             1              0   \n",
       "3              0        0           0             0              1   \n",
       "4              0        0           0             1              0   \n",
       "\n",
       "   InternetService  OnlineSecurity  OnlineBackup  DeviceProtection  \\\n",
       "0                0               0             2                 0   \n",
       "1                0               2             0                 2   \n",
       "2                0               2             2                 0   \n",
       "3                0               2             0                 2   \n",
       "4                1               0             0                 0   \n",
       "\n",
       "   TechSupport  StreamingTV  StreamingMovies  Contract  PaperlessBilling  \\\n",
       "0            0            0                0         0                 1   \n",
       "1            0            0                0         1                 0   \n",
       "2            0            0                0         0                 1   \n",
       "3            2            0                0         1                 0   \n",
       "4            0            0                0         0                 1   \n",
       "\n",
       "   PaymentMethod  Churn  tenureGroup  MonthlyChargesCategory  \n",
       "0              2      0            0                       1  \n",
       "1              3      0            2                       3  \n",
       "2              3      1            0                       3  \n",
       "3              0      0            3                       2  \n",
       "4              2      1            0                       5  "
      ]
     },
     "execution_count": 150,
     "metadata": {},
     "output_type": "execute_result"
    }
   ],
   "source": [
    "data_cat = data_cat.drop(['tenure', 'MonthlyCharges', 'ChurnBin'], axis=1)\n",
    "data_cat.head()"
   ]
  },
  {
   "cell_type": "markdown",
   "metadata": {},
   "source": [
    "### Partición Base de Datos y K-Means"
   ]
  },
  {
   "cell_type": "markdown",
   "metadata": {},
   "source": [
    "A continuación, procedemos a dividir la base de datos en un 80% para el entrenamiento y 20% de prueba. Para el objetivo del notebook, se aplicará el método de K-Means sobre los datos de entrenamiento para agrupar a los Usuarios, luego se analizará el comportamiento de las variables en cada grupo, respecto al abandono. "
   ]
  },
  {
   "cell_type": "markdown",
   "metadata": {},
   "source": [
    "Separamos la columna objetuvo '*Churn*' de la base de datos."
   ]
  },
  {
   "cell_type": "code",
   "execution_count": 190,
   "metadata": {},
   "outputs": [],
   "source": [
    "data_feat = data_cat.drop(['Churn'], axis=1)\n",
    "target = data_cat.loc[:, ['Churn']]"
   ]
  },
  {
   "cell_type": "markdown",
   "metadata": {},
   "source": [
    "Particionamos la base de datos en proporción 80-20"
   ]
  },
  {
   "cell_type": "code",
   "execution_count": 191,
   "metadata": {},
   "outputs": [],
   "source": [
    "from sklearn.model_selection import train_test_split\n",
    "\n",
    "X_train, X_test, y_train, y_test = train_test_split(data_feat, target, test_size=0.2, random_state=0)"
   ]
  },
  {
   "cell_type": "markdown",
   "metadata": {},
   "source": [
    "Buscamos el valor de K:"
   ]
  },
  {
   "cell_type": "code",
   "execution_count": 192,
   "metadata": {},
   "outputs": [
    {
     "data": {
      "image/png": "[encoded data removed]",
      "text/plain": [
       "<Figure size 1152x576 with 1 Axes>"
      ]
     },
     "metadata": {
      "needs_background": "light"
     },
     "output_type": "display_data"
    }
   ],
   "source": [
    "from sklearn.cluster import KMeans\n",
    "\n",
    "## Buscamos el valor de K\n",
    "\n",
    "Nc = range(1, 10)\n",
    "kmeans = [KMeans(n_clusters=i) for i in Nc]\n",
    "kmeans\n",
    "score = [kmeans[i].fit(X_train).score(X_train) for i in range(len(kmeans))]\n",
    "score\n",
    "\n",
    "plt.figure(figsize=(16, 8))\n",
    "plt.plot(Nc,score)\n",
    "plt.xlabel('Number of Clusters')\n",
    "plt.ylabel('Score')\n",
    "plt.title('Elbow Curve')\n",
    "plt.show()"
   ]
  },
  {
   "cell_type": "markdown",
   "metadata": {},
   "source": [
    "Tomamos K = 4 y aplicamos K-Means sobre la base de datos de de entrenamiento:"
   ]
  },
  {
   "cell_type": "code",
   "execution_count": 193,
   "metadata": {},
   "outputs": [
    {
     "name": "stdout",
     "output_type": "stream",
     "text": [
      "[[0.2377423  0.36145952 0.18985177 0.99486887 0.92303307 0.81470924\n",
      "  0.40706956 0.55416192 0.58266819 0.40820981 0.85860889 0.8722919\n",
      "  0.11459521 0.74002281 1.72462942 0.81185861 5.82611174]\n",
      " [0.08012487 0.63787721 0.43600416 0.76586889 0.81685744 1.0905307\n",
      "  1.0842872  1.0301769  0.99063476 0.99063476 0.8491155  0.85744017\n",
      "  1.44016649 0.40998959 1.23413111 3.93756504 1.34547347]\n",
      " [0.21485944 0.6854083  0.33400268 0.97925033 1.55756359 0.70749665\n",
      "  1.08567604 1.41900937 1.44846051 1.16064257 1.58634538 1.58366801\n",
      "  1.17871486 0.71285141 1.08835341 4.23761714 7.15863454]\n",
      " [0.06877193 0.32       0.3045614  0.80561404 0.38947368 0.97964912\n",
      "  0.75929825 0.73122807 0.67649123 0.72982456 0.63157895 0.62035088\n",
      "  0.35859649 0.42175439 2.14807018 0.50877193 1.11929825]]\n"
     ]
    }
   ],
   "source": [
    "# k=4\n",
    "\n",
    "kmeans = KMeans(n_clusters=4).fit(X_train)\n",
    "centroids = kmeans.cluster_centers_\n",
    "print(centroids)"
   ]
  },
  {
   "cell_type": "markdown",
   "metadata": {},
   "source": [
    "En este caso tenemos muchas variables, por lo que no es viable realizar una gráfica. Sin embargo, se realizará el análisis de acuerdo con los resultados que se vayan obteniendo:"
   ]
  },
  {
   "cell_type": "code",
   "execution_count": 194,
   "metadata": {},
   "outputs": [
    {
     "name": "stdout",
     "output_type": "stream",
     "text": [
      "(5634,)\n"
     ]
    }
   ],
   "source": [
    "groups = kmeans.labels_\n",
    "print(groups.shape)"
   ]
  },
  {
   "cell_type": "code",
   "execution_count": 200,
   "metadata": {},
   "outputs": [
    {
     "name": "stdout",
     "output_type": "stream",
     "text": [
      "(5634, 1)\n"
     ]
    },
    {
     "data": {
      "text/html": [
       "<div>\n",
       "<style scoped>\n",
       "    .dataframe tbody tr th:only-of-type {\n",
       "        vertical-align: middle;\n",
       "    }\n",
       "\n",
       "    .dataframe tbody tr th {\n",
       "        vertical-align: top;\n",
       "    }\n",
       "\n",
       "    .dataframe thead th {\n",
       "        text-align: right;\n",
       "    }\n",
       "</style>\n",
       "<table border=\"1\" class=\"dataframe\">\n",
       "  <thead>\n",
       "    <tr style=\"text-align: right;\">\n",
       "      <th></th>\n",
       "      <th>labels</th>\n",
       "    </tr>\n",
       "  </thead>\n",
       "  <tbody>\n",
       "    <tr>\n",
       "      <td>0</td>\n",
       "      <td>2</td>\n",
       "    </tr>\n",
       "    <tr>\n",
       "      <td>1</td>\n",
       "      <td>3</td>\n",
       "    </tr>\n",
       "    <tr>\n",
       "      <td>2</td>\n",
       "      <td>1</td>\n",
       "    </tr>\n",
       "    <tr>\n",
       "      <td>3</td>\n",
       "      <td>0</td>\n",
       "    </tr>\n",
       "    <tr>\n",
       "      <td>4</td>\n",
       "      <td>2</td>\n",
       "    </tr>\n",
       "  </tbody>\n",
       "</table>\n",
       "</div>"
      ],
      "text/plain": [
       "   labels\n",
       "0       2\n",
       "1       3\n",
       "2       1\n",
       "3       0\n",
       "4       2"
      ]
     },
     "execution_count": 200,
     "metadata": {},
     "output_type": "execute_result"
    }
   ],
   "source": [
    "## Convertimos a pandas\n",
    "\n",
    "groups = pd.DataFrame(data=groups, columns=['labels'])\n",
    "print(groups.shape)\n",
    "groups.head()"
   ]
  },
  {
   "cell_type": "code",
   "execution_count": 201,
   "metadata": {},
   "outputs": [
    {
     "data": {
      "text/plain": [
       "labels    0\n",
       "dtype: int64"
      ]
     },
     "execution_count": 201,
     "metadata": {},
     "output_type": "execute_result"
    }
   ],
   "source": [
    "groups.isna().sum()"
   ]
  },
  {
   "cell_type": "code",
   "execution_count": 196,
   "metadata": {},
   "outputs": [
    {
     "name": "stdout",
     "output_type": "stream",
     "text": [
      "(5634, 17)\n"
     ]
    },
    {
     "data": {
      "text/html": [
       "<div>\n",
       "<style scoped>\n",
       "    .dataframe tbody tr th:only-of-type {\n",
       "        vertical-align: middle;\n",
       "    }\n",
       "\n",
       "    .dataframe tbody tr th {\n",
       "        vertical-align: top;\n",
       "    }\n",
       "\n",
       "    .dataframe thead th {\n",
       "        text-align: right;\n",
       "    }\n",
       "</style>\n",
       "<table border=\"1\" class=\"dataframe\">\n",
       "  <thead>\n",
       "    <tr style=\"text-align: right;\">\n",
       "      <th></th>\n",
       "      <th>SeniorCitizen</th>\n",
       "      <th>Partner</th>\n",
       "      <th>Dependents</th>\n",
       "      <th>PhoneService</th>\n",
       "      <th>MultipleLines</th>\n",
       "      <th>InternetService</th>\n",
       "      <th>OnlineSecurity</th>\n",
       "      <th>OnlineBackup</th>\n",
       "      <th>DeviceProtection</th>\n",
       "      <th>TechSupport</th>\n",
       "      <th>StreamingTV</th>\n",
       "      <th>StreamingMovies</th>\n",
       "      <th>Contract</th>\n",
       "      <th>PaperlessBilling</th>\n",
       "      <th>PaymentMethod</th>\n",
       "      <th>tenureGroup</th>\n",
       "      <th>MonthlyChargesCategory</th>\n",
       "    </tr>\n",
       "  </thead>\n",
       "  <tbody>\n",
       "    <tr>\n",
       "      <td>2920</td>\n",
       "      <td>0</td>\n",
       "      <td>1</td>\n",
       "      <td>0</td>\n",
       "      <td>1</td>\n",
       "      <td>0</td>\n",
       "      <td>0</td>\n",
       "      <td>2</td>\n",
       "      <td>2</td>\n",
       "      <td>2</td>\n",
       "      <td>2</td>\n",
       "      <td>2</td>\n",
       "      <td>2</td>\n",
       "      <td>2</td>\n",
       "      <td>0</td>\n",
       "      <td>3</td>\n",
       "      <td>5</td>\n",
       "      <td>6</td>\n",
       "    </tr>\n",
       "    <tr>\n",
       "      <td>2966</td>\n",
       "      <td>1</td>\n",
       "      <td>0</td>\n",
       "      <td>0</td>\n",
       "      <td>0</td>\n",
       "      <td>1</td>\n",
       "      <td>0</td>\n",
       "      <td>0</td>\n",
       "      <td>0</td>\n",
       "      <td>0</td>\n",
       "      <td>0</td>\n",
       "      <td>2</td>\n",
       "      <td>2</td>\n",
       "      <td>0</td>\n",
       "      <td>1</td>\n",
       "      <td>2</td>\n",
       "      <td>1</td>\n",
       "      <td>2</td>\n",
       "    </tr>\n",
       "    <tr>\n",
       "      <td>6099</td>\n",
       "      <td>0</td>\n",
       "      <td>1</td>\n",
       "      <td>1</td>\n",
       "      <td>1</td>\n",
       "      <td>2</td>\n",
       "      <td>2</td>\n",
       "      <td>1</td>\n",
       "      <td>1</td>\n",
       "      <td>1</td>\n",
       "      <td>1</td>\n",
       "      <td>1</td>\n",
       "      <td>1</td>\n",
       "      <td>2</td>\n",
       "      <td>0</td>\n",
       "      <td>0</td>\n",
       "      <td>5</td>\n",
       "      <td>0</td>\n",
       "    </tr>\n",
       "    <tr>\n",
       "      <td>5482</td>\n",
       "      <td>0</td>\n",
       "      <td>1</td>\n",
       "      <td>1</td>\n",
       "      <td>1</td>\n",
       "      <td>0</td>\n",
       "      <td>0</td>\n",
       "      <td>0</td>\n",
       "      <td>0</td>\n",
       "      <td>2</td>\n",
       "      <td>2</td>\n",
       "      <td>2</td>\n",
       "      <td>2</td>\n",
       "      <td>1</td>\n",
       "      <td>1</td>\n",
       "      <td>3</td>\n",
       "      <td>2</td>\n",
       "      <td>5</td>\n",
       "    </tr>\n",
       "    <tr>\n",
       "      <td>2012</td>\n",
       "      <td>0</td>\n",
       "      <td>1</td>\n",
       "      <td>0</td>\n",
       "      <td>1</td>\n",
       "      <td>2</td>\n",
       "      <td>1</td>\n",
       "      <td>2</td>\n",
       "      <td>2</td>\n",
       "      <td>2</td>\n",
       "      <td>0</td>\n",
       "      <td>2</td>\n",
       "      <td>0</td>\n",
       "      <td>0</td>\n",
       "      <td>1</td>\n",
       "      <td>2</td>\n",
       "      <td>3</td>\n",
       "      <td>8</td>\n",
       "    </tr>\n",
       "  </tbody>\n",
       "</table>\n",
       "</div>"
      ],
      "text/plain": [
       "      SeniorCitizen  Partner  Dependents  PhoneService  MultipleLines  \\\n",
       "2920              0        1           0             1              0   \n",
       "2966              1        0           0             0              1   \n",
       "6099              0        1           1             1              2   \n",
       "5482              0        1           1             1              0   \n",
       "2012              0        1           0             1              2   \n",
       "\n",
       "      InternetService  OnlineSecurity  OnlineBackup  DeviceProtection  \\\n",
       "2920                0               2             2                 2   \n",
       "2966                0               0             0                 0   \n",
       "6099                2               1             1                 1   \n",
       "5482                0               0             0                 2   \n",
       "2012                1               2             2                 2   \n",
       "\n",
       "      TechSupport  StreamingTV  StreamingMovies  Contract  PaperlessBilling  \\\n",
       "2920            2            2                2         2                 0   \n",
       "2966            0            2                2         0                 1   \n",
       "6099            1            1                1         2                 0   \n",
       "5482            2            2                2         1                 1   \n",
       "2012            0            2                0         0                 1   \n",
       "\n",
       "      PaymentMethod  tenureGroup  MonthlyChargesCategory  \n",
       "2920              3            5                       6  \n",
       "2966              2            1                       2  \n",
       "6099              0            5                       0  \n",
       "5482              3            2                       5  \n",
       "2012              2            3                       8  "
      ]
     },
     "execution_count": 196,
     "metadata": {},
     "output_type": "execute_result"
    }
   ],
   "source": [
    "## Dataframe conjunto de entrenamiento\n",
    "\n",
    "data2 = pd.DataFrame(data=X_train, columns=data_feat.columns)\n",
    "print(data2.shape)\n",
    "data2.head()"
   ]
  },
  {
   "cell_type": "code",
   "execution_count": 214,
   "metadata": {},
   "outputs": [],
   "source": [
    "## Agregamos columna con grupos a los datos\n",
    "data2['labels'] = groups.values\n",
    "data2['Churn'] = pd.DataFrame(data=y_train, columns=target.columns)"
   ]
  },
  {
   "cell_type": "code",
   "execution_count": 215,
   "metadata": {},
   "outputs": [
    {
     "data": {
      "text/html": [
       "<div>\n",
       "<style scoped>\n",
       "    .dataframe tbody tr th:only-of-type {\n",
       "        vertical-align: middle;\n",
       "    }\n",
       "\n",
       "    .dataframe tbody tr th {\n",
       "        vertical-align: top;\n",
       "    }\n",
       "\n",
       "    .dataframe thead th {\n",
       "        text-align: right;\n",
       "    }\n",
       "</style>\n",
       "<table border=\"1\" class=\"dataframe\">\n",
       "  <thead>\n",
       "    <tr style=\"text-align: right;\">\n",
       "      <th></th>\n",
       "      <th>SeniorCitizen</th>\n",
       "      <th>Partner</th>\n",
       "      <th>Dependents</th>\n",
       "      <th>PhoneService</th>\n",
       "      <th>MultipleLines</th>\n",
       "      <th>InternetService</th>\n",
       "      <th>OnlineSecurity</th>\n",
       "      <th>OnlineBackup</th>\n",
       "      <th>DeviceProtection</th>\n",
       "      <th>TechSupport</th>\n",
       "      <th>StreamingTV</th>\n",
       "      <th>StreamingMovies</th>\n",
       "      <th>Contract</th>\n",
       "      <th>PaperlessBilling</th>\n",
       "      <th>PaymentMethod</th>\n",
       "      <th>tenureGroup</th>\n",
       "      <th>MonthlyChargesCategory</th>\n",
       "      <th>labels</th>\n",
       "      <th>Churn</th>\n",
       "    </tr>\n",
       "  </thead>\n",
       "  <tbody>\n",
       "    <tr>\n",
       "      <td>2920</td>\n",
       "      <td>0</td>\n",
       "      <td>1</td>\n",
       "      <td>0</td>\n",
       "      <td>1</td>\n",
       "      <td>0</td>\n",
       "      <td>0</td>\n",
       "      <td>2</td>\n",
       "      <td>2</td>\n",
       "      <td>2</td>\n",
       "      <td>2</td>\n",
       "      <td>2</td>\n",
       "      <td>2</td>\n",
       "      <td>2</td>\n",
       "      <td>0</td>\n",
       "      <td>3</td>\n",
       "      <td>5</td>\n",
       "      <td>6</td>\n",
       "      <td>2</td>\n",
       "      <td>0</td>\n",
       "    </tr>\n",
       "    <tr>\n",
       "      <td>2966</td>\n",
       "      <td>1</td>\n",
       "      <td>0</td>\n",
       "      <td>0</td>\n",
       "      <td>0</td>\n",
       "      <td>1</td>\n",
       "      <td>0</td>\n",
       "      <td>0</td>\n",
       "      <td>0</td>\n",
       "      <td>0</td>\n",
       "      <td>0</td>\n",
       "      <td>2</td>\n",
       "      <td>2</td>\n",
       "      <td>0</td>\n",
       "      <td>1</td>\n",
       "      <td>2</td>\n",
       "      <td>1</td>\n",
       "      <td>2</td>\n",
       "      <td>3</td>\n",
       "      <td>0</td>\n",
       "    </tr>\n",
       "    <tr>\n",
       "      <td>6099</td>\n",
       "      <td>0</td>\n",
       "      <td>1</td>\n",
       "      <td>1</td>\n",
       "      <td>1</td>\n",
       "      <td>2</td>\n",
       "      <td>2</td>\n",
       "      <td>1</td>\n",
       "      <td>1</td>\n",
       "      <td>1</td>\n",
       "      <td>1</td>\n",
       "      <td>1</td>\n",
       "      <td>1</td>\n",
       "      <td>2</td>\n",
       "      <td>0</td>\n",
       "      <td>0</td>\n",
       "      <td>5</td>\n",
       "      <td>0</td>\n",
       "      <td>1</td>\n",
       "      <td>0</td>\n",
       "    </tr>\n",
       "    <tr>\n",
       "      <td>5482</td>\n",
       "      <td>0</td>\n",
       "      <td>1</td>\n",
       "      <td>1</td>\n",
       "      <td>1</td>\n",
       "      <td>0</td>\n",
       "      <td>0</td>\n",
       "      <td>0</td>\n",
       "      <td>0</td>\n",
       "      <td>2</td>\n",
       "      <td>2</td>\n",
       "      <td>2</td>\n",
       "      <td>2</td>\n",
       "      <td>1</td>\n",
       "      <td>1</td>\n",
       "      <td>3</td>\n",
       "      <td>2</td>\n",
       "      <td>5</td>\n",
       "      <td>0</td>\n",
       "      <td>1</td>\n",
       "    </tr>\n",
       "    <tr>\n",
       "      <td>2012</td>\n",
       "      <td>0</td>\n",
       "      <td>1</td>\n",
       "      <td>0</td>\n",
       "      <td>1</td>\n",
       "      <td>2</td>\n",
       "      <td>1</td>\n",
       "      <td>2</td>\n",
       "      <td>2</td>\n",
       "      <td>2</td>\n",
       "      <td>0</td>\n",
       "      <td>2</td>\n",
       "      <td>0</td>\n",
       "      <td>0</td>\n",
       "      <td>1</td>\n",
       "      <td>2</td>\n",
       "      <td>3</td>\n",
       "      <td>8</td>\n",
       "      <td>2</td>\n",
       "      <td>1</td>\n",
       "    </tr>\n",
       "  </tbody>\n",
       "</table>\n",
       "</div>"
      ],
      "text/plain": [
       "      SeniorCitizen  Partner  Dependents  PhoneService  MultipleLines  \\\n",
       "2920              0        1           0             1              0   \n",
       "2966              1        0           0             0              1   \n",
       "6099              0        1           1             1              2   \n",
       "5482              0        1           1             1              0   \n",
       "2012              0        1           0             1              2   \n",
       "\n",
       "      InternetService  OnlineSecurity  OnlineBackup  DeviceProtection  \\\n",
       "2920                0               2             2                 2   \n",
       "2966                0               0             0                 0   \n",
       "6099                2               1             1                 1   \n",
       "5482                0               0             0                 2   \n",
       "2012                1               2             2                 2   \n",
       "\n",
       "      TechSupport  StreamingTV  StreamingMovies  Contract  PaperlessBilling  \\\n",
       "2920            2            2                2         2                 0   \n",
       "2966            0            2                2         0                 1   \n",
       "6099            1            1                1         2                 0   \n",
       "5482            2            2                2         1                 1   \n",
       "2012            0            2                0         0                 1   \n",
       "\n",
       "      PaymentMethod  tenureGroup  MonthlyChargesCategory  labels  Churn  \n",
       "2920              3            5                       6       2      0  \n",
       "2966              2            1                       2       3      0  \n",
       "6099              0            5                       0       1      0  \n",
       "5482              3            2                       5       0      1  \n",
       "2012              2            3                       8       2      1  "
      ]
     },
     "execution_count": 215,
     "metadata": {},
     "output_type": "execute_result"
    }
   ],
   "source": [
    "data2.head()"
   ]
  },
  {
   "cell_type": "code",
   "execution_count": 216,
   "metadata": {},
   "outputs": [
    {
     "name": "stdout",
     "output_type": "stream",
     "text": [
      "<class 'pandas.core.frame.DataFrame'>\n",
      "Int64Index: 5634 entries, 2920 to 2732\n",
      "Data columns (total 19 columns):\n",
      "SeniorCitizen             5634 non-null int64\n",
      "Partner                   5634 non-null int8\n",
      "Dependents                5634 non-null int8\n",
      "PhoneService              5634 non-null int8\n",
      "MultipleLines             5634 non-null int8\n",
      "InternetService           5634 non-null int8\n",
      "OnlineSecurity            5634 non-null int8\n",
      "OnlineBackup              5634 non-null int8\n",
      "DeviceProtection          5634 non-null int8\n",
      "TechSupport               5634 non-null int8\n",
      "StreamingTV               5634 non-null int8\n",
      "StreamingMovies           5634 non-null int8\n",
      "Contract                  5634 non-null int8\n",
      "PaperlessBilling          5634 non-null int8\n",
      "PaymentMethod             5634 non-null int8\n",
      "tenureGroup               5634 non-null int8\n",
      "MonthlyChargesCategory    5634 non-null int8\n",
      "labels                    5634 non-null int32\n",
      "Churn                     5634 non-null int8\n",
      "dtypes: int32(1), int64(1), int8(17)\n",
      "memory usage: 363.6 KB\n"
     ]
    }
   ],
   "source": [
    "data2.info()"
   ]
  },
  {
   "cell_type": "code",
   "execution_count": 209,
   "metadata": {},
   "outputs": [
    {
     "data": {
      "text/plain": [
       "0    1754\n",
       "2    1494\n",
       "3    1425\n",
       "1     961\n",
       "Name: labels, dtype: int64"
      ]
     },
     "execution_count": 209,
     "metadata": {},
     "output_type": "execute_result"
    }
   ],
   "source": [
    "data2['labels'].value_counts()"
   ]
  },
  {
   "cell_type": "code",
   "execution_count": 210,
   "metadata": {},
   "outputs": [
    {
     "data": {
      "text/plain": [
       "<matplotlib.axes._subplots.AxesSubplot at 0x17a572c8>"
      ]
     },
     "execution_count": 210,
     "metadata": {},
     "output_type": "execute_result"
    },
    {
     "data": {
      "image/png": "[encoded data removed]",
      "text/plain": [
       "<Figure size 432x288 with 1 Axes>"
      ]
     },
     "metadata": {
      "needs_background": "light"
     },
     "output_type": "display_data"
    }
   ],
   "source": [
    "## Distribución de los datos en la columna de salida\n",
    "sns.countplot(x='labels', data=data2, palette='hls')"
   ]
  },
  {
   "cell_type": "code",
   "execution_count": 218,
   "metadata": {},
   "outputs": [
    {
     "data": {
      "text/plain": [
       "<matplotlib.axes._subplots.AxesSubplot at 0x17f68148>"
      ]
     },
     "execution_count": 218,
     "metadata": {},
     "output_type": "execute_result"
    },
    {
     "data": {
      "image/png": "[encoded data removed]",
      "text/plain": [
       "<Figure size 432x288 with 1 Axes>"
      ]
     },
     "metadata": {
      "needs_background": "light"
     },
     "output_type": "display_data"
    }
   ],
   "source": [
    "## Comportamiento del abandono entre los Usuarios dependiendo del grupo\n",
    "sns.countplot(x='labels', hue='Churn', data=data2, palette='Set1')"
   ]
  },
  {
   "cell_type": "code",
   "execution_count": 220,
   "metadata": {},
   "outputs": [
    {
     "data": {
      "text/plain": [
       "Churn  labels\n",
       "0      2         1268\n",
       "       3         1084\n",
       "       1          916\n",
       "       0          865\n",
       "1      0          889\n",
       "       3          341\n",
       "       2          226\n",
       "       1           45\n",
       "Name: labels, dtype: int64"
      ]
     },
     "execution_count": 220,
     "metadata": {},
     "output_type": "execute_result"
    }
   ],
   "source": [
    "## Comportamiento del abandono entre los Usuarios dependiendo del grupo\n",
    "data2.groupby('Churn')['labels'].value_counts()"
   ]
  },
  {
   "cell_type": "code",
   "execution_count": null,
   "metadata": {},
   "outputs": [],
   "source": []
  }
 ],
 "metadata": {
  "kernelspec": {
   "display_name": "Python 3",
   "language": "python",
   "name": "python3"
  },
  "language_info": {
   "codemirror_mode": {
    "name": "ipython",
    "version": 3
   },
   "file_extension": ".py",
   "mimetype": "text/x-python",
   "name": "python",
   "nbconvert_exporter": "python",
   "pygments_lexer": "ipython3",
   "version": "3.7.4"
  }
 },
 "nbformat": 4,
 "nbformat_minor": 4
}
